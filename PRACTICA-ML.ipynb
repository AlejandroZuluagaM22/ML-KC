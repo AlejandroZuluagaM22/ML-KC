{
 "cells": [
  {
   "cell_type": "markdown",
   "metadata": {},
   "source": [
    "# **PRACTICA ML KC**\n",
    "## **Estimacion de precio de un airbnb**\n",
    "Basandonos en un dataset real de apartamentos en airbnb haremos un analisis exploratorio aplicando tecnicas de Machine Learning para asi poder lograr una prediccion de precio de un airbnb. Por lo cual nuestra variable objetivo sera el precio y teniendo esto de base usaremos herramientas como:\n",
    "- Pandas\n",
    "- numpy\n",
    "- sklearn\n",
    "- matplotlib"
   ]
  },
  {
   "cell_type": "markdown",
   "metadata": {},
   "source": [
    "### **1. Carga de datos, limpieza de variables y division en train/test**\n",
    "\n",
    "Cargamos los datos para poder revisar las vairables mas importantes que seran las que usaremos para el analisis."
   ]
  },
  {
   "cell_type": "code",
   "execution_count": 2,
   "metadata": {},
   "outputs": [],
   "source": [
    "# Importamos las librerias necesarias\n",
    "import numpy  as np\n",
    "import pandas as pd\n",
    "from sklearn.model_selection import train_test_split\n",
    "import matplotlib.pyplot as plt\n",
    "import seaborn as sns\n",
    "from wordcloud import WordCloud\n",
    "%matplotlib inline"
   ]
  },
  {
   "cell_type": "code",
   "execution_count": 16,
   "metadata": {},
   "outputs": [
    {
     "name": "stdout",
     "output_type": "stream",
     "text": [
      "(14780, 89)\n"
     ]
    },
    {
     "data": {
      "text/html": [
       "<div>\n",
       "<style scoped>\n",
       "    .dataframe tbody tr th:only-of-type {\n",
       "        vertical-align: middle;\n",
       "    }\n",
       "\n",
       "    .dataframe tbody tr th {\n",
       "        vertical-align: top;\n",
       "    }\n",
       "\n",
       "    .dataframe thead th {\n",
       "        text-align: right;\n",
       "    }\n",
       "</style>\n",
       "<table border=\"1\" class=\"dataframe\">\n",
       "  <thead>\n",
       "    <tr style=\"text-align: right;\">\n",
       "      <th></th>\n",
       "      <th>0</th>\n",
       "      <th>1</th>\n",
       "      <th>2</th>\n",
       "      <th>3</th>\n",
       "      <th>4</th>\n",
       "    </tr>\n",
       "  </thead>\n",
       "  <tbody>\n",
       "    <tr>\n",
       "      <th>ID</th>\n",
       "      <td>11210388</td>\n",
       "      <td>17471131</td>\n",
       "      <td>17584891</td>\n",
       "      <td>5398030</td>\n",
       "      <td>18104606</td>\n",
       "    </tr>\n",
       "    <tr>\n",
       "      <th>Listing Url</th>\n",
       "      <td>https://www.airbnb.com/rooms/11210388</td>\n",
       "      <td>https://www.airbnb.com/rooms/17471131</td>\n",
       "      <td>https://www.airbnb.com/rooms/17584891</td>\n",
       "      <td>https://www.airbnb.com/rooms/5398030</td>\n",
       "      <td>https://www.airbnb.com/rooms/18104606</td>\n",
       "    </tr>\n",
       "    <tr>\n",
       "      <th>Scrape ID</th>\n",
       "      <td>20170306202425</td>\n",
       "      <td>20170407214050</td>\n",
       "      <td>20170407214050</td>\n",
       "      <td>20170407214050</td>\n",
       "      <td>20170407214050</td>\n",
       "    </tr>\n",
       "    <tr>\n",
       "      <th>Last Scraped</th>\n",
       "      <td>2017-03-07</td>\n",
       "      <td>2017-04-08</td>\n",
       "      <td>2017-04-08</td>\n",
       "      <td>2017-04-08</td>\n",
       "      <td>2017-04-08</td>\n",
       "    </tr>\n",
       "    <tr>\n",
       "      <th>Name</th>\n",
       "      <td>The Loft-Full Bath-Deck w/View</td>\n",
       "      <td>Claris I, Friendly Rentals</td>\n",
       "      <td>Style Terrace Red, Friendly Rentals</td>\n",
       "      <td>Picasso Suite 1.4 Paseo de Gracia</td>\n",
       "      <td>Smart City Centre Apartment II</td>\n",
       "    </tr>\n",
       "    <tr>\n",
       "      <th>...</th>\n",
       "      <td>...</td>\n",
       "      <td>...</td>\n",
       "      <td>...</td>\n",
       "      <td>...</td>\n",
       "      <td>...</td>\n",
       "    </tr>\n",
       "    <tr>\n",
       "      <th>Cancellation Policy</th>\n",
       "      <td>moderate</td>\n",
       "      <td>super_strict_30</td>\n",
       "      <td>super_strict_30</td>\n",
       "      <td>strict</td>\n",
       "      <td>flexible</td>\n",
       "    </tr>\n",
       "    <tr>\n",
       "      <th>Calculated host listings count</th>\n",
       "      <td>1.0</td>\n",
       "      <td>106.0</td>\n",
       "      <td>106.0</td>\n",
       "      <td>24.0</td>\n",
       "      <td>92.0</td>\n",
       "    </tr>\n",
       "    <tr>\n",
       "      <th>Reviews per Month</th>\n",
       "      <td>3.5</td>\n",
       "      <td>0.86</td>\n",
       "      <td>NaN</td>\n",
       "      <td>1.09</td>\n",
       "      <td>NaN</td>\n",
       "    </tr>\n",
       "    <tr>\n",
       "      <th>Geolocation</th>\n",
       "      <td>30.3373609355,-97.8632766782</td>\n",
       "      <td>41.3896829422,2.17262543017</td>\n",
       "      <td>41.3930345489,2.16217327868</td>\n",
       "      <td>41.3969668101,2.1674178103</td>\n",
       "      <td>41.3886851936,2.15514963616</td>\n",
       "    </tr>\n",
       "    <tr>\n",
       "      <th>Features</th>\n",
       "      <td>Host Is Superhost,Host Has Profile Pic,Host Id...</td>\n",
       "      <td>Host Has Profile Pic,Requires License,Instant ...</td>\n",
       "      <td>Host Has Profile Pic,Requires License,Instant ...</td>\n",
       "      <td>Host Has Profile Pic,Host Identity Verified,Re...</td>\n",
       "      <td>Host Has Profile Pic,Host Identity Verified,Is...</td>\n",
       "    </tr>\n",
       "  </tbody>\n",
       "</table>\n",
       "<p>89 rows × 5 columns</p>\n",
       "</div>"
      ],
      "text/plain": [
       "                                                                                0  \\\n",
       "ID                                                                       11210388   \n",
       "Listing Url                                 https://www.airbnb.com/rooms/11210388   \n",
       "Scrape ID                                                          20170306202425   \n",
       "Last Scraped                                                           2017-03-07   \n",
       "Name                                               The Loft-Full Bath-Deck w/View   \n",
       "...                                                                           ...   \n",
       "Cancellation Policy                                                      moderate   \n",
       "Calculated host listings count                                                1.0   \n",
       "Reviews per Month                                                             3.5   \n",
       "Geolocation                                          30.3373609355,-97.8632766782   \n",
       "Features                        Host Is Superhost,Host Has Profile Pic,Host Id...   \n",
       "\n",
       "                                                                                1  \\\n",
       "ID                                                                       17471131   \n",
       "Listing Url                                 https://www.airbnb.com/rooms/17471131   \n",
       "Scrape ID                                                          20170407214050   \n",
       "Last Scraped                                                           2017-04-08   \n",
       "Name                                                   Claris I, Friendly Rentals   \n",
       "...                                                                           ...   \n",
       "Cancellation Policy                                               super_strict_30   \n",
       "Calculated host listings count                                              106.0   \n",
       "Reviews per Month                                                            0.86   \n",
       "Geolocation                                           41.3896829422,2.17262543017   \n",
       "Features                        Host Has Profile Pic,Requires License,Instant ...   \n",
       "\n",
       "                                                                                2  \\\n",
       "ID                                                                       17584891   \n",
       "Listing Url                                 https://www.airbnb.com/rooms/17584891   \n",
       "Scrape ID                                                          20170407214050   \n",
       "Last Scraped                                                           2017-04-08   \n",
       "Name                                          Style Terrace Red, Friendly Rentals   \n",
       "...                                                                           ...   \n",
       "Cancellation Policy                                               super_strict_30   \n",
       "Calculated host listings count                                              106.0   \n",
       "Reviews per Month                                                             NaN   \n",
       "Geolocation                                           41.3930345489,2.16217327868   \n",
       "Features                        Host Has Profile Pic,Requires License,Instant ...   \n",
       "\n",
       "                                                                                3  \\\n",
       "ID                                                                        5398030   \n",
       "Listing Url                                  https://www.airbnb.com/rooms/5398030   \n",
       "Scrape ID                                                          20170407214050   \n",
       "Last Scraped                                                           2017-04-08   \n",
       "Name                                            Picasso Suite 1.4 Paseo de Gracia   \n",
       "...                                                                           ...   \n",
       "Cancellation Policy                                                        strict   \n",
       "Calculated host listings count                                               24.0   \n",
       "Reviews per Month                                                            1.09   \n",
       "Geolocation                                            41.3969668101,2.1674178103   \n",
       "Features                        Host Has Profile Pic,Host Identity Verified,Re...   \n",
       "\n",
       "                                                                                4  \n",
       "ID                                                                       18104606  \n",
       "Listing Url                                 https://www.airbnb.com/rooms/18104606  \n",
       "Scrape ID                                                          20170407214050  \n",
       "Last Scraped                                                           2017-04-08  \n",
       "Name                                               Smart City Centre Apartment II  \n",
       "...                                                                           ...  \n",
       "Cancellation Policy                                                      flexible  \n",
       "Calculated host listings count                                               92.0  \n",
       "Reviews per Month                                                             NaN  \n",
       "Geolocation                                           41.3886851936,2.15514963616  \n",
       "Features                        Host Has Profile Pic,Host Identity Verified,Is...  \n",
       "\n",
       "[89 rows x 5 columns]"
      ]
     },
     "execution_count": 16,
     "metadata": {},
     "output_type": "execute_result"
    }
   ],
   "source": [
    "airbnb_data = pd.read_csv(\"./data/airbnb-listings-extract.csv\", sep=';', encoding = \"latin\")\n",
    "print(airbnb_data.shape)\n",
    "airbnb_data.head(5).T "
   ]
  },
  {
   "cell_type": "code",
   "execution_count": 10,
   "metadata": {},
   "outputs": [
    {
     "name": "stdout",
     "output_type": "stream",
     "text": [
      "<class 'pandas.core.frame.DataFrame'>\n",
      "RangeIndex: 14780 entries, 0 to 14779\n",
      "Data columns (total 89 columns):\n",
      " #   Column                          Non-Null Count  Dtype  \n",
      "---  ------                          --------------  -----  \n",
      " 0   ID                              14780 non-null  int64  \n",
      " 1   Listing Url                     14780 non-null  object \n",
      " 2   Scrape ID                       14780 non-null  int64  \n",
      " 3   Last Scraped                    14780 non-null  object \n",
      " 4   Name                            14779 non-null  object \n",
      " 5   Summary                         14189 non-null  object \n",
      " 6   Space                           10888 non-null  object \n",
      " 7   Description                     14774 non-null  object \n",
      " 8   Experiences Offered             14780 non-null  object \n",
      " 9   Neighborhood Overview           9134 non-null   object \n",
      " 10  Notes                           5644 non-null   object \n",
      " 11  Transit                         9066 non-null   object \n",
      " 12  Access                          8318 non-null   object \n",
      " 13  Interaction                     8226 non-null   object \n",
      " 14  House Rules                     9619 non-null   object \n",
      " 15  Thumbnail Url                   11960 non-null  object \n",
      " 16  Medium Url                      11960 non-null  object \n",
      " 17  Picture Url                     14761 non-null  object \n",
      " 18  XL Picture Url                  11960 non-null  object \n",
      " 19  Host ID                         14780 non-null  int64  \n",
      " 20  Host URL                        14780 non-null  object \n",
      " 21  Host Name                       14777 non-null  object \n",
      " 22  Host Since                      14777 non-null  object \n",
      " 23  Host Location                   14737 non-null  object \n",
      " 24  Host About                      9539 non-null   object \n",
      " 25  Host Response Time              12881 non-null  object \n",
      " 26  Host Response Rate              12881 non-null  float64\n",
      " 27  Host Acceptance Rate            39 non-null     object \n",
      " 28  Host Thumbnail Url              14777 non-null  object \n",
      " 29  Host Picture Url                14777 non-null  object \n",
      " 30  Host Neighbourhood              10904 non-null  object \n",
      " 31  Host Listings Count             14777 non-null  float64\n",
      " 32  Host Total Listings Count       14777 non-null  float64\n",
      " 33  Host Verifications              14771 non-null  object \n",
      " 34  Street                          14780 non-null  object \n",
      " 35  Neighbourhood                   9551 non-null   object \n",
      " 36  Neighbourhood Cleansed          14780 non-null  object \n",
      " 37  Neighbourhood Group Cleansed    13760 non-null  object \n",
      " 38  City                            14774 non-null  object \n",
      " 39  State                           14636 non-null  object \n",
      " 40  Zipcode                         14274 non-null  object \n",
      " 41  Market                          14723 non-null  object \n",
      " 42  Smart Location                  14780 non-null  object \n",
      " 43  Country Code                    14780 non-null  object \n",
      " 44  Country                         14779 non-null  object \n",
      " 45  Latitude                        14780 non-null  float64\n",
      " 46  Longitude                       14780 non-null  float64\n",
      " 47  Property Type                   14780 non-null  object \n",
      " 48  Room Type                       14780 non-null  object \n",
      " 49  Accommodates                    14780 non-null  int64  \n",
      " 50  Bathrooms                       14725 non-null  float64\n",
      " 51  Bedrooms                        14755 non-null  float64\n",
      " 52  Beds                            14731 non-null  float64\n",
      " 53  Bed Type                        14780 non-null  object \n",
      " 54  Amenities                       14610 non-null  object \n",
      " 55  Square Feet                     598 non-null    float64\n",
      " 56  Price                           14763 non-null  float64\n",
      " 57  Weekly Price                    3590 non-null   float64\n",
      " 58  Monthly Price                   3561 non-null   float64\n",
      " 59  Security Deposit                6256 non-null   float64\n",
      " 60  Cleaning Fee                    8687 non-null   float64\n",
      " 61  Guests Included                 14780 non-null  int64  \n",
      " 62  Extra People                    14780 non-null  int64  \n",
      " 63  Minimum Nights                  14780 non-null  int64  \n",
      " 64  Maximum Nights                  14780 non-null  int64  \n",
      " 65  Calendar Updated                14780 non-null  object \n",
      " 66  Has Availability                12 non-null     object \n",
      " 67  Availability 30                 14780 non-null  int64  \n",
      " 68  Availability 60                 14780 non-null  int64  \n",
      " 69  Availability 90                 14780 non-null  int64  \n",
      " 70  Availability 365                14780 non-null  int64  \n",
      " 71  Calendar last Scraped           14780 non-null  object \n",
      " 72  Number of Reviews               14780 non-null  int64  \n",
      " 73  First Review                    11618 non-null  object \n",
      " 74  Last Review                     11617 non-null  object \n",
      " 75  Review Scores Rating            11476 non-null  float64\n",
      " 76  Review Scores Accuracy          11454 non-null  float64\n",
      " 77  Review Scores Cleanliness       11460 non-null  float64\n",
      " 78  Review Scores Checkin           11443 non-null  float64\n",
      " 79  Review Scores Communication     11460 non-null  float64\n",
      " 80  Review Scores Location          11440 non-null  float64\n",
      " 81  Review Scores Value             11439 non-null  float64\n",
      " 82  License                         349 non-null    object \n",
      " 83  Jurisdiction Names              227 non-null    object \n",
      " 84  Cancellation Policy             14780 non-null  object \n",
      " 85  Calculated host listings count  14776 non-null  float64\n",
      " 86  Reviews per Month               11618 non-null  float64\n",
      " 87  Geolocation                     14780 non-null  object \n",
      " 88  Features                        14779 non-null  object \n",
      "dtypes: float64(23), int64(13), object(53)\n",
      "memory usage: 10.0+ MB\n"
     ]
    }
   ],
   "source": [
    "airbnb_data.info()"
   ]
  },
  {
   "cell_type": "code",
   "execution_count": 21,
   "metadata": {},
   "outputs": [],
   "source": [
    "columns_to_delete = ['ID', 'Listing Url', 'Scrape ID', 'Last Scraped', 'Name', 'Summary', 'Space', 'Description','Experiences Offered',\n",
    "                    'Neighborhood Overview', 'Notes', 'Transit', 'Access', 'Interaction', 'House Rules', 'Thumbnail Url', 'Medium Url',\n",
    "                    'Picture Url', 'XL Picture Url', 'Host ID', 'Host URL', 'Host Name', 'Host Since', 'Host Location', 'Host About', 'Host Response Time', \n",
    "                    'Host Response Rate', 'Host Acceptance Rate', 'Host Thumbnail Url', 'Host Picture Url', \n",
    "                    'Host Neighbourhood', 'Host Listings Count', 'Host Total Listings Count', 'Host Verifications', 'Street', 'Market', 'Smart Location',\n",
    "                    'Latitude', 'Longitude', 'Calendar Updated', 'Has Availability', 'Calendar last Scraped', 'First Review', 'Last Review', 'License', \n",
    "                    'Jurisdiction Names', 'Calculated host listings count', 'Reviews per Month', 'Geolocation', 'Features' ]"
   ]
  },
  {
   "cell_type": "markdown",
   "metadata": {},
   "source": [
    "El criterio usado para la eliminacion de variables puede ser subjetivo, pero en este caso se podrian sacar unos motivos definidos para su eliminacion, entre estos estan:\n",
    "\n",
    "- Todas las columnas que contienen URl's.\n",
    "- Campos descriptivos ya que buscamos obtener el precio de la manera mas objetivo y sumado a esto que el procesamiento de lenguaje natural tan extenso y elevado podria ser dificil.\n",
    "- Informacion del host ya que esta no esta ligada directamente con la propiedad.\n",
    "- Columnas con datos no muy relevantes o redundantes.\n",
    " \n",
    "Por ahora todavia no se descartaran columnas por falta de datos.\n",
    "\n"
   ]
  },
  {
   "cell_type": "code",
   "execution_count": 22,
   "metadata": {},
   "outputs": [],
   "source": [
    "airbnb_data_del = airbnb_data.drop(columns_to_delete, axis =1)"
   ]
  },
  {
   "cell_type": "code",
   "execution_count": 25,
   "metadata": {},
   "outputs": [
    {
     "name": "stdout",
     "output_type": "stream",
     "text": [
      "Dataset completo  (14780, 89)\n",
      "Nuevo dataset filtrado  (14780, 39)\n"
     ]
    }
   ],
   "source": [
    "print(\"Dataset completo \",airbnb_data.shape)\n",
    "print(\"Nuevo dataset filtrado \",airbnb_data_del.shape)"
   ]
  },
  {
   "cell_type": "markdown",
   "metadata": {},
   "source": [
    "Antes de hacer la separacion en train y test es necesario eliminar los valores nulos de la variable objetivo ya que estos claramente son necesarios para el analisis y ademas para que la distribucion en train y test de los datos sea correcta"
   ]
  },
  {
   "cell_type": "code",
   "execution_count": 28,
   "metadata": {},
   "outputs": [
    {
     "data": {
      "text/plain": [
       "(14763, 39)"
      ]
     },
     "execution_count": 28,
     "metadata": {},
     "output_type": "execute_result"
    }
   ],
   "source": [
    "airbnb_data_del = airbnb_data_del[~airbnb_data_del['Price'].isnull()]\n",
    "airbnb_data_del.shape"
   ]
  },
  {
   "cell_type": "markdown",
   "metadata": {},
   "source": [
    "Ahora dividiremos en train y test usando El método train_test_split de sklearn. Dividiremos en una proporcion 70/30 ya que la cantidad de datos no es tan elevada(Si la cantidad de datos fuera mayor podriamos disminuir el % de test)."
   ]
  },
  {
   "cell_type": "code",
   "execution_count": 29,
   "metadata": {},
   "outputs": [
    {
     "name": "stdout",
     "output_type": "stream",
     "text": [
      "Dimensiones del dataset de training: (11810, 39)\n",
      "Dimensiones del dataset de test: (2953, 39)\n"
     ]
    }
   ],
   "source": [
    "train, test = train_test_split(airbnb_data_del, test_size=0.2, shuffle=True, random_state=0)\n",
    "\n",
    "print(f'Dimensiones del dataset de training: {train.shape}')\n",
    "print(f'Dimensiones del dataset de test: {test.shape}')\n",
    "\n",
    "# Guardamos\n",
    "train.to_csv('./data/airbnb_data_del_train.csv', sep=';', decimal='.', index=False)\n",
    "test.to_csv('./data/airbnb_data_del_test.csv', sep=';', decimal='.', index=False)\n"
   ]
  },
  {
   "cell_type": "markdown",
   "metadata": {},
   "source": [
    "### Ahora cargamos el dataset de train y trabajaremos solo con el "
   ]
  },
  {
   "cell_type": "code",
   "execution_count": 30,
   "metadata": {},
   "outputs": [
    {
     "name": "stdout",
     "output_type": "stream",
     "text": [
      "(11810, 39)\n"
     ]
    },
    {
     "data": {
      "text/html": [
       "<div>\n",
       "<style scoped>\n",
       "    .dataframe tbody tr th:only-of-type {\n",
       "        vertical-align: middle;\n",
       "    }\n",
       "\n",
       "    .dataframe tbody tr th {\n",
       "        vertical-align: top;\n",
       "    }\n",
       "\n",
       "    .dataframe thead th {\n",
       "        text-align: right;\n",
       "    }\n",
       "</style>\n",
       "<table border=\"1\" class=\"dataframe\">\n",
       "  <thead>\n",
       "    <tr style=\"text-align: right;\">\n",
       "      <th></th>\n",
       "      <th>0</th>\n",
       "      <th>1</th>\n",
       "      <th>2</th>\n",
       "      <th>3</th>\n",
       "      <th>4</th>\n",
       "    </tr>\n",
       "  </thead>\n",
       "  <tbody>\n",
       "    <tr>\n",
       "      <th>Neighbourhood</th>\n",
       "      <td>Villa de Vallecas</td>\n",
       "      <td>NaN</td>\n",
       "      <td>NaN</td>\n",
       "      <td>Gaztambide</td>\n",
       "      <td>Paddington</td>\n",
       "    </tr>\n",
       "    <tr>\n",
       "      <th>Neighbourhood Cleansed</th>\n",
       "      <td>Casco HistÃÂ³rico de Vallecas</td>\n",
       "      <td>Palacio</td>\n",
       "      <td>Aravaca</td>\n",
       "      <td>Gaztambide</td>\n",
       "      <td>Woollahra</td>\n",
       "    </tr>\n",
       "    <tr>\n",
       "      <th>Neighbourhood Group Cleansed</th>\n",
       "      <td>Villa de Vallecas</td>\n",
       "      <td>Centro</td>\n",
       "      <td>Moncloa - Aravaca</td>\n",
       "      <td>ChamberÃÂ­</td>\n",
       "      <td>NaN</td>\n",
       "    </tr>\n",
       "    <tr>\n",
       "      <th>City</th>\n",
       "      <td>Madrid</td>\n",
       "      <td>Madrid</td>\n",
       "      <td>Aravaca</td>\n",
       "      <td>Madrid</td>\n",
       "      <td>Paddington</td>\n",
       "    </tr>\n",
       "    <tr>\n",
       "      <th>State</th>\n",
       "      <td>Comunidad de Madrid</td>\n",
       "      <td>Comunidad de Madrid</td>\n",
       "      <td>Madrid</td>\n",
       "      <td>Comunidad de Madrid</td>\n",
       "      <td>NSW</td>\n",
       "    </tr>\n",
       "    <tr>\n",
       "      <th>Zipcode</th>\n",
       "      <td>28051</td>\n",
       "      <td>28005</td>\n",
       "      <td>28023</td>\n",
       "      <td>28003</td>\n",
       "      <td>2021</td>\n",
       "    </tr>\n",
       "    <tr>\n",
       "      <th>Country Code</th>\n",
       "      <td>ES</td>\n",
       "      <td>ES</td>\n",
       "      <td>ES</td>\n",
       "      <td>ES</td>\n",
       "      <td>AU</td>\n",
       "    </tr>\n",
       "    <tr>\n",
       "      <th>Country</th>\n",
       "      <td>Spain</td>\n",
       "      <td>Spain</td>\n",
       "      <td>Spain</td>\n",
       "      <td>Spain</td>\n",
       "      <td>Australia</td>\n",
       "    </tr>\n",
       "    <tr>\n",
       "      <th>Property Type</th>\n",
       "      <td>Apartment</td>\n",
       "      <td>Apartment</td>\n",
       "      <td>Apartment</td>\n",
       "      <td>Apartment</td>\n",
       "      <td>House</td>\n",
       "    </tr>\n",
       "    <tr>\n",
       "      <th>Room Type</th>\n",
       "      <td>Entire home/apt</td>\n",
       "      <td>Entire home/apt</td>\n",
       "      <td>Private room</td>\n",
       "      <td>Entire home/apt</td>\n",
       "      <td>Private room</td>\n",
       "    </tr>\n",
       "    <tr>\n",
       "      <th>Accommodates</th>\n",
       "      <td>2</td>\n",
       "      <td>4</td>\n",
       "      <td>1</td>\n",
       "      <td>4</td>\n",
       "      <td>1</td>\n",
       "    </tr>\n",
       "    <tr>\n",
       "      <th>Bathrooms</th>\n",
       "      <td>1.0</td>\n",
       "      <td>1.0</td>\n",
       "      <td>1.0</td>\n",
       "      <td>1.0</td>\n",
       "      <td>1.0</td>\n",
       "    </tr>\n",
       "    <tr>\n",
       "      <th>Bedrooms</th>\n",
       "      <td>1.0</td>\n",
       "      <td>1.0</td>\n",
       "      <td>1.0</td>\n",
       "      <td>1.0</td>\n",
       "      <td>1.0</td>\n",
       "    </tr>\n",
       "    <tr>\n",
       "      <th>Beds</th>\n",
       "      <td>1.0</td>\n",
       "      <td>2.0</td>\n",
       "      <td>1.0</td>\n",
       "      <td>3.0</td>\n",
       "      <td>1.0</td>\n",
       "    </tr>\n",
       "    <tr>\n",
       "      <th>Bed Type</th>\n",
       "      <td>Real Bed</td>\n",
       "      <td>Real Bed</td>\n",
       "      <td>Real Bed</td>\n",
       "      <td>Real Bed</td>\n",
       "      <td>Real Bed</td>\n",
       "    </tr>\n",
       "    <tr>\n",
       "      <th>Amenities</th>\n",
       "      <td>TV,Wireless Internet,Air conditioning,Pool,Kit...</td>\n",
       "      <td>TV,Cable TV,Internet,Wireless Internet,Air con...</td>\n",
       "      <td>Internet,Wireless Internet,Air conditioning,Wh...</td>\n",
       "      <td>TV,Internet,Wireless Internet,Air conditioning...</td>\n",
       "      <td>Cable TV,Internet,Wireless Internet,Kitchen,Wa...</td>\n",
       "    </tr>\n",
       "    <tr>\n",
       "      <th>Square Feet</th>\n",
       "      <td>NaN</td>\n",
       "      <td>NaN</td>\n",
       "      <td>NaN</td>\n",
       "      <td>NaN</td>\n",
       "      <td>NaN</td>\n",
       "    </tr>\n",
       "    <tr>\n",
       "      <th>Price</th>\n",
       "      <td>70.0</td>\n",
       "      <td>80.0</td>\n",
       "      <td>28.0</td>\n",
       "      <td>60.0</td>\n",
       "      <td>120.0</td>\n",
       "    </tr>\n",
       "    <tr>\n",
       "      <th>Weekly Price</th>\n",
       "      <td>400.0</td>\n",
       "      <td>NaN</td>\n",
       "      <td>250.0</td>\n",
       "      <td>NaN</td>\n",
       "      <td>NaN</td>\n",
       "    </tr>\n",
       "    <tr>\n",
       "      <th>Monthly Price</th>\n",
       "      <td>1200.0</td>\n",
       "      <td>NaN</td>\n",
       "      <td>NaN</td>\n",
       "      <td>NaN</td>\n",
       "      <td>NaN</td>\n",
       "    </tr>\n",
       "    <tr>\n",
       "      <th>Security Deposit</th>\n",
       "      <td>100.0</td>\n",
       "      <td>300.0</td>\n",
       "      <td>NaN</td>\n",
       "      <td>200.0</td>\n",
       "      <td>NaN</td>\n",
       "    </tr>\n",
       "    <tr>\n",
       "      <th>Cleaning Fee</th>\n",
       "      <td>NaN</td>\n",
       "      <td>18.0</td>\n",
       "      <td>NaN</td>\n",
       "      <td>30.0</td>\n",
       "      <td>NaN</td>\n",
       "    </tr>\n",
       "    <tr>\n",
       "      <th>Guests Included</th>\n",
       "      <td>1</td>\n",
       "      <td>2</td>\n",
       "      <td>1</td>\n",
       "      <td>2</td>\n",
       "      <td>1</td>\n",
       "    </tr>\n",
       "    <tr>\n",
       "      <th>Extra People</th>\n",
       "      <td>0</td>\n",
       "      <td>21</td>\n",
       "      <td>0</td>\n",
       "      <td>15</td>\n",
       "      <td>60</td>\n",
       "    </tr>\n",
       "    <tr>\n",
       "      <th>Minimum Nights</th>\n",
       "      <td>3</td>\n",
       "      <td>1</td>\n",
       "      <td>1</td>\n",
       "      <td>1</td>\n",
       "      <td>2</td>\n",
       "    </tr>\n",
       "    <tr>\n",
       "      <th>Maximum Nights</th>\n",
       "      <td>30</td>\n",
       "      <td>3</td>\n",
       "      <td>1125</td>\n",
       "      <td>1125</td>\n",
       "      <td>1125</td>\n",
       "    </tr>\n",
       "    <tr>\n",
       "      <th>Availability 30</th>\n",
       "      <td>0</td>\n",
       "      <td>15</td>\n",
       "      <td>30</td>\n",
       "      <td>1</td>\n",
       "      <td>30</td>\n",
       "    </tr>\n",
       "    <tr>\n",
       "      <th>Availability 60</th>\n",
       "      <td>0</td>\n",
       "      <td>45</td>\n",
       "      <td>60</td>\n",
       "      <td>4</td>\n",
       "      <td>60</td>\n",
       "    </tr>\n",
       "    <tr>\n",
       "      <th>Availability 90</th>\n",
       "      <td>0</td>\n",
       "      <td>75</td>\n",
       "      <td>90</td>\n",
       "      <td>23</td>\n",
       "      <td>90</td>\n",
       "    </tr>\n",
       "    <tr>\n",
       "      <th>Availability 365</th>\n",
       "      <td>0</td>\n",
       "      <td>75</td>\n",
       "      <td>365</td>\n",
       "      <td>298</td>\n",
       "      <td>365</td>\n",
       "    </tr>\n",
       "    <tr>\n",
       "      <th>Number of Reviews</th>\n",
       "      <td>3</td>\n",
       "      <td>24</td>\n",
       "      <td>2</td>\n",
       "      <td>62</td>\n",
       "      <td>24</td>\n",
       "    </tr>\n",
       "    <tr>\n",
       "      <th>Review Scores Rating</th>\n",
       "      <td>100.0</td>\n",
       "      <td>98.0</td>\n",
       "      <td>90.0</td>\n",
       "      <td>87.0</td>\n",
       "      <td>100.0</td>\n",
       "    </tr>\n",
       "    <tr>\n",
       "      <th>Review Scores Accuracy</th>\n",
       "      <td>10.0</td>\n",
       "      <td>10.0</td>\n",
       "      <td>10.0</td>\n",
       "      <td>9.0</td>\n",
       "      <td>10.0</td>\n",
       "    </tr>\n",
       "    <tr>\n",
       "      <th>Review Scores Cleanliness</th>\n",
       "      <td>10.0</td>\n",
       "      <td>10.0</td>\n",
       "      <td>9.0</td>\n",
       "      <td>10.0</td>\n",
       "      <td>10.0</td>\n",
       "    </tr>\n",
       "    <tr>\n",
       "      <th>Review Scores Checkin</th>\n",
       "      <td>10.0</td>\n",
       "      <td>10.0</td>\n",
       "      <td>10.0</td>\n",
       "      <td>9.0</td>\n",
       "      <td>10.0</td>\n",
       "    </tr>\n",
       "    <tr>\n",
       "      <th>Review Scores Communication</th>\n",
       "      <td>10.0</td>\n",
       "      <td>10.0</td>\n",
       "      <td>10.0</td>\n",
       "      <td>9.0</td>\n",
       "      <td>10.0</td>\n",
       "    </tr>\n",
       "    <tr>\n",
       "      <th>Review Scores Location</th>\n",
       "      <td>10.0</td>\n",
       "      <td>10.0</td>\n",
       "      <td>10.0</td>\n",
       "      <td>9.0</td>\n",
       "      <td>10.0</td>\n",
       "    </tr>\n",
       "    <tr>\n",
       "      <th>Review Scores Value</th>\n",
       "      <td>10.0</td>\n",
       "      <td>10.0</td>\n",
       "      <td>9.0</td>\n",
       "      <td>9.0</td>\n",
       "      <td>10.0</td>\n",
       "    </tr>\n",
       "    <tr>\n",
       "      <th>Cancellation Policy</th>\n",
       "      <td>moderate</td>\n",
       "      <td>flexible</td>\n",
       "      <td>moderate</td>\n",
       "      <td>moderate</td>\n",
       "      <td>flexible</td>\n",
       "    </tr>\n",
       "  </tbody>\n",
       "</table>\n",
       "</div>"
      ],
      "text/plain": [
       "                                                                              0  \\\n",
       "Neighbourhood                                                 Villa de Vallecas   \n",
       "Neighbourhood Cleansed                           Casco HistÃÂ³rico de Vallecas   \n",
       "Neighbourhood Group Cleansed                                  Villa de Vallecas   \n",
       "City                                                                     Madrid   \n",
       "State                                                       Comunidad de Madrid   \n",
       "Zipcode                                                                   28051   \n",
       "Country Code                                                                 ES   \n",
       "Country                                                                   Spain   \n",
       "Property Type                                                         Apartment   \n",
       "Room Type                                                       Entire home/apt   \n",
       "Accommodates                                                                  2   \n",
       "Bathrooms                                                                   1.0   \n",
       "Bedrooms                                                                    1.0   \n",
       "Beds                                                                        1.0   \n",
       "Bed Type                                                               Real Bed   \n",
       "Amenities                     TV,Wireless Internet,Air conditioning,Pool,Kit...   \n",
       "Square Feet                                                                 NaN   \n",
       "Price                                                                      70.0   \n",
       "Weekly Price                                                              400.0   \n",
       "Monthly Price                                                            1200.0   \n",
       "Security Deposit                                                          100.0   \n",
       "Cleaning Fee                                                                NaN   \n",
       "Guests Included                                                               1   \n",
       "Extra People                                                                  0   \n",
       "Minimum Nights                                                                3   \n",
       "Maximum Nights                                                               30   \n",
       "Availability 30                                                               0   \n",
       "Availability 60                                                               0   \n",
       "Availability 90                                                               0   \n",
       "Availability 365                                                              0   \n",
       "Number of Reviews                                                             3   \n",
       "Review Scores Rating                                                      100.0   \n",
       "Review Scores Accuracy                                                     10.0   \n",
       "Review Scores Cleanliness                                                  10.0   \n",
       "Review Scores Checkin                                                      10.0   \n",
       "Review Scores Communication                                                10.0   \n",
       "Review Scores Location                                                     10.0   \n",
       "Review Scores Value                                                        10.0   \n",
       "Cancellation Policy                                                    moderate   \n",
       "\n",
       "                                                                              1  \\\n",
       "Neighbourhood                                                               NaN   \n",
       "Neighbourhood Cleansed                                                  Palacio   \n",
       "Neighbourhood Group Cleansed                                             Centro   \n",
       "City                                                                     Madrid   \n",
       "State                                                       Comunidad de Madrid   \n",
       "Zipcode                                                                   28005   \n",
       "Country Code                                                                 ES   \n",
       "Country                                                                   Spain   \n",
       "Property Type                                                         Apartment   \n",
       "Room Type                                                       Entire home/apt   \n",
       "Accommodates                                                                  4   \n",
       "Bathrooms                                                                   1.0   \n",
       "Bedrooms                                                                    1.0   \n",
       "Beds                                                                        2.0   \n",
       "Bed Type                                                               Real Bed   \n",
       "Amenities                     TV,Cable TV,Internet,Wireless Internet,Air con...   \n",
       "Square Feet                                                                 NaN   \n",
       "Price                                                                      80.0   \n",
       "Weekly Price                                                                NaN   \n",
       "Monthly Price                                                               NaN   \n",
       "Security Deposit                                                          300.0   \n",
       "Cleaning Fee                                                               18.0   \n",
       "Guests Included                                                               2   \n",
       "Extra People                                                                 21   \n",
       "Minimum Nights                                                                1   \n",
       "Maximum Nights                                                                3   \n",
       "Availability 30                                                              15   \n",
       "Availability 60                                                              45   \n",
       "Availability 90                                                              75   \n",
       "Availability 365                                                             75   \n",
       "Number of Reviews                                                            24   \n",
       "Review Scores Rating                                                       98.0   \n",
       "Review Scores Accuracy                                                     10.0   \n",
       "Review Scores Cleanliness                                                  10.0   \n",
       "Review Scores Checkin                                                      10.0   \n",
       "Review Scores Communication                                                10.0   \n",
       "Review Scores Location                                                     10.0   \n",
       "Review Scores Value                                                        10.0   \n",
       "Cancellation Policy                                                    flexible   \n",
       "\n",
       "                                                                              2  \\\n",
       "Neighbourhood                                                               NaN   \n",
       "Neighbourhood Cleansed                                                  Aravaca   \n",
       "Neighbourhood Group Cleansed                                  Moncloa - Aravaca   \n",
       "City                                                                    Aravaca   \n",
       "State                                                                    Madrid   \n",
       "Zipcode                                                                   28023   \n",
       "Country Code                                                                 ES   \n",
       "Country                                                                   Spain   \n",
       "Property Type                                                         Apartment   \n",
       "Room Type                                                          Private room   \n",
       "Accommodates                                                                  1   \n",
       "Bathrooms                                                                   1.0   \n",
       "Bedrooms                                                                    1.0   \n",
       "Beds                                                                        1.0   \n",
       "Bed Type                                                               Real Bed   \n",
       "Amenities                     Internet,Wireless Internet,Air conditioning,Wh...   \n",
       "Square Feet                                                                 NaN   \n",
       "Price                                                                      28.0   \n",
       "Weekly Price                                                              250.0   \n",
       "Monthly Price                                                               NaN   \n",
       "Security Deposit                                                            NaN   \n",
       "Cleaning Fee                                                                NaN   \n",
       "Guests Included                                                               1   \n",
       "Extra People                                                                  0   \n",
       "Minimum Nights                                                                1   \n",
       "Maximum Nights                                                             1125   \n",
       "Availability 30                                                              30   \n",
       "Availability 60                                                              60   \n",
       "Availability 90                                                              90   \n",
       "Availability 365                                                            365   \n",
       "Number of Reviews                                                             2   \n",
       "Review Scores Rating                                                       90.0   \n",
       "Review Scores Accuracy                                                     10.0   \n",
       "Review Scores Cleanliness                                                   9.0   \n",
       "Review Scores Checkin                                                      10.0   \n",
       "Review Scores Communication                                                10.0   \n",
       "Review Scores Location                                                     10.0   \n",
       "Review Scores Value                                                         9.0   \n",
       "Cancellation Policy                                                    moderate   \n",
       "\n",
       "                                                                              3  \\\n",
       "Neighbourhood                                                        Gaztambide   \n",
       "Neighbourhood Cleansed                                               Gaztambide   \n",
       "Neighbourhood Group Cleansed                                        ChamberÃÂ­   \n",
       "City                                                                     Madrid   \n",
       "State                                                       Comunidad de Madrid   \n",
       "Zipcode                                                                   28003   \n",
       "Country Code                                                                 ES   \n",
       "Country                                                                   Spain   \n",
       "Property Type                                                         Apartment   \n",
       "Room Type                                                       Entire home/apt   \n",
       "Accommodates                                                                  4   \n",
       "Bathrooms                                                                   1.0   \n",
       "Bedrooms                                                                    1.0   \n",
       "Beds                                                                        3.0   \n",
       "Bed Type                                                               Real Bed   \n",
       "Amenities                     TV,Internet,Wireless Internet,Air conditioning...   \n",
       "Square Feet                                                                 NaN   \n",
       "Price                                                                      60.0   \n",
       "Weekly Price                                                                NaN   \n",
       "Monthly Price                                                               NaN   \n",
       "Security Deposit                                                          200.0   \n",
       "Cleaning Fee                                                               30.0   \n",
       "Guests Included                                                               2   \n",
       "Extra People                                                                 15   \n",
       "Minimum Nights                                                                1   \n",
       "Maximum Nights                                                             1125   \n",
       "Availability 30                                                               1   \n",
       "Availability 60                                                               4   \n",
       "Availability 90                                                              23   \n",
       "Availability 365                                                            298   \n",
       "Number of Reviews                                                            62   \n",
       "Review Scores Rating                                                       87.0   \n",
       "Review Scores Accuracy                                                      9.0   \n",
       "Review Scores Cleanliness                                                  10.0   \n",
       "Review Scores Checkin                                                       9.0   \n",
       "Review Scores Communication                                                 9.0   \n",
       "Review Scores Location                                                      9.0   \n",
       "Review Scores Value                                                         9.0   \n",
       "Cancellation Policy                                                    moderate   \n",
       "\n",
       "                                                                              4  \n",
       "Neighbourhood                                                        Paddington  \n",
       "Neighbourhood Cleansed                                                Woollahra  \n",
       "Neighbourhood Group Cleansed                                                NaN  \n",
       "City                                                                 Paddington  \n",
       "State                                                                       NSW  \n",
       "Zipcode                                                                    2021  \n",
       "Country Code                                                                 AU  \n",
       "Country                                                               Australia  \n",
       "Property Type                                                             House  \n",
       "Room Type                                                          Private room  \n",
       "Accommodates                                                                  1  \n",
       "Bathrooms                                                                   1.0  \n",
       "Bedrooms                                                                    1.0  \n",
       "Beds                                                                        1.0  \n",
       "Bed Type                                                               Real Bed  \n",
       "Amenities                     Cable TV,Internet,Wireless Internet,Kitchen,Wa...  \n",
       "Square Feet                                                                 NaN  \n",
       "Price                                                                     120.0  \n",
       "Weekly Price                                                                NaN  \n",
       "Monthly Price                                                               NaN  \n",
       "Security Deposit                                                            NaN  \n",
       "Cleaning Fee                                                                NaN  \n",
       "Guests Included                                                               1  \n",
       "Extra People                                                                 60  \n",
       "Minimum Nights                                                                2  \n",
       "Maximum Nights                                                             1125  \n",
       "Availability 30                                                              30  \n",
       "Availability 60                                                              60  \n",
       "Availability 90                                                              90  \n",
       "Availability 365                                                            365  \n",
       "Number of Reviews                                                            24  \n",
       "Review Scores Rating                                                      100.0  \n",
       "Review Scores Accuracy                                                     10.0  \n",
       "Review Scores Cleanliness                                                  10.0  \n",
       "Review Scores Checkin                                                      10.0  \n",
       "Review Scores Communication                                                10.0  \n",
       "Review Scores Location                                                     10.0  \n",
       "Review Scores Value                                                        10.0  \n",
       "Cancellation Policy                                                    flexible  "
      ]
     },
     "execution_count": 30,
     "metadata": {},
     "output_type": "execute_result"
    }
   ],
   "source": [
    "airbnb_data = pd.read_csv(\"./data/airbnb_data_del_train.csv\", sep=';', encoding = \"latin\")\n",
    "print(airbnb_data.shape)\n",
    "airbnb_data.head(5).T "
   ]
  },
  {
   "cell_type": "markdown",
   "metadata": {},
   "source": [
    "### **2. Analisis exploratorio**\n",
    "\n",
    "Podemos analizar la estructura básica del dataset con las funciones de Pandas que ya conocemos: describe, dtypes, shape, etc."
   ]
  },
  {
   "cell_type": "code",
   "execution_count": 31,
   "metadata": {},
   "outputs": [
    {
     "data": {
      "text/html": [
       "<div>\n",
       "<style scoped>\n",
       "    .dataframe tbody tr th:only-of-type {\n",
       "        vertical-align: middle;\n",
       "    }\n",
       "\n",
       "    .dataframe tbody tr th {\n",
       "        vertical-align: top;\n",
       "    }\n",
       "\n",
       "    .dataframe thead th {\n",
       "        text-align: right;\n",
       "    }\n",
       "</style>\n",
       "<table border=\"1\" class=\"dataframe\">\n",
       "  <thead>\n",
       "    <tr style=\"text-align: right;\">\n",
       "      <th></th>\n",
       "      <th>Accommodates</th>\n",
       "      <th>Bathrooms</th>\n",
       "      <th>Bedrooms</th>\n",
       "      <th>Beds</th>\n",
       "      <th>Square Feet</th>\n",
       "      <th>Price</th>\n",
       "      <th>Weekly Price</th>\n",
       "      <th>Monthly Price</th>\n",
       "      <th>Security Deposit</th>\n",
       "      <th>Cleaning Fee</th>\n",
       "      <th>...</th>\n",
       "      <th>Availability 90</th>\n",
       "      <th>Availability 365</th>\n",
       "      <th>Number of Reviews</th>\n",
       "      <th>Review Scores Rating</th>\n",
       "      <th>Review Scores Accuracy</th>\n",
       "      <th>Review Scores Cleanliness</th>\n",
       "      <th>Review Scores Checkin</th>\n",
       "      <th>Review Scores Communication</th>\n",
       "      <th>Review Scores Location</th>\n",
       "      <th>Review Scores Value</th>\n",
       "    </tr>\n",
       "  </thead>\n",
       "  <tbody>\n",
       "    <tr>\n",
       "      <th>count</th>\n",
       "      <td>11810.000000</td>\n",
       "      <td>11767.000000</td>\n",
       "      <td>11794.000000</td>\n",
       "      <td>11774.000000</td>\n",
       "      <td>470.000000</td>\n",
       "      <td>11810.000000</td>\n",
       "      <td>2889.000000</td>\n",
       "      <td>2866.000000</td>\n",
       "      <td>5012.000000</td>\n",
       "      <td>6902.000000</td>\n",
       "      <td>...</td>\n",
       "      <td>11810.000000</td>\n",
       "      <td>11810.000000</td>\n",
       "      <td>11810.000000</td>\n",
       "      <td>9156.000000</td>\n",
       "      <td>9138.000000</td>\n",
       "      <td>9143.000000</td>\n",
       "      <td>9132.000000</td>\n",
       "      <td>9143.000000</td>\n",
       "      <td>9129.000000</td>\n",
       "      <td>9128.000000</td>\n",
       "    </tr>\n",
       "    <tr>\n",
       "      <th>mean</th>\n",
       "      <td>3.278069</td>\n",
       "      <td>1.285927</td>\n",
       "      <td>1.344328</td>\n",
       "      <td>2.047647</td>\n",
       "      <td>393.468085</td>\n",
       "      <td>73.970449</td>\n",
       "      <td>375.876082</td>\n",
       "      <td>1430.153524</td>\n",
       "      <td>188.587590</td>\n",
       "      <td>31.678934</td>\n",
       "      <td>...</td>\n",
       "      <td>39.929043</td>\n",
       "      <td>202.670872</td>\n",
       "      <td>22.673328</td>\n",
       "      <td>91.692988</td>\n",
       "      <td>9.416503</td>\n",
       "      <td>9.329542</td>\n",
       "      <td>9.625055</td>\n",
       "      <td>9.650334</td>\n",
       "      <td>9.537737</td>\n",
       "      <td>9.220640</td>\n",
       "    </tr>\n",
       "    <tr>\n",
       "      <th>std</th>\n",
       "      <td>2.106103</td>\n",
       "      <td>0.669079</td>\n",
       "      <td>0.903121</td>\n",
       "      <td>1.627982</td>\n",
       "      <td>622.031055</td>\n",
       "      <td>73.519884</td>\n",
       "      <td>194.099460</td>\n",
       "      <td>1256.968467</td>\n",
       "      <td>112.343611</td>\n",
       "      <td>29.920051</td>\n",
       "      <td>...</td>\n",
       "      <td>29.677101</td>\n",
       "      <td>127.830351</td>\n",
       "      <td>38.430648</td>\n",
       "      <td>8.951523</td>\n",
       "      <td>0.911829</td>\n",
       "      <td>0.988121</td>\n",
       "      <td>0.800708</td>\n",
       "      <td>0.763496</td>\n",
       "      <td>0.768381</td>\n",
       "      <td>0.943781</td>\n",
       "    </tr>\n",
       "    <tr>\n",
       "      <th>min</th>\n",
       "      <td>1.000000</td>\n",
       "      <td>0.000000</td>\n",
       "      <td>0.000000</td>\n",
       "      <td>1.000000</td>\n",
       "      <td>0.000000</td>\n",
       "      <td>9.000000</td>\n",
       "      <td>70.000000</td>\n",
       "      <td>250.000000</td>\n",
       "      <td>0.000000</td>\n",
       "      <td>0.000000</td>\n",
       "      <td>...</td>\n",
       "      <td>0.000000</td>\n",
       "      <td>0.000000</td>\n",
       "      <td>0.000000</td>\n",
       "      <td>20.000000</td>\n",
       "      <td>2.000000</td>\n",
       "      <td>2.000000</td>\n",
       "      <td>2.000000</td>\n",
       "      <td>2.000000</td>\n",
       "      <td>2.000000</td>\n",
       "      <td>2.000000</td>\n",
       "    </tr>\n",
       "    <tr>\n",
       "      <th>25%</th>\n",
       "      <td>2.000000</td>\n",
       "      <td>1.000000</td>\n",
       "      <td>1.000000</td>\n",
       "      <td>1.000000</td>\n",
       "      <td>0.000000</td>\n",
       "      <td>34.000000</td>\n",
       "      <td>220.000000</td>\n",
       "      <td>720.000000</td>\n",
       "      <td>100.000000</td>\n",
       "      <td>15.000000</td>\n",
       "      <td>...</td>\n",
       "      <td>12.000000</td>\n",
       "      <td>79.250000</td>\n",
       "      <td>1.000000</td>\n",
       "      <td>89.000000</td>\n",
       "      <td>9.000000</td>\n",
       "      <td>9.000000</td>\n",
       "      <td>9.000000</td>\n",
       "      <td>9.000000</td>\n",
       "      <td>9.000000</td>\n",
       "      <td>9.000000</td>\n",
       "    </tr>\n",
       "    <tr>\n",
       "      <th>50%</th>\n",
       "      <td>3.000000</td>\n",
       "      <td>1.000000</td>\n",
       "      <td>1.000000</td>\n",
       "      <td>2.000000</td>\n",
       "      <td>108.000000</td>\n",
       "      <td>55.000000</td>\n",
       "      <td>350.000000</td>\n",
       "      <td>1200.000000</td>\n",
       "      <td>150.000000</td>\n",
       "      <td>25.000000</td>\n",
       "      <td>...</td>\n",
       "      <td>38.000000</td>\n",
       "      <td>240.000000</td>\n",
       "      <td>7.000000</td>\n",
       "      <td>94.000000</td>\n",
       "      <td>10.000000</td>\n",
       "      <td>10.000000</td>\n",
       "      <td>10.000000</td>\n",
       "      <td>10.000000</td>\n",
       "      <td>10.000000</td>\n",
       "      <td>9.000000</td>\n",
       "    </tr>\n",
       "    <tr>\n",
       "      <th>75%</th>\n",
       "      <td>4.000000</td>\n",
       "      <td>1.000000</td>\n",
       "      <td>2.000000</td>\n",
       "      <td>2.000000</td>\n",
       "      <td>646.000000</td>\n",
       "      <td>86.000000</td>\n",
       "      <td>499.000000</td>\n",
       "      <td>1725.000000</td>\n",
       "      <td>200.000000</td>\n",
       "      <td>40.000000</td>\n",
       "      <td>...</td>\n",
       "      <td>65.000000</td>\n",
       "      <td>319.000000</td>\n",
       "      <td>27.000000</td>\n",
       "      <td>98.000000</td>\n",
       "      <td>10.000000</td>\n",
       "      <td>10.000000</td>\n",
       "      <td>10.000000</td>\n",
       "      <td>10.000000</td>\n",
       "      <td>10.000000</td>\n",
       "      <td>10.000000</td>\n",
       "    </tr>\n",
       "    <tr>\n",
       "      <th>max</th>\n",
       "      <td>16.000000</td>\n",
       "      <td>8.000000</td>\n",
       "      <td>10.000000</td>\n",
       "      <td>16.000000</td>\n",
       "      <td>6997.000000</td>\n",
       "      <td>999.000000</td>\n",
       "      <td>999.000000</td>\n",
       "      <td>25000.000000</td>\n",
       "      <td>950.000000</td>\n",
       "      <td>500.000000</td>\n",
       "      <td>...</td>\n",
       "      <td>90.000000</td>\n",
       "      <td>365.000000</td>\n",
       "      <td>446.000000</td>\n",
       "      <td>100.000000</td>\n",
       "      <td>10.000000</td>\n",
       "      <td>10.000000</td>\n",
       "      <td>10.000000</td>\n",
       "      <td>10.000000</td>\n",
       "      <td>10.000000</td>\n",
       "      <td>10.000000</td>\n",
       "    </tr>\n",
       "  </tbody>\n",
       "</table>\n",
       "<p>8 rows × 26 columns</p>\n",
       "</div>"
      ],
      "text/plain": [
       "       Accommodates     Bathrooms      Bedrooms          Beds  Square Feet  \\\n",
       "count  11810.000000  11767.000000  11794.000000  11774.000000   470.000000   \n",
       "mean       3.278069      1.285927      1.344328      2.047647   393.468085   \n",
       "std        2.106103      0.669079      0.903121      1.627982   622.031055   \n",
       "min        1.000000      0.000000      0.000000      1.000000     0.000000   \n",
       "25%        2.000000      1.000000      1.000000      1.000000     0.000000   \n",
       "50%        3.000000      1.000000      1.000000      2.000000   108.000000   \n",
       "75%        4.000000      1.000000      2.000000      2.000000   646.000000   \n",
       "max       16.000000      8.000000     10.000000     16.000000  6997.000000   \n",
       "\n",
       "              Price  Weekly Price  Monthly Price  Security Deposit  \\\n",
       "count  11810.000000   2889.000000    2866.000000       5012.000000   \n",
       "mean      73.970449    375.876082    1430.153524        188.587590   \n",
       "std       73.519884    194.099460    1256.968467        112.343611   \n",
       "min        9.000000     70.000000     250.000000          0.000000   \n",
       "25%       34.000000    220.000000     720.000000        100.000000   \n",
       "50%       55.000000    350.000000    1200.000000        150.000000   \n",
       "75%       86.000000    499.000000    1725.000000        200.000000   \n",
       "max      999.000000    999.000000   25000.000000        950.000000   \n",
       "\n",
       "       Cleaning Fee  ...  Availability 90  Availability 365  \\\n",
       "count   6902.000000  ...     11810.000000      11810.000000   \n",
       "mean      31.678934  ...        39.929043        202.670872   \n",
       "std       29.920051  ...        29.677101        127.830351   \n",
       "min        0.000000  ...         0.000000          0.000000   \n",
       "25%       15.000000  ...        12.000000         79.250000   \n",
       "50%       25.000000  ...        38.000000        240.000000   \n",
       "75%       40.000000  ...        65.000000        319.000000   \n",
       "max      500.000000  ...        90.000000        365.000000   \n",
       "\n",
       "       Number of Reviews  Review Scores Rating  Review Scores Accuracy  \\\n",
       "count       11810.000000           9156.000000             9138.000000   \n",
       "mean           22.673328             91.692988                9.416503   \n",
       "std            38.430648              8.951523                0.911829   \n",
       "min             0.000000             20.000000                2.000000   \n",
       "25%             1.000000             89.000000                9.000000   \n",
       "50%             7.000000             94.000000               10.000000   \n",
       "75%            27.000000             98.000000               10.000000   \n",
       "max           446.000000            100.000000               10.000000   \n",
       "\n",
       "       Review Scores Cleanliness  Review Scores Checkin  \\\n",
       "count                9143.000000            9132.000000   \n",
       "mean                    9.329542               9.625055   \n",
       "std                     0.988121               0.800708   \n",
       "min                     2.000000               2.000000   \n",
       "25%                     9.000000               9.000000   \n",
       "50%                    10.000000              10.000000   \n",
       "75%                    10.000000              10.000000   \n",
       "max                    10.000000              10.000000   \n",
       "\n",
       "       Review Scores Communication  Review Scores Location  \\\n",
       "count                  9143.000000             9129.000000   \n",
       "mean                      9.650334                9.537737   \n",
       "std                       0.763496                0.768381   \n",
       "min                       2.000000                2.000000   \n",
       "25%                       9.000000                9.000000   \n",
       "50%                      10.000000               10.000000   \n",
       "75%                      10.000000               10.000000   \n",
       "max                      10.000000               10.000000   \n",
       "\n",
       "       Review Scores Value  \n",
       "count          9128.000000  \n",
       "mean              9.220640  \n",
       "std               0.943781  \n",
       "min               2.000000  \n",
       "25%               9.000000  \n",
       "50%               9.000000  \n",
       "75%              10.000000  \n",
       "max              10.000000  \n",
       "\n",
       "[8 rows x 26 columns]"
      ]
     },
     "execution_count": 31,
     "metadata": {},
     "output_type": "execute_result"
    }
   ],
   "source": [
    "airbnb_data.describe()"
   ]
  },
  {
   "cell_type": "markdown",
   "metadata": {},
   "source": [
    "Al revisar la cuenta de datos se puede ver que en la columna *Square Feet* faltan muchos datos (470 de 11810)- Por lo cual revisaremos variable a variable la cantidad de datos nulos."
   ]
  },
  {
   "cell_type": "code",
   "execution_count": 32,
   "metadata": {},
   "outputs": [
    {
     "data": {
      "text/plain": [
       "Neighbourhood                    4190\n",
       "Neighbourhood Cleansed              0\n",
       "Neighbourhood Group Cleansed      818\n",
       "City                                5\n",
       "State                             106\n",
       "Zipcode                           392\n",
       "Country Code                        0\n",
       "Country                             1\n",
       "Property Type                       0\n",
       "Room Type                           0\n",
       "Accommodates                        0\n",
       "Bathrooms                          43\n",
       "Bedrooms                           16\n",
       "Beds                               36\n",
       "Bed Type                            0\n",
       "Amenities                         140\n",
       "Square Feet                     11340\n",
       "Price                               0\n",
       "Weekly Price                     8921\n",
       "Monthly Price                    8944\n",
       "Security Deposit                 6798\n",
       "Cleaning Fee                     4908\n",
       "Guests Included                     0\n",
       "Extra People                        0\n",
       "Minimum Nights                      0\n",
       "Maximum Nights                      0\n",
       "Availability 30                     0\n",
       "Availability 60                     0\n",
       "Availability 90                     0\n",
       "Availability 365                    0\n",
       "Number of Reviews                   0\n",
       "Review Scores Rating             2654\n",
       "Review Scores Accuracy           2672\n",
       "Review Scores Cleanliness        2667\n",
       "Review Scores Checkin            2678\n",
       "Review Scores Communication      2667\n",
       "Review Scores Location           2681\n",
       "Review Scores Value              2682\n",
       "Cancellation Policy                 0\n",
       "dtype: int64"
      ]
     },
     "execution_count": 32,
     "metadata": {},
     "output_type": "execute_result"
    }
   ],
   "source": [
    "airbnb_data.isnull().sum()"
   ]
  },
  {
   "cell_type": "markdown",
   "metadata": {},
   "source": [
    "Al ver la cantidad de nulos en cada variable podemos ver de cuales de estas precindir y cuales de estas podriamos simplemente imputar. \n",
    "\n",
    "Para este caso eliminaremos las columnas Neighbourhood, Square Feet, Weekly Prince, Monthly Price, Security Deposit, Cleaning Fee (Podriamos tambien eliminar las columnas de Review pero en este caso seria mejor simplemente borrar los datos nulos ya que esta columna puede ser de gran valor en el analisis) y para las demas columnas solo imputaremos sus datos dependiendo de si son variables numericas o si son tipo texto u objeto. "
   ]
  },
  {
   "cell_type": "code",
   "execution_count": 33,
   "metadata": {},
   "outputs": [
    {
     "ename": "KeyError",
     "evalue": "\"['Neighbourhood'] not found in axis\"",
     "output_type": "error",
     "traceback": [
      "\u001b[1;31m---------------------------------------------------------------------------\u001b[0m",
      "\u001b[1;31mKeyError\u001b[0m                                  Traceback (most recent call last)",
      "Cell \u001b[1;32mIn[35], line 1\u001b[0m\n\u001b[1;32m----> 1\u001b[0m \u001b[43mairbnb_data\u001b[49m\u001b[38;5;241;43m.\u001b[39;49m\u001b[43mdrop\u001b[49m\u001b[43m(\u001b[49m\u001b[43mcolumns\u001b[49m\u001b[38;5;241;43m=\u001b[39;49m\u001b[43m \u001b[49m\u001b[38;5;124;43m'\u001b[39;49m\u001b[38;5;124;43mNeighbourhood\u001b[39;49m\u001b[38;5;124;43m'\u001b[39;49m\u001b[43m,\u001b[49m\u001b[43m \u001b[49m\u001b[43maxis\u001b[49m\u001b[38;5;241;43m=\u001b[39;49m\u001b[38;5;241;43m1\u001b[39;49m\u001b[43m,\u001b[49m\u001b[43m \u001b[49m\u001b[43minplace\u001b[49m\u001b[38;5;241;43m=\u001b[39;49m\u001b[38;5;28;43;01mTrue\u001b[39;49;00m\u001b[43m)\u001b[49m\n\u001b[0;32m      2\u001b[0m airbnb_data\u001b[38;5;241m.\u001b[39mdrop(columns\u001b[38;5;241m=\u001b[39m \u001b[38;5;124m'\u001b[39m\u001b[38;5;124mSquare Feet\u001b[39m\u001b[38;5;124m'\u001b[39m, axis\u001b[38;5;241m=\u001b[39m\u001b[38;5;241m1\u001b[39m, inplace\u001b[38;5;241m=\u001b[39m\u001b[38;5;28;01mTrue\u001b[39;00m)\n\u001b[0;32m      3\u001b[0m airbnb_data\u001b[38;5;241m.\u001b[39mdrop(columns\u001b[38;5;241m=\u001b[39m \u001b[38;5;124m'\u001b[39m\u001b[38;5;124mWeekly Price\u001b[39m\u001b[38;5;124m'\u001b[39m, axis\u001b[38;5;241m=\u001b[39m\u001b[38;5;241m1\u001b[39m, inplace\u001b[38;5;241m=\u001b[39m\u001b[38;5;28;01mTrue\u001b[39;00m)\n",
      "File \u001b[1;32mc:\\Users\\Alejandro\\AppData\\Local\\Programs\\Python\\Python312\\Lib\\site-packages\\pandas\\core\\frame.py:5581\u001b[0m, in \u001b[0;36mDataFrame.drop\u001b[1;34m(self, labels, axis, index, columns, level, inplace, errors)\u001b[0m\n\u001b[0;32m   5433\u001b[0m \u001b[38;5;28;01mdef\u001b[39;00m \u001b[38;5;21mdrop\u001b[39m(\n\u001b[0;32m   5434\u001b[0m     \u001b[38;5;28mself\u001b[39m,\n\u001b[0;32m   5435\u001b[0m     labels: IndexLabel \u001b[38;5;241m|\u001b[39m \u001b[38;5;28;01mNone\u001b[39;00m \u001b[38;5;241m=\u001b[39m \u001b[38;5;28;01mNone\u001b[39;00m,\n\u001b[1;32m   (...)\u001b[0m\n\u001b[0;32m   5442\u001b[0m     errors: IgnoreRaise \u001b[38;5;241m=\u001b[39m \u001b[38;5;124m\"\u001b[39m\u001b[38;5;124mraise\u001b[39m\u001b[38;5;124m\"\u001b[39m,\n\u001b[0;32m   5443\u001b[0m ) \u001b[38;5;241m-\u001b[39m\u001b[38;5;241m>\u001b[39m DataFrame \u001b[38;5;241m|\u001b[39m \u001b[38;5;28;01mNone\u001b[39;00m:\n\u001b[0;32m   5444\u001b[0m \u001b[38;5;250m    \u001b[39m\u001b[38;5;124;03m\"\"\"\u001b[39;00m\n\u001b[0;32m   5445\u001b[0m \u001b[38;5;124;03m    Drop specified labels from rows or columns.\u001b[39;00m\n\u001b[0;32m   5446\u001b[0m \n\u001b[1;32m   (...)\u001b[0m\n\u001b[0;32m   5579\u001b[0m \u001b[38;5;124;03m            weight  1.0     0.8\u001b[39;00m\n\u001b[0;32m   5580\u001b[0m \u001b[38;5;124;03m    \"\"\"\u001b[39;00m\n\u001b[1;32m-> 5581\u001b[0m     \u001b[38;5;28;01mreturn\u001b[39;00m \u001b[38;5;28;43msuper\u001b[39;49m\u001b[43m(\u001b[49m\u001b[43m)\u001b[49m\u001b[38;5;241;43m.\u001b[39;49m\u001b[43mdrop\u001b[49m\u001b[43m(\u001b[49m\n\u001b[0;32m   5582\u001b[0m \u001b[43m        \u001b[49m\u001b[43mlabels\u001b[49m\u001b[38;5;241;43m=\u001b[39;49m\u001b[43mlabels\u001b[49m\u001b[43m,\u001b[49m\n\u001b[0;32m   5583\u001b[0m \u001b[43m        \u001b[49m\u001b[43maxis\u001b[49m\u001b[38;5;241;43m=\u001b[39;49m\u001b[43maxis\u001b[49m\u001b[43m,\u001b[49m\n\u001b[0;32m   5584\u001b[0m \u001b[43m        \u001b[49m\u001b[43mindex\u001b[49m\u001b[38;5;241;43m=\u001b[39;49m\u001b[43mindex\u001b[49m\u001b[43m,\u001b[49m\n\u001b[0;32m   5585\u001b[0m \u001b[43m        \u001b[49m\u001b[43mcolumns\u001b[49m\u001b[38;5;241;43m=\u001b[39;49m\u001b[43mcolumns\u001b[49m\u001b[43m,\u001b[49m\n\u001b[0;32m   5586\u001b[0m \u001b[43m        \u001b[49m\u001b[43mlevel\u001b[49m\u001b[38;5;241;43m=\u001b[39;49m\u001b[43mlevel\u001b[49m\u001b[43m,\u001b[49m\n\u001b[0;32m   5587\u001b[0m \u001b[43m        \u001b[49m\u001b[43minplace\u001b[49m\u001b[38;5;241;43m=\u001b[39;49m\u001b[43minplace\u001b[49m\u001b[43m,\u001b[49m\n\u001b[0;32m   5588\u001b[0m \u001b[43m        \u001b[49m\u001b[43merrors\u001b[49m\u001b[38;5;241;43m=\u001b[39;49m\u001b[43merrors\u001b[49m\u001b[43m,\u001b[49m\n\u001b[0;32m   5589\u001b[0m \u001b[43m    \u001b[49m\u001b[43m)\u001b[49m\n",
      "File \u001b[1;32mc:\\Users\\Alejandro\\AppData\\Local\\Programs\\Python\\Python312\\Lib\\site-packages\\pandas\\core\\generic.py:4788\u001b[0m, in \u001b[0;36mNDFrame.drop\u001b[1;34m(self, labels, axis, index, columns, level, inplace, errors)\u001b[0m\n\u001b[0;32m   4786\u001b[0m \u001b[38;5;28;01mfor\u001b[39;00m axis, labels \u001b[38;5;129;01min\u001b[39;00m axes\u001b[38;5;241m.\u001b[39mitems():\n\u001b[0;32m   4787\u001b[0m     \u001b[38;5;28;01mif\u001b[39;00m labels \u001b[38;5;129;01mis\u001b[39;00m \u001b[38;5;129;01mnot\u001b[39;00m \u001b[38;5;28;01mNone\u001b[39;00m:\n\u001b[1;32m-> 4788\u001b[0m         obj \u001b[38;5;241m=\u001b[39m \u001b[43mobj\u001b[49m\u001b[38;5;241;43m.\u001b[39;49m\u001b[43m_drop_axis\u001b[49m\u001b[43m(\u001b[49m\u001b[43mlabels\u001b[49m\u001b[43m,\u001b[49m\u001b[43m \u001b[49m\u001b[43maxis\u001b[49m\u001b[43m,\u001b[49m\u001b[43m \u001b[49m\u001b[43mlevel\u001b[49m\u001b[38;5;241;43m=\u001b[39;49m\u001b[43mlevel\u001b[49m\u001b[43m,\u001b[49m\u001b[43m \u001b[49m\u001b[43merrors\u001b[49m\u001b[38;5;241;43m=\u001b[39;49m\u001b[43merrors\u001b[49m\u001b[43m)\u001b[49m\n\u001b[0;32m   4790\u001b[0m \u001b[38;5;28;01mif\u001b[39;00m inplace:\n\u001b[0;32m   4791\u001b[0m     \u001b[38;5;28mself\u001b[39m\u001b[38;5;241m.\u001b[39m_update_inplace(obj)\n",
      "File \u001b[1;32mc:\\Users\\Alejandro\\AppData\\Local\\Programs\\Python\\Python312\\Lib\\site-packages\\pandas\\core\\generic.py:4830\u001b[0m, in \u001b[0;36mNDFrame._drop_axis\u001b[1;34m(self, labels, axis, level, errors, only_slice)\u001b[0m\n\u001b[0;32m   4828\u001b[0m         new_axis \u001b[38;5;241m=\u001b[39m axis\u001b[38;5;241m.\u001b[39mdrop(labels, level\u001b[38;5;241m=\u001b[39mlevel, errors\u001b[38;5;241m=\u001b[39merrors)\n\u001b[0;32m   4829\u001b[0m     \u001b[38;5;28;01melse\u001b[39;00m:\n\u001b[1;32m-> 4830\u001b[0m         new_axis \u001b[38;5;241m=\u001b[39m \u001b[43maxis\u001b[49m\u001b[38;5;241;43m.\u001b[39;49m\u001b[43mdrop\u001b[49m\u001b[43m(\u001b[49m\u001b[43mlabels\u001b[49m\u001b[43m,\u001b[49m\u001b[43m \u001b[49m\u001b[43merrors\u001b[49m\u001b[38;5;241;43m=\u001b[39;49m\u001b[43merrors\u001b[49m\u001b[43m)\u001b[49m\n\u001b[0;32m   4831\u001b[0m     indexer \u001b[38;5;241m=\u001b[39m axis\u001b[38;5;241m.\u001b[39mget_indexer(new_axis)\n\u001b[0;32m   4833\u001b[0m \u001b[38;5;66;03m# Case for non-unique axis\u001b[39;00m\n\u001b[0;32m   4834\u001b[0m \u001b[38;5;28;01melse\u001b[39;00m:\n",
      "File \u001b[1;32mc:\\Users\\Alejandro\\AppData\\Local\\Programs\\Python\\Python312\\Lib\\site-packages\\pandas\\core\\indexes\\base.py:7070\u001b[0m, in \u001b[0;36mIndex.drop\u001b[1;34m(self, labels, errors)\u001b[0m\n\u001b[0;32m   7068\u001b[0m \u001b[38;5;28;01mif\u001b[39;00m mask\u001b[38;5;241m.\u001b[39many():\n\u001b[0;32m   7069\u001b[0m     \u001b[38;5;28;01mif\u001b[39;00m errors \u001b[38;5;241m!=\u001b[39m \u001b[38;5;124m\"\u001b[39m\u001b[38;5;124mignore\u001b[39m\u001b[38;5;124m\"\u001b[39m:\n\u001b[1;32m-> 7070\u001b[0m         \u001b[38;5;28;01mraise\u001b[39;00m \u001b[38;5;167;01mKeyError\u001b[39;00m(\u001b[38;5;124mf\u001b[39m\u001b[38;5;124m\"\u001b[39m\u001b[38;5;132;01m{\u001b[39;00mlabels[mask]\u001b[38;5;241m.\u001b[39mtolist()\u001b[38;5;132;01m}\u001b[39;00m\u001b[38;5;124m not found in axis\u001b[39m\u001b[38;5;124m\"\u001b[39m)\n\u001b[0;32m   7071\u001b[0m     indexer \u001b[38;5;241m=\u001b[39m indexer[\u001b[38;5;241m~\u001b[39mmask]\n\u001b[0;32m   7072\u001b[0m \u001b[38;5;28;01mreturn\u001b[39;00m \u001b[38;5;28mself\u001b[39m\u001b[38;5;241m.\u001b[39mdelete(indexer)\n",
      "\u001b[1;31mKeyError\u001b[0m: \"['Neighbourhood'] not found in axis\""
     ]
    }
   ],
   "source": [
    "airbnb_data.drop(columns= 'Neighbourhood', axis=1, inplace=True)\n",
    "airbnb_data.drop(columns= 'Square Feet', axis=1, inplace=True)\n",
    "airbnb_data.drop(columns= 'Weekly Price', axis=1, inplace=True)\n",
    "airbnb_data.drop(columns= 'Monthly Price', axis=1, inplace=True)\n",
    "airbnb_data.drop(columns= 'Security Deposit', axis=1, inplace=True)\n",
    "airbnb_data.drop(columns= 'Cleaning Fee', axis=1, inplace=True)"
   ]
  },
  {
   "cell_type": "code",
   "execution_count": 34,
   "metadata": {},
   "outputs": [
    {
     "data": {
      "text/plain": [
       "Neighbourhood Cleansed           object\n",
       "Neighbourhood Group Cleansed     object\n",
       "City                             object\n",
       "State                            object\n",
       "Zipcode                          object\n",
       "Country Code                     object\n",
       "Country                          object\n",
       "Property Type                    object\n",
       "Room Type                        object\n",
       "Accommodates                      int64\n",
       "Bathrooms                       float64\n",
       "Bedrooms                        float64\n",
       "Beds                            float64\n",
       "Bed Type                         object\n",
       "Amenities                        object\n",
       "Price                           float64\n",
       "Guests Included                   int64\n",
       "Extra People                      int64\n",
       "Minimum Nights                    int64\n",
       "Maximum Nights                    int64\n",
       "Availability 30                   int64\n",
       "Availability 60                   int64\n",
       "Availability 90                   int64\n",
       "Availability 365                  int64\n",
       "Number of Reviews                 int64\n",
       "Review Scores Rating            float64\n",
       "Review Scores Accuracy          float64\n",
       "Review Scores Cleanliness       float64\n",
       "Review Scores Checkin           float64\n",
       "Review Scores Communication     float64\n",
       "Review Scores Location          float64\n",
       "Review Scores Value             float64\n",
       "Cancellation Policy              object\n",
       "dtype: object"
      ]
     },
     "execution_count": 34,
     "metadata": {},
     "output_type": "execute_result"
    }
   ],
   "source": [
    "airbnb_data.dtypes"
   ]
  },
  {
   "cell_type": "code",
   "execution_count": 36,
   "metadata": {},
   "outputs": [
    {
     "data": {
      "text/plain": [
       "Accommodates                      0\n",
       "Bathrooms                        43\n",
       "Bedrooms                         16\n",
       "Beds                             36\n",
       "Price                             0\n",
       "Guests Included                   0\n",
       "Extra People                      0\n",
       "Minimum Nights                    0\n",
       "Maximum Nights                    0\n",
       "Availability 30                   0\n",
       "Availability 60                   0\n",
       "Availability 90                   0\n",
       "Availability 365                  0\n",
       "Number of Reviews                 0\n",
       "Review Scores Rating           2654\n",
       "Review Scores Accuracy         2672\n",
       "Review Scores Cleanliness      2667\n",
       "Review Scores Checkin          2678\n",
       "Review Scores Communication    2667\n",
       "Review Scores Location         2681\n",
       "Review Scores Value            2682\n",
       "dtype: int64"
      ]
     },
     "execution_count": 36,
     "metadata": {},
     "output_type": "execute_result"
    }
   ],
   "source": [
    "airbnb_data.select_dtypes(include=['float64', 'int64']).isnull().sum()"
   ]
  },
  {
   "cell_type": "code",
   "execution_count": 44,
   "metadata": {},
   "outputs": [
    {
     "name": "stdout",
     "output_type": "stream",
     "text": [
      "Accommodates                   0\n",
      "Bathrooms                      0\n",
      "Bedrooms                       0\n",
      "Beds                           0\n",
      "Price                          0\n",
      "Guests Included                0\n",
      "Extra People                   0\n",
      "Minimum Nights                 0\n",
      "Maximum Nights                 0\n",
      "Availability 30                0\n",
      "Availability 60                0\n",
      "Availability 90                0\n",
      "Availability 365               0\n",
      "Number of Reviews              0\n",
      "Review Scores Rating           0\n",
      "Review Scores Accuracy         0\n",
      "Review Scores Cleanliness      0\n",
      "Review Scores Checkin          0\n",
      "Review Scores Communication    0\n",
      "Review Scores Location         0\n",
      "Review Scores Value            0\n",
      "dtype: int64\n"
     ]
    },
    {
     "name": "stderr",
     "output_type": "stream",
     "text": [
      "C:\\Users\\Alejandro\\AppData\\Local\\Temp\\ipykernel_15312\\3871958210.py:5: FutureWarning: A value is trying to be set on a copy of a DataFrame or Series through chained assignment using an inplace method.\n",
      "The behavior will change in pandas 3.0. This inplace method will never work because the intermediate object on which we are setting values always behaves as a copy.\n",
      "\n",
      "For example, when doing 'df[col].method(value, inplace=True)', try using 'df.method({col: value}, inplace=True)' or df[col] = df[col].method(value) instead, to perform the operation inplace on the original object.\n",
      "\n",
      "\n",
      "  airbnb_data[col].fillna(mean_value, inplace = True)\n"
     ]
    }
   ],
   "source": [
    "num_columns = airbnb_data.select_dtypes(include=['float64', 'int64']).columns\n",
    "\n",
    "for col in num_columns:\n",
    "    mean_value = airbnb_data[col].mean()\n",
    "    airbnb_data[col].fillna(mean_value, inplace = True)\n",
    "\n",
    "print(airbnb_data.select_dtypes(include=['float64', 'int64']).isnull().sum())"
   ]
  },
  {
   "cell_type": "code",
   "execution_count": 45,
   "metadata": {},
   "outputs": [
    {
     "data": {
      "text/plain": [
       "Neighbourhood Cleansed            0\n",
       "Neighbourhood Group Cleansed    818\n",
       "City                              5\n",
       "State                           106\n",
       "Zipcode                         392\n",
       "Country Code                      0\n",
       "Country                           1\n",
       "Property Type                     0\n",
       "Room Type                         0\n",
       "Bed Type                          0\n",
       "Amenities                       140\n",
       "Cancellation Policy               0\n",
       "dtype: int64"
      ]
     },
     "execution_count": 45,
     "metadata": {},
     "output_type": "execute_result"
    }
   ],
   "source": [
    "airbnb_data.select_dtypes(include=['object']).isnull().sum()"
   ]
  },
  {
   "cell_type": "markdown",
   "metadata": {},
   "source": [
    "Al ver los valores de las columnas de tipo object decidi no confundirme mucho con que hacer ya que al poner la moda puede generar problemas. Por lo cual las variables que tengan un valor muy bajo decidi eliminarlas del dataset y las de valores mal altos como ***Neighbourhood Group Cleansed*** decidi imputarlo y para el caso de zip code puede que no sea tan relevante a la hora de generar nuestro modelo entonces se va."
   ]
  },
  {
   "cell_type": "code",
   "execution_count": 46,
   "metadata": {},
   "outputs": [
    {
     "data": {
      "text/html": [
       "<div>\n",
       "<style scoped>\n",
       "    .dataframe tbody tr th:only-of-type {\n",
       "        vertical-align: middle;\n",
       "    }\n",
       "\n",
       "    .dataframe tbody tr th {\n",
       "        vertical-align: top;\n",
       "    }\n",
       "\n",
       "    .dataframe thead th {\n",
       "        text-align: right;\n",
       "    }\n",
       "</style>\n",
       "<table border=\"1\" class=\"dataframe\">\n",
       "  <thead>\n",
       "    <tr style=\"text-align: right;\">\n",
       "      <th></th>\n",
       "      <th>Neighbourhood Cleansed</th>\n",
       "      <th>Neighbourhood Group Cleansed</th>\n",
       "      <th>City</th>\n",
       "      <th>State</th>\n",
       "      <th>Country Code</th>\n",
       "      <th>Country</th>\n",
       "      <th>Property Type</th>\n",
       "      <th>Room Type</th>\n",
       "      <th>Accommodates</th>\n",
       "      <th>Bathrooms</th>\n",
       "      <th>...</th>\n",
       "      <th>Availability 365</th>\n",
       "      <th>Number of Reviews</th>\n",
       "      <th>Review Scores Rating</th>\n",
       "      <th>Review Scores Accuracy</th>\n",
       "      <th>Review Scores Cleanliness</th>\n",
       "      <th>Review Scores Checkin</th>\n",
       "      <th>Review Scores Communication</th>\n",
       "      <th>Review Scores Location</th>\n",
       "      <th>Review Scores Value</th>\n",
       "      <th>Cancellation Policy</th>\n",
       "    </tr>\n",
       "  </thead>\n",
       "  <tbody>\n",
       "    <tr>\n",
       "      <th>0</th>\n",
       "      <td>Casco HistÃÂ³rico de Vallecas</td>\n",
       "      <td>Villa de Vallecas</td>\n",
       "      <td>Madrid</td>\n",
       "      <td>Comunidad de Madrid</td>\n",
       "      <td>ES</td>\n",
       "      <td>Spain</td>\n",
       "      <td>Apartment</td>\n",
       "      <td>Entire home/apt</td>\n",
       "      <td>2</td>\n",
       "      <td>1.0</td>\n",
       "      <td>...</td>\n",
       "      <td>0</td>\n",
       "      <td>3</td>\n",
       "      <td>100.000000</td>\n",
       "      <td>10.000000</td>\n",
       "      <td>10.000000</td>\n",
       "      <td>10.000000</td>\n",
       "      <td>10.000000</td>\n",
       "      <td>10.000000</td>\n",
       "      <td>10.00000</td>\n",
       "      <td>moderate</td>\n",
       "    </tr>\n",
       "    <tr>\n",
       "      <th>1</th>\n",
       "      <td>Palacio</td>\n",
       "      <td>Centro</td>\n",
       "      <td>Madrid</td>\n",
       "      <td>Comunidad de Madrid</td>\n",
       "      <td>ES</td>\n",
       "      <td>Spain</td>\n",
       "      <td>Apartment</td>\n",
       "      <td>Entire home/apt</td>\n",
       "      <td>4</td>\n",
       "      <td>1.0</td>\n",
       "      <td>...</td>\n",
       "      <td>75</td>\n",
       "      <td>24</td>\n",
       "      <td>98.000000</td>\n",
       "      <td>10.000000</td>\n",
       "      <td>10.000000</td>\n",
       "      <td>10.000000</td>\n",
       "      <td>10.000000</td>\n",
       "      <td>10.000000</td>\n",
       "      <td>10.00000</td>\n",
       "      <td>flexible</td>\n",
       "    </tr>\n",
       "    <tr>\n",
       "      <th>2</th>\n",
       "      <td>Aravaca</td>\n",
       "      <td>Moncloa - Aravaca</td>\n",
       "      <td>Aravaca</td>\n",
       "      <td>Madrid</td>\n",
       "      <td>ES</td>\n",
       "      <td>Spain</td>\n",
       "      <td>Apartment</td>\n",
       "      <td>Private room</td>\n",
       "      <td>1</td>\n",
       "      <td>1.0</td>\n",
       "      <td>...</td>\n",
       "      <td>365</td>\n",
       "      <td>2</td>\n",
       "      <td>90.000000</td>\n",
       "      <td>10.000000</td>\n",
       "      <td>9.000000</td>\n",
       "      <td>10.000000</td>\n",
       "      <td>10.000000</td>\n",
       "      <td>10.000000</td>\n",
       "      <td>9.00000</td>\n",
       "      <td>moderate</td>\n",
       "    </tr>\n",
       "    <tr>\n",
       "      <th>3</th>\n",
       "      <td>Gaztambide</td>\n",
       "      <td>ChamberÃÂ­</td>\n",
       "      <td>Madrid</td>\n",
       "      <td>Comunidad de Madrid</td>\n",
       "      <td>ES</td>\n",
       "      <td>Spain</td>\n",
       "      <td>Apartment</td>\n",
       "      <td>Entire home/apt</td>\n",
       "      <td>4</td>\n",
       "      <td>1.0</td>\n",
       "      <td>...</td>\n",
       "      <td>298</td>\n",
       "      <td>62</td>\n",
       "      <td>87.000000</td>\n",
       "      <td>9.000000</td>\n",
       "      <td>10.000000</td>\n",
       "      <td>9.000000</td>\n",
       "      <td>9.000000</td>\n",
       "      <td>9.000000</td>\n",
       "      <td>9.00000</td>\n",
       "      <td>moderate</td>\n",
       "    </tr>\n",
       "    <tr>\n",
       "      <th>4</th>\n",
       "      <td>Woollahra</td>\n",
       "      <td>NaN</td>\n",
       "      <td>Paddington</td>\n",
       "      <td>NSW</td>\n",
       "      <td>AU</td>\n",
       "      <td>Australia</td>\n",
       "      <td>House</td>\n",
       "      <td>Private room</td>\n",
       "      <td>1</td>\n",
       "      <td>1.0</td>\n",
       "      <td>...</td>\n",
       "      <td>365</td>\n",
       "      <td>24</td>\n",
       "      <td>100.000000</td>\n",
       "      <td>10.000000</td>\n",
       "      <td>10.000000</td>\n",
       "      <td>10.000000</td>\n",
       "      <td>10.000000</td>\n",
       "      <td>10.000000</td>\n",
       "      <td>10.00000</td>\n",
       "      <td>flexible</td>\n",
       "    </tr>\n",
       "    <tr>\n",
       "      <th>...</th>\n",
       "      <td>...</td>\n",
       "      <td>...</td>\n",
       "      <td>...</td>\n",
       "      <td>...</td>\n",
       "      <td>...</td>\n",
       "      <td>...</td>\n",
       "      <td>...</td>\n",
       "      <td>...</td>\n",
       "      <td>...</td>\n",
       "      <td>...</td>\n",
       "      <td>...</td>\n",
       "      <td>...</td>\n",
       "      <td>...</td>\n",
       "      <td>...</td>\n",
       "      <td>...</td>\n",
       "      <td>...</td>\n",
       "      <td>...</td>\n",
       "      <td>...</td>\n",
       "      <td>...</td>\n",
       "      <td>...</td>\n",
       "      <td>...</td>\n",
       "    </tr>\n",
       "    <tr>\n",
       "      <th>11805</th>\n",
       "      <td>TimÃÂ³n</td>\n",
       "      <td>Barajas</td>\n",
       "      <td>Madrid</td>\n",
       "      <td>Comunidad de Madrid</td>\n",
       "      <td>ES</td>\n",
       "      <td>Spain</td>\n",
       "      <td>Loft</td>\n",
       "      <td>Private room</td>\n",
       "      <td>2</td>\n",
       "      <td>1.0</td>\n",
       "      <td>...</td>\n",
       "      <td>363</td>\n",
       "      <td>0</td>\n",
       "      <td>91.692988</td>\n",
       "      <td>9.416503</td>\n",
       "      <td>9.329542</td>\n",
       "      <td>9.625055</td>\n",
       "      <td>9.650334</td>\n",
       "      <td>9.537737</td>\n",
       "      <td>9.22064</td>\n",
       "      <td>flexible</td>\n",
       "    </tr>\n",
       "    <tr>\n",
       "      <th>11806</th>\n",
       "      <td>Comillas</td>\n",
       "      <td>Carabanchel</td>\n",
       "      <td>Madrid</td>\n",
       "      <td>Comunidad de Madrid</td>\n",
       "      <td>ES</td>\n",
       "      <td>Spain</td>\n",
       "      <td>Apartment</td>\n",
       "      <td>Private room</td>\n",
       "      <td>1</td>\n",
       "      <td>1.0</td>\n",
       "      <td>...</td>\n",
       "      <td>28</td>\n",
       "      <td>0</td>\n",
       "      <td>91.692988</td>\n",
       "      <td>9.416503</td>\n",
       "      <td>9.329542</td>\n",
       "      <td>9.625055</td>\n",
       "      <td>9.650334</td>\n",
       "      <td>9.537737</td>\n",
       "      <td>9.22064</td>\n",
       "      <td>flexible</td>\n",
       "    </tr>\n",
       "    <tr>\n",
       "      <th>11807</th>\n",
       "      <td>Palacio</td>\n",
       "      <td>Centro</td>\n",
       "      <td>Madrid</td>\n",
       "      <td>Comunidad de Madrid</td>\n",
       "      <td>ES</td>\n",
       "      <td>Spain</td>\n",
       "      <td>Apartment</td>\n",
       "      <td>Entire home/apt</td>\n",
       "      <td>2</td>\n",
       "      <td>1.0</td>\n",
       "      <td>...</td>\n",
       "      <td>152</td>\n",
       "      <td>12</td>\n",
       "      <td>89.000000</td>\n",
       "      <td>9.000000</td>\n",
       "      <td>8.000000</td>\n",
       "      <td>10.000000</td>\n",
       "      <td>10.000000</td>\n",
       "      <td>10.000000</td>\n",
       "      <td>8.00000</td>\n",
       "      <td>strict</td>\n",
       "    </tr>\n",
       "    <tr>\n",
       "      <th>11808</th>\n",
       "      <td>Embajadores</td>\n",
       "      <td>Centro</td>\n",
       "      <td>Madrid</td>\n",
       "      <td>Comunidad de Madrid</td>\n",
       "      <td>ES</td>\n",
       "      <td>Spain</td>\n",
       "      <td>Apartment</td>\n",
       "      <td>Entire home/apt</td>\n",
       "      <td>2</td>\n",
       "      <td>1.0</td>\n",
       "      <td>...</td>\n",
       "      <td>350</td>\n",
       "      <td>23</td>\n",
       "      <td>83.000000</td>\n",
       "      <td>8.000000</td>\n",
       "      <td>9.000000</td>\n",
       "      <td>9.000000</td>\n",
       "      <td>9.000000</td>\n",
       "      <td>9.000000</td>\n",
       "      <td>8.00000</td>\n",
       "      <td>moderate</td>\n",
       "    </tr>\n",
       "    <tr>\n",
       "      <th>11809</th>\n",
       "      <td>Castellana</td>\n",
       "      <td>Salamanca</td>\n",
       "      <td>Madrid</td>\n",
       "      <td>Community of Madrid</td>\n",
       "      <td>ES</td>\n",
       "      <td>Spain</td>\n",
       "      <td>Apartment</td>\n",
       "      <td>Entire home/apt</td>\n",
       "      <td>5</td>\n",
       "      <td>2.5</td>\n",
       "      <td>...</td>\n",
       "      <td>326</td>\n",
       "      <td>43</td>\n",
       "      <td>90.000000</td>\n",
       "      <td>10.000000</td>\n",
       "      <td>9.000000</td>\n",
       "      <td>10.000000</td>\n",
       "      <td>10.000000</td>\n",
       "      <td>10.000000</td>\n",
       "      <td>9.00000</td>\n",
       "      <td>flexible</td>\n",
       "    </tr>\n",
       "  </tbody>\n",
       "</table>\n",
       "<p>11810 rows × 32 columns</p>\n",
       "</div>"
      ],
      "text/plain": [
       "               Neighbourhood Cleansed Neighbourhood Group Cleansed  \\\n",
       "0      Casco HistÃÂ³rico de Vallecas            Villa de Vallecas   \n",
       "1                             Palacio                       Centro   \n",
       "2                             Aravaca            Moncloa - Aravaca   \n",
       "3                          Gaztambide                  ChamberÃÂ­   \n",
       "4                           Woollahra                          NaN   \n",
       "...                               ...                          ...   \n",
       "11805                        TimÃÂ³n                      Barajas   \n",
       "11806                        Comillas                  Carabanchel   \n",
       "11807                         Palacio                       Centro   \n",
       "11808                     Embajadores                       Centro   \n",
       "11809                      Castellana                    Salamanca   \n",
       "\n",
       "             City                State Country Code    Country Property Type  \\\n",
       "0          Madrid  Comunidad de Madrid           ES      Spain     Apartment   \n",
       "1          Madrid  Comunidad de Madrid           ES      Spain     Apartment   \n",
       "2         Aravaca               Madrid           ES      Spain     Apartment   \n",
       "3          Madrid  Comunidad de Madrid           ES      Spain     Apartment   \n",
       "4      Paddington                  NSW           AU  Australia         House   \n",
       "...           ...                  ...          ...        ...           ...   \n",
       "11805      Madrid  Comunidad de Madrid           ES      Spain          Loft   \n",
       "11806      Madrid  Comunidad de Madrid           ES      Spain     Apartment   \n",
       "11807      Madrid  Comunidad de Madrid           ES      Spain     Apartment   \n",
       "11808      Madrid  Comunidad de Madrid           ES      Spain     Apartment   \n",
       "11809      Madrid  Community of Madrid           ES      Spain     Apartment   \n",
       "\n",
       "             Room Type  Accommodates  Bathrooms  ...  Availability 365  \\\n",
       "0      Entire home/apt             2        1.0  ...                 0   \n",
       "1      Entire home/apt             4        1.0  ...                75   \n",
       "2         Private room             1        1.0  ...               365   \n",
       "3      Entire home/apt             4        1.0  ...               298   \n",
       "4         Private room             1        1.0  ...               365   \n",
       "...                ...           ...        ...  ...               ...   \n",
       "11805     Private room             2        1.0  ...               363   \n",
       "11806     Private room             1        1.0  ...                28   \n",
       "11807  Entire home/apt             2        1.0  ...               152   \n",
       "11808  Entire home/apt             2        1.0  ...               350   \n",
       "11809  Entire home/apt             5        2.5  ...               326   \n",
       "\n",
       "       Number of Reviews Review Scores Rating Review Scores Accuracy  \\\n",
       "0                      3           100.000000              10.000000   \n",
       "1                     24            98.000000              10.000000   \n",
       "2                      2            90.000000              10.000000   \n",
       "3                     62            87.000000               9.000000   \n",
       "4                     24           100.000000              10.000000   \n",
       "...                  ...                  ...                    ...   \n",
       "11805                  0            91.692988               9.416503   \n",
       "11806                  0            91.692988               9.416503   \n",
       "11807                 12            89.000000               9.000000   \n",
       "11808                 23            83.000000               8.000000   \n",
       "11809                 43            90.000000              10.000000   \n",
       "\n",
       "       Review Scores Cleanliness  Review Scores Checkin  \\\n",
       "0                      10.000000              10.000000   \n",
       "1                      10.000000              10.000000   \n",
       "2                       9.000000              10.000000   \n",
       "3                      10.000000               9.000000   \n",
       "4                      10.000000              10.000000   \n",
       "...                          ...                    ...   \n",
       "11805                   9.329542               9.625055   \n",
       "11806                   9.329542               9.625055   \n",
       "11807                   8.000000              10.000000   \n",
       "11808                   9.000000               9.000000   \n",
       "11809                   9.000000              10.000000   \n",
       "\n",
       "       Review Scores Communication  Review Scores Location  \\\n",
       "0                        10.000000               10.000000   \n",
       "1                        10.000000               10.000000   \n",
       "2                        10.000000               10.000000   \n",
       "3                         9.000000                9.000000   \n",
       "4                        10.000000               10.000000   \n",
       "...                            ...                     ...   \n",
       "11805                     9.650334                9.537737   \n",
       "11806                     9.650334                9.537737   \n",
       "11807                    10.000000               10.000000   \n",
       "11808                     9.000000                9.000000   \n",
       "11809                    10.000000               10.000000   \n",
       "\n",
       "       Review Scores Value  Cancellation Policy  \n",
       "0                 10.00000             moderate  \n",
       "1                 10.00000             flexible  \n",
       "2                  9.00000             moderate  \n",
       "3                  9.00000             moderate  \n",
       "4                 10.00000             flexible  \n",
       "...                    ...                  ...  \n",
       "11805              9.22064             flexible  \n",
       "11806              9.22064             flexible  \n",
       "11807              8.00000               strict  \n",
       "11808              8.00000             moderate  \n",
       "11809              9.00000             flexible  \n",
       "\n",
       "[11810 rows x 32 columns]"
      ]
     },
     "execution_count": 46,
     "metadata": {},
     "output_type": "execute_result"
    }
   ],
   "source": [
    "airbnb_data.drop('Zipcode', axis=1)\n",
    "\n"
   ]
  },
  {
   "cell_type": "code",
   "execution_count": 47,
   "metadata": {},
   "outputs": [
    {
     "name": "stderr",
     "output_type": "stream",
     "text": [
      "C:\\Users\\Alejandro\\AppData\\Local\\Temp\\ipykernel_15312\\2100740752.py:1: FutureWarning: A value is trying to be set on a copy of a DataFrame or Series through chained assignment using an inplace method.\n",
      "The behavior will change in pandas 3.0. This inplace method will never work because the intermediate object on which we are setting values always behaves as a copy.\n",
      "\n",
      "For example, when doing 'df[col].method(value, inplace=True)', try using 'df.method({col: value}, inplace=True)' or df[col] = df[col].method(value) instead, to perform the operation inplace on the original object.\n",
      "\n",
      "\n",
      "  airbnb_data['Neighbourhood Group Cleansed'].fillna(airbnb_data['Neighbourhood Group Cleansed'].mode()[0], inplace=True)\n"
     ]
    },
    {
     "data": {
      "text/plain": [
       "Neighbourhood Cleansed            0\n",
       "Neighbourhood Group Cleansed      0\n",
       "City                              5\n",
       "State                           106\n",
       "Zipcode                         392\n",
       "Country Code                      0\n",
       "Country                           1\n",
       "Property Type                     0\n",
       "Room Type                         0\n",
       "Bed Type                          0\n",
       "Amenities                       140\n",
       "Cancellation Policy               0\n",
       "dtype: int64"
      ]
     },
     "execution_count": 47,
     "metadata": {},
     "output_type": "execute_result"
    }
   ],
   "source": [
    "airbnb_data['Neighbourhood Group Cleansed'].fillna(airbnb_data['Neighbourhood Group Cleansed'].mode()[0], inplace=True)\n",
    "airbnb_data.select_dtypes(include=['object']).isnull().sum()"
   ]
  },
  {
   "cell_type": "code",
   "execution_count": 48,
   "metadata": {},
   "outputs": [],
   "source": [
    "airbnb_data = airbnb_data[~airbnb_data['State'].isnull()]"
   ]
  },
  {
   "cell_type": "code",
   "execution_count": 49,
   "metadata": {},
   "outputs": [],
   "source": [
    "airbnb_data = airbnb_data[~airbnb_data['Amenities'].isnull()]\n",
    "airbnb_data = airbnb_data[~airbnb_data['City'].isnull()]\n",
    "airbnb_data = airbnb_data[~airbnb_data['Country'].isnull()]"
   ]
  },
  {
   "cell_type": "code",
   "execution_count": 50,
   "metadata": {},
   "outputs": [
    {
     "data": {
      "text/plain": [
       "Neighbourhood Cleansed            0\n",
       "Neighbourhood Group Cleansed      0\n",
       "City                              0\n",
       "State                             0\n",
       "Zipcode                         383\n",
       "Country Code                      0\n",
       "Country                           0\n",
       "Property Type                     0\n",
       "Room Type                         0\n",
       "Accommodates                      0\n",
       "Bathrooms                         0\n",
       "Bedrooms                          0\n",
       "Beds                              0\n",
       "Bed Type                          0\n",
       "Amenities                         0\n",
       "Price                             0\n",
       "Guests Included                   0\n",
       "Extra People                      0\n",
       "Minimum Nights                    0\n",
       "Maximum Nights                    0\n",
       "Availability 30                   0\n",
       "Availability 60                   0\n",
       "Availability 90                   0\n",
       "Availability 365                  0\n",
       "Number of Reviews                 0\n",
       "Review Scores Rating              0\n",
       "Review Scores Accuracy            0\n",
       "Review Scores Cleanliness         0\n",
       "Review Scores Checkin             0\n",
       "Review Scores Communication       0\n",
       "Review Scores Location            0\n",
       "Review Scores Value               0\n",
       "Cancellation Policy               0\n",
       "dtype: int64"
      ]
     },
     "execution_count": 50,
     "metadata": {},
     "output_type": "execute_result"
    }
   ],
   "source": [
    "airbnb_data.isnull().sum()"
   ]
  },
  {
   "cell_type": "code",
   "execution_count": 51,
   "metadata": {},
   "outputs": [],
   "source": [
    "airbnb_data = airbnb_data.drop('Zipcode', axis=1)"
   ]
  },
  {
   "cell_type": "code",
   "execution_count": 52,
   "metadata": {},
   "outputs": [
    {
     "data": {
      "text/plain": [
       "Neighbourhood Cleansed          0\n",
       "Neighbourhood Group Cleansed    0\n",
       "City                            0\n",
       "State                           0\n",
       "Country Code                    0\n",
       "Country                         0\n",
       "Property Type                   0\n",
       "Room Type                       0\n",
       "Accommodates                    0\n",
       "Bathrooms                       0\n",
       "Bedrooms                        0\n",
       "Beds                            0\n",
       "Bed Type                        0\n",
       "Amenities                       0\n",
       "Price                           0\n",
       "Guests Included                 0\n",
       "Extra People                    0\n",
       "Minimum Nights                  0\n",
       "Maximum Nights                  0\n",
       "Availability 30                 0\n",
       "Availability 60                 0\n",
       "Availability 90                 0\n",
       "Availability 365                0\n",
       "Number of Reviews               0\n",
       "Review Scores Rating            0\n",
       "Review Scores Accuracy          0\n",
       "Review Scores Cleanliness       0\n",
       "Review Scores Checkin           0\n",
       "Review Scores Communication     0\n",
       "Review Scores Location          0\n",
       "Review Scores Value             0\n",
       "Cancellation Policy             0\n",
       "dtype: int64"
      ]
     },
     "execution_count": 52,
     "metadata": {},
     "output_type": "execute_result"
    }
   ],
   "source": [
    "airbnb_data.isnull().sum()"
   ]
  },
  {
   "cell_type": "code",
   "execution_count": 53,
   "metadata": {},
   "outputs": [
    {
     "data": {
      "text/plain": [
       "(11565, 32)"
      ]
     },
     "execution_count": 53,
     "metadata": {},
     "output_type": "execute_result"
    }
   ],
   "source": [
    "airbnb_data.shape"
   ]
  },
  {
   "cell_type": "code",
   "execution_count": 56,
   "metadata": {},
   "outputs": [
    {
     "data": {
      "text/plain": [
       "Neighbourhood Cleansed           object\n",
       "Neighbourhood Group Cleansed     object\n",
       "City                             object\n",
       "State                            object\n",
       "Country Code                     object\n",
       "Country                          object\n",
       "Property Type                    object\n",
       "Room Type                        object\n",
       "Accommodates                      int64\n",
       "Bathrooms                       float64\n",
       "Bedrooms                        float64\n",
       "Beds                            float64\n",
       "Bed Type                         object\n",
       "Amenities                        object\n",
       "Price                           float64\n",
       "Guests Included                   int64\n",
       "Extra People                      int64\n",
       "Minimum Nights                    int64\n",
       "Maximum Nights                    int64\n",
       "Availability 30                   int64\n",
       "Availability 60                   int64\n",
       "Availability 90                   int64\n",
       "Availability 365                  int64\n",
       "Number of Reviews                 int64\n",
       "Review Scores Rating            float64\n",
       "Review Scores Accuracy          float64\n",
       "Review Scores Cleanliness       float64\n",
       "Review Scores Checkin           float64\n",
       "Review Scores Communication     float64\n",
       "Review Scores Location          float64\n",
       "Review Scores Value             float64\n",
       "Cancellation Policy              object\n",
       "dtype: object"
      ]
     },
     "execution_count": 56,
     "metadata": {},
     "output_type": "execute_result"
    }
   ],
   "source": [
    "airbnb_data.dtypes"
   ]
  },
  {
   "cell_type": "markdown",
   "metadata": {},
   "source": [
    "#### **Codificación variables categóricas**"
   ]
  },
  {
   "cell_type": "code",
   "execution_count": 54,
   "metadata": {},
   "outputs": [
    {
     "name": "stdout",
     "output_type": "stream",
     "text": [
      "Collecting category_encoders\n",
      "  Downloading category_encoders-2.6.4-py2.py3-none-any.whl.metadata (8.0 kB)\n",
      "Requirement already satisfied: numpy>=1.14.0 in c:\\users\\alejandro\\appdata\\local\\programs\\python\\python312\\lib\\site-packages (from category_encoders) (2.0.1)\n",
      "Requirement already satisfied: scikit-learn>=0.20.0 in c:\\users\\alejandro\\appdata\\local\\programs\\python\\python312\\lib\\site-packages (from category_encoders) (1.5.1)\n",
      "Requirement already satisfied: scipy>=1.0.0 in c:\\users\\alejandro\\appdata\\local\\programs\\python\\python312\\lib\\site-packages (from category_encoders) (1.14.0)\n",
      "Collecting statsmodels>=0.9.0 (from category_encoders)\n",
      "  Downloading statsmodels-0.14.4-cp312-cp312-win_amd64.whl.metadata (9.5 kB)\n",
      "Requirement already satisfied: pandas>=1.0.5 in c:\\users\\alejandro\\appdata\\local\\programs\\python\\python312\\lib\\site-packages (from category_encoders) (2.2.2)\n",
      "Collecting patsy>=0.5.1 (from category_encoders)\n",
      "  Downloading patsy-0.5.6-py2.py3-none-any.whl.metadata (3.5 kB)\n",
      "Requirement already satisfied: python-dateutil>=2.8.2 in c:\\users\\alejandro\\appdata\\local\\programs\\python\\python312\\lib\\site-packages (from pandas>=1.0.5->category_encoders) (2.9.0.post0)\n",
      "Requirement already satisfied: pytz>=2020.1 in c:\\users\\alejandro\\appdata\\local\\programs\\python\\python312\\lib\\site-packages (from pandas>=1.0.5->category_encoders) (2024.1)\n",
      "Requirement already satisfied: tzdata>=2022.7 in c:\\users\\alejandro\\appdata\\local\\programs\\python\\python312\\lib\\site-packages (from pandas>=1.0.5->category_encoders) (2024.1)\n",
      "Requirement already satisfied: six in c:\\users\\alejandro\\appdata\\local\\programs\\python\\python312\\lib\\site-packages (from patsy>=0.5.1->category_encoders) (1.16.0)\n",
      "Requirement already satisfied: joblib>=1.2.0 in c:\\users\\alejandro\\appdata\\local\\programs\\python\\python312\\lib\\site-packages (from scikit-learn>=0.20.0->category_encoders) (1.4.2)\n",
      "Requirement already satisfied: threadpoolctl>=3.1.0 in c:\\users\\alejandro\\appdata\\local\\programs\\python\\python312\\lib\\site-packages (from scikit-learn>=0.20.0->category_encoders) (3.5.0)\n",
      "Requirement already satisfied: packaging>=21.3 in c:\\users\\alejandro\\appdata\\local\\programs\\python\\python312\\lib\\site-packages (from statsmodels>=0.9.0->category_encoders) (24.1)\n",
      "Downloading category_encoders-2.6.4-py2.py3-none-any.whl (82 kB)\n",
      "   ---------------------------------------- 0.0/82.0 kB ? eta -:--:--\n",
      "   ------------------- -------------------- 41.0/82.0 kB 991.0 kB/s eta 0:00:01\n",
      "   ---------------------------------------- 82.0/82.0 kB 1.5 MB/s eta 0:00:00\n",
      "Downloading patsy-0.5.6-py2.py3-none-any.whl (233 kB)\n",
      "   ---------------------------------------- 0.0/233.9 kB ? eta -:--:--\n",
      "   ---------------------------------------- 233.9/233.9 kB 4.8 MB/s eta 0:00:00\n",
      "Downloading statsmodels-0.14.4-cp312-cp312-win_amd64.whl (9.8 MB)\n",
      "   ---------------------------------------- 0.0/9.8 MB ? eta -:--:--\n",
      "   -- ------------------------------------- 0.5/9.8 MB 10.9 MB/s eta 0:00:01\n",
      "   ---- ----------------------------------- 1.2/9.8 MB 12.7 MB/s eta 0:00:01\n",
      "   ----------------- ---------------------- 4.2/9.8 MB 29.6 MB/s eta 0:00:01\n",
      "   ---------------------- ----------------- 5.6/9.8 MB 32.7 MB/s eta 0:00:01\n",
      "   ------------------------------------ --- 9.0/9.8 MB 38.2 MB/s eta 0:00:01\n",
      "   -------------------------------------- - 9.4/9.8 MB 33.6 MB/s eta 0:00:01\n",
      "   ---------------------------------------- 9.8/9.8 MB 33.0 MB/s eta 0:00:00\n",
      "Installing collected packages: patsy, statsmodels, category_encoders\n",
      "Successfully installed category_encoders-2.6.4 patsy-0.5.6 statsmodels-0.14.4\n"
     ]
    },
    {
     "name": "stderr",
     "output_type": "stream",
     "text": [
      "\n",
      "[notice] A new release of pip is available: 24.0 -> 24.2\n",
      "[notice] To update, run: python.exe -m pip install --upgrade pip\n"
     ]
    }
   ],
   "source": [
    "!pip install category_encoders"
   ]
  },
  {
   "cell_type": "code",
   "execution_count": 4,
   "metadata": {},
   "outputs": [],
   "source": [
    "import category_encoders as ce"
   ]
  },
  {
   "cell_type": "code",
   "execution_count": 57,
   "metadata": {},
   "outputs": [
    {
     "name": "stdout",
     "output_type": "stream",
     "text": [
      "   Neighbourhood Cleansed  Neighbourhood Group Cleansed        City  \\\n",
      "0               51.392165                     48.678693   65.951563   \n",
      "1               78.349024                     80.697392   65.951563   \n",
      "2               64.971031                     65.925816   66.233481   \n",
      "3               56.401923                     71.399474   65.951563   \n",
      "4              107.177504                     80.697392  123.450754   \n",
      "\n",
      "        State  Country Code     Country  Property Type  Room Type  \\\n",
      "0   66.025945     70.209777   70.209777      70.637935  95.167446   \n",
      "1   66.025945     70.209777   70.209777      70.637935  95.167446   \n",
      "2   63.654784     70.209777   70.209777      70.637935  35.755300   \n",
      "3   66.025945     70.209777   70.209777      70.637935  95.167446   \n",
      "4  118.921054    123.981547  123.981547      92.955556  35.755300   \n",
      "\n",
      "   Accommodates  Bathrooms  ...  Availability 365  Number of Reviews  \\\n",
      "0             2        1.0  ...                 0                  3   \n",
      "1             4        1.0  ...                75                 24   \n",
      "2             1        1.0  ...               365                  2   \n",
      "3             4        1.0  ...               298                 62   \n",
      "4             1        1.0  ...               365                 24   \n",
      "\n",
      "   Review Scores Rating  Review Scores Accuracy  Review Scores Cleanliness  \\\n",
      "0                 100.0                    10.0                       10.0   \n",
      "1                  98.0                    10.0                       10.0   \n",
      "2                  90.0                    10.0                        9.0   \n",
      "3                  87.0                     9.0                       10.0   \n",
      "4                 100.0                    10.0                       10.0   \n",
      "\n",
      "   Review Scores Checkin  Review Scores Communication  Review Scores Location  \\\n",
      "0                   10.0                         10.0                    10.0   \n",
      "1                   10.0                         10.0                    10.0   \n",
      "2                   10.0                         10.0                    10.0   \n",
      "3                    9.0                          9.0                     9.0   \n",
      "4                   10.0                         10.0                    10.0   \n",
      "\n",
      "   Review Scores Value  Cancellation Policy  \n",
      "0                 10.0            64.435599  \n",
      "1                 10.0            59.334073  \n",
      "2                  9.0            64.435599  \n",
      "3                  9.0            64.435599  \n",
      "4                 10.0            59.334073  \n",
      "\n",
      "[5 rows x 32 columns]\n"
     ]
    }
   ],
   "source": [
    "# Columnas a codificar\n",
    "categorical_cols = ['Neighbourhood Cleansed', 'Neighbourhood Group Cleansed', 'City', 'State', 'Country', 'Country Code', 'Property Type', 'Room Type', 'Bed Type', 'Amenities', 'Cancellation Policy']  \n",
    "\n",
    "# TargetEncoder\n",
    "target_encoder = ce.TargetEncoder(cols=categorical_cols)\n",
    "airbnb_data[categorical_cols] = target_encoder.fit_transform(airbnb_data[categorical_cols], airbnb_data['Price'])\n",
    "\n",
    "print(airbnb_data.head())"
   ]
  },
  {
   "cell_type": "markdown",
   "metadata": {},
   "source": [
    "### **3. Visualización (y más análisis)**"
   ]
  },
  {
   "cell_type": "code",
   "execution_count": 67,
   "metadata": {},
   "outputs": [
    {
     "data": {
      "image/png": "[encoded data removed]",
      "text/plain": [
       "<Figure size 1200x1000 with 2 Axes>"
      ]
     },
     "metadata": {},
     "output_type": "display_data"
    }
   ],
   "source": [
    "# Compute the correlation matrix\n",
    "corr = np.abs(airbnb_data.drop(['Price'], axis=1).corr())\n",
    "\n",
    "# Generate a mask for the upper triangle\n",
    "mask = np.zeros_like(corr, dtype=bool)\n",
    "mask[np.triu_indices_from(mask)] = True\n",
    "\n",
    "# Set up the matplotlib figure\n",
    "f, ax = plt.subplots(figsize=(12, 10))\n",
    "\n",
    "# Draw the heatmap with the mask and correct aspect ratio\n",
    "sns.heatmap(corr, mask=mask,vmin = 0.0, vmax=1.0, center=0.5,\n",
    "            linewidths=.1, cmap=\"YlGnBu\", cbar_kws={\"shrink\": .8})\n",
    "\n",
    "plt.show()"
   ]
  },
  {
   "cell_type": "markdown",
   "metadata": {},
   "source": [
    "Viendo los resultados de la matriz de correlacion yo opinaria que las variables no tienen muchas correlacion entre si, claro esta teniendo en cuenta que las variables directamente relacionadas con la disposicion de la casa/apto tienen cierta relacion con otras que tambien haga referencia a lo mismo (lo mismo aplica para las variables de reviews). De igual manera revisare el scatter matrix para ver si hay alguna relacion un poco mas clara.\n",
    "\n",
    "Una relacion importante podria ser entre las bedrooms y beds para ver el numero de habitaciones en relacion a cuantas camas distribuyen en estas.\n",
    "\n"
   ]
  },
  {
   "cell_type": "markdown",
   "metadata": {},
   "source": [
    "### **4. Generación de nuevas características**"
   ]
  },
  {
   "cell_type": "code",
   "execution_count": 69,
   "metadata": {},
   "outputs": [],
   "source": [
    "airbnb_data['bed_in_rooms']   = airbnb_data['Bedrooms']/airbnb_data['Beds']"
   ]
  },
  {
   "cell_type": "code",
   "execution_count": 75,
   "metadata": {},
   "outputs": [
    {
     "name": "stdout",
     "output_type": "stream",
     "text": [
      "                                       0          1            2            3  \\\n",
      "price                                NaN        NaN          NaN          NaN   \n",
      "Neighbourhood Cleansed         67.628814  78.547836   107.001729    56.148238   \n",
      "Neighbourhood Group Cleansed   64.288155  81.380241    86.144444    71.997413   \n",
      "City                           66.104175  66.104175    67.989304    66.104175   \n",
      "State                          66.050353  66.050353    64.287546    66.050353   \n",
      "Country Code                   71.965342  71.965342    71.965342    71.965342   \n",
      "Country                        71.965342  71.965342    71.965342    71.965342   \n",
      "Property Type                  72.339303  72.339303    72.339303    72.339303   \n",
      "Room Type                      95.566872  95.566872    41.196480    95.566872   \n",
      "Accommodates                    2.000000   4.000000     1.000000     4.000000   \n",
      "Bathrooms                       1.000000   1.000000     1.000000     1.000000   \n",
      "Bedrooms                        1.000000   1.000000     1.000000     1.000000   \n",
      "Beds                            1.000000   2.000000     1.000000     3.000000   \n",
      "Bed Type                       74.405887  74.405887    74.405887    74.405887   \n",
      "Amenities                      73.453860  74.754944    67.989304    72.152775   \n",
      "Price                          70.000000  80.000000    28.000000    60.000000   \n",
      "Guests Included                 1.000000   2.000000     1.000000     2.000000   \n",
      "Extra People                    0.000000  21.000000     0.000000    15.000000   \n",
      "Minimum Nights                  3.000000   1.000000     1.000000     1.000000   \n",
      "Maximum Nights                 30.000000   3.000000  1125.000000  1125.000000   \n",
      "Availability 30                 0.000000  15.000000    30.000000     1.000000   \n",
      "Availability 60                 0.000000  45.000000    60.000000     4.000000   \n",
      "Availability 90                 0.000000  75.000000    90.000000    23.000000   \n",
      "Availability 365                0.000000  75.000000   365.000000   298.000000   \n",
      "Number of Reviews               3.000000  24.000000     2.000000    62.000000   \n",
      "Review Scores Rating          100.000000  98.000000    90.000000    87.000000   \n",
      "Review Scores Accuracy         10.000000  10.000000    10.000000     9.000000   \n",
      "Review Scores Cleanliness      10.000000  10.000000     9.000000    10.000000   \n",
      "Review Scores Checkin          10.000000  10.000000    10.000000     9.000000   \n",
      "Review Scores Communication    10.000000  10.000000    10.000000     9.000000   \n",
      "Review Scores Location         10.000000  10.000000    10.000000     9.000000   \n",
      "Review Scores Value            10.000000  10.000000     9.000000     9.000000   \n",
      "Cancellation Policy            64.895778  65.023188    64.895778    64.895778   \n",
      "bed_in_rooms                    1.000000   2.000000     1.000000     3.000000   \n",
      "\n",
      "                                        4  \n",
      "price                                 NaN  \n",
      "Neighbourhood Cleansed         108.884163  \n",
      "Neighbourhood Group Cleansed    81.380241  \n",
      "City                           125.182875  \n",
      "State                          119.782688  \n",
      "Country Code                   123.133874  \n",
      "Country                        123.133874  \n",
      "Property Type                   99.218349  \n",
      "Room Type                       41.196480  \n",
      "Accommodates                     1.000000  \n",
      "Bathrooms                        1.000000  \n",
      "Bedrooms                         1.000000  \n",
      "Beds                             1.000000  \n",
      "Bed Type                        74.405887  \n",
      "Amenities                       79.959283  \n",
      "Price                          120.000000  \n",
      "Guests Included                  1.000000  \n",
      "Extra People                    60.000000  \n",
      "Minimum Nights                   2.000000  \n",
      "Maximum Nights                1125.000000  \n",
      "Availability 30                 30.000000  \n",
      "Availability 60                 60.000000  \n",
      "Availability 90                 90.000000  \n",
      "Availability 365               365.000000  \n",
      "Number of Reviews               24.000000  \n",
      "Review Scores Rating           100.000000  \n",
      "Review Scores Accuracy          10.000000  \n",
      "Review Scores Cleanliness       10.000000  \n",
      "Review Scores Checkin           10.000000  \n",
      "Review Scores Communication     10.000000  \n",
      "Review Scores Location          10.000000  \n",
      "Review Scores Value             10.000000  \n",
      "Cancellation Policy             65.023188  \n",
      "bed_in_rooms                     1.000000  \n"
     ]
    }
   ],
   "source": [
    "columns = ['price'] + [col for col in airbnb_data.columns if col != 'price']\n",
    "airbnb_data = airbnb_data.reindex(columns=columns)\n",
    "\n",
    "print(airbnb_data.head(5).T)"
   ]
  },
  {
   "cell_type": "markdown",
   "metadata": {},
   "source": [
    "### **5. Modelado, cross-validation y estudio de resultados en train y test**"
   ]
  },
  {
   "cell_type": "code",
   "execution_count": 39,
   "metadata": {},
   "outputs": [
    {
     "name": "stderr",
     "output_type": "stream",
     "text": [
      "C:\\Users\\Alejandro\\AppData\\Local\\Temp\\ipykernel_20836\\3808024176.py:9: FutureWarning: A value is trying to be set on a copy of a DataFrame or Series through chained assignment using an inplace method.\n",
      "The behavior will change in pandas 3.0. This inplace method will never work because the intermediate object on which we are setting values always behaves as a copy.\n",
      "\n",
      "For example, when doing 'df[col].method(value, inplace=True)', try using 'df.method({col: value}, inplace=True)' or df[col] = df[col].method(value) instead, to perform the operation inplace on the original object.\n",
      "\n",
      "\n",
      "  airbnb_data[col].fillna(mean_value, inplace = True)\n",
      "C:\\Users\\Alejandro\\AppData\\Local\\Temp\\ipykernel_20836\\3808024176.py:11: FutureWarning: A value is trying to be set on a copy of a DataFrame or Series through chained assignment using an inplace method.\n",
      "The behavior will change in pandas 3.0. This inplace method will never work because the intermediate object on which we are setting values always behaves as a copy.\n",
      "\n",
      "For example, when doing 'df[col].method(value, inplace=True)', try using 'df.method({col: value}, inplace=True)' or df[col] = df[col].method(value) instead, to perform the operation inplace on the original object.\n",
      "\n",
      "\n",
      "  airbnb_data['Neighbourhood Group Cleansed'].fillna(airbnb_data['Neighbourhood Group Cleansed'].mode()[0], inplace=True)\n"
     ]
    }
   ],
   "source": [
    "# Carga de datos\n",
    "airbnb_data = pd.read_csv(\"./data/airbnb_data_del_train.csv\", sep=';', encoding = \"latin\")\n",
    "\n",
    "# Imputación\n",
    "num_columns = airbnb_data.select_dtypes(include=['float64', 'int64']).columns\n",
    "\n",
    "for col in num_columns:\n",
    "    mean_value = airbnb_data[col].mean()\n",
    "    airbnb_data[col].fillna(mean_value, inplace = True)\n",
    "\n",
    "airbnb_data['Neighbourhood Group Cleansed'].fillna(airbnb_data['Neighbourhood Group Cleansed'].mode()[0], inplace=True)\n",
    "\n",
    "# Columnas a codificar\n",
    "categorical_cols = ['Neighbourhood Cleansed', 'Neighbourhood Group Cleansed', 'City', 'State', 'Country', 'Country Code', 'Property Type', 'Room Type', 'Bed Type', 'Amenities', 'Cancellation Policy']  \n",
    "\n",
    "# TargetEncoder\n",
    "target_encoder = ce.TargetEncoder(cols=categorical_cols)\n",
    "airbnb_data[categorical_cols] = target_encoder.fit_transform(airbnb_data[categorical_cols], airbnb_data['Price'])\n",
    "\n",
    "\n",
    "# Eliminamos las columnas \n",
    "airbnb_data.drop(columns= 'Neighbourhood', axis=1, inplace=True)\n",
    "airbnb_data.drop(columns= 'Square Feet', axis=1, inplace=True)\n",
    "airbnb_data.drop(columns= 'Weekly Price', axis=1, inplace=True)\n",
    "airbnb_data.drop(columns= 'Monthly Price', axis=1, inplace=True)\n",
    "airbnb_data.drop(columns= 'Security Deposit', axis=1, inplace=True)\n",
    "airbnb_data.drop(columns= 'Cleaning Fee', axis=1, inplace=True)\n",
    "airbnb_data.drop(columns= 'Zipcode', axis=1, inplace=True)\n",
    "airbnb_data = airbnb_data[~airbnb_data['State'].isnull()]\n",
    "airbnb_data = airbnb_data[~airbnb_data['Amenities'].isnull()]\n",
    "airbnb_data = airbnb_data[~airbnb_data['City'].isnull()]\n",
    "airbnb_data = airbnb_data[~airbnb_data['Country'].isnull()]\n",
    "\n",
    "# Generamos características\n",
    "airbnb_data['bed_in_rooms']   = airbnb_data['Bedrooms']/airbnb_data['Beds']\n",
    "\n",
    "# Posicionamos price como la primera columna\n",
    "airbnb_data = airbnb_data[['Price'] + [col for col in airbnb_data.columns if col != 'Price']]\n"
   ]
  },
  {
   "cell_type": "markdown",
   "metadata": {},
   "source": [
    "Aplicamos a test."
   ]
  },
  {
   "cell_type": "code",
   "execution_count": 40,
   "metadata": {},
   "outputs": [
    {
     "name": "stderr",
     "output_type": "stream",
     "text": [
      "C:\\Users\\Alejandro\\AppData\\Local\\Temp\\ipykernel_20836\\1267319655.py:9: FutureWarning: A value is trying to be set on a copy of a DataFrame or Series through chained assignment using an inplace method.\n",
      "The behavior will change in pandas 3.0. This inplace method will never work because the intermediate object on which we are setting values always behaves as a copy.\n",
      "\n",
      "For example, when doing 'df[col].method(value, inplace=True)', try using 'df.method({col: value}, inplace=True)' or df[col] = df[col].method(value) instead, to perform the operation inplace on the original object.\n",
      "\n",
      "\n",
      "  airbnb_data_test[col].fillna(mean_value, inplace = True)\n",
      "C:\\Users\\Alejandro\\AppData\\Local\\Temp\\ipykernel_20836\\1267319655.py:11: FutureWarning: A value is trying to be set on a copy of a DataFrame or Series through chained assignment using an inplace method.\n",
      "The behavior will change in pandas 3.0. This inplace method will never work because the intermediate object on which we are setting values always behaves as a copy.\n",
      "\n",
      "For example, when doing 'df[col].method(value, inplace=True)', try using 'df.method({col: value}, inplace=True)' or df[col] = df[col].method(value) instead, to perform the operation inplace on the original object.\n",
      "\n",
      "\n",
      "  airbnb_data_test['Neighbourhood Group Cleansed'].fillna(airbnb_data_test['Neighbourhood Group Cleansed'].mode()[0], inplace=True)\n"
     ]
    }
   ],
   "source": [
    "# Carga de datos\n",
    "airbnb_data_test = pd.read_csv(\"./data/airbnb_data_del_test.csv\", sep=';', encoding = \"latin\")\n",
    "\n",
    "# Imputación\n",
    "num_columns = airbnb_data_test.select_dtypes(include=['float64', 'int64']).columns\n",
    "\n",
    "for col in num_columns:\n",
    "    mean_value = airbnb_data_test[col].mean()\n",
    "    airbnb_data_test[col].fillna(mean_value, inplace = True)\n",
    "\n",
    "airbnb_data_test['Neighbourhood Group Cleansed'].fillna(airbnb_data_test['Neighbourhood Group Cleansed'].mode()[0], inplace=True)\n",
    "\n",
    "# Columnas a codificar\n",
    "categorical_cols = ['Neighbourhood Cleansed', 'Neighbourhood Group Cleansed', 'City', 'State', 'Country', 'Country Code', 'Property Type', 'Room Type', 'Bed Type', 'Amenities', 'Cancellation Policy']  \n",
    "\n",
    "# TargetEncoder\n",
    "target_encoder = ce.TargetEncoder(cols=categorical_cols)\n",
    "airbnb_data_test[categorical_cols] = target_encoder.fit_transform(airbnb_data_test[categorical_cols], airbnb_data_test['Price'])\n",
    "\n",
    "\n",
    "# Eliminamos las columnas \n",
    "airbnb_data_test.drop(columns= 'Neighbourhood', axis=1, inplace=True)\n",
    "airbnb_data_test.drop(columns= 'Square Feet', axis=1, inplace=True)\n",
    "airbnb_data_test.drop(columns= 'Weekly Price', axis=1, inplace=True)\n",
    "airbnb_data_test.drop(columns= 'Monthly Price', axis=1, inplace=True)\n",
    "airbnb_data_test.drop(columns= 'Security Deposit', axis=1, inplace=True)\n",
    "airbnb_data_test.drop(columns= 'Cleaning Fee', axis=1, inplace=True)\n",
    "airbnb_data_test.drop(columns= 'Zipcode', axis=1, inplace=True)\n",
    "airbnb_data_test = airbnb_data_test[~airbnb_data_test['State'].isnull()]\n",
    "airbnb_data_test = airbnb_data_test[~airbnb_data_test['Amenities'].isnull()]\n",
    "airbnb_data_test = airbnb_data_test[~airbnb_data_test['City'].isnull()]\n",
    "airbnb_data_test = airbnb_data_test[~airbnb_data_test['Country'].isnull()]\n",
    "\n",
    "# Generamos características\n",
    "airbnb_data_test['bed_in_rooms']   = airbnb_data_test['Bedrooms']/airbnb_data_test['Beds']\n",
    "\n",
    "# Posicionamos price como la primera columna\n",
    "airbnb_data_test = airbnb_data_test[['Price'] + [col for col in airbnb_data.columns if col != 'Price']]"
   ]
  },
  {
   "cell_type": "code",
   "execution_count": 41,
   "metadata": {},
   "outputs": [
    {
     "data": {
      "text/html": [
       "<div>\n",
       "<style scoped>\n",
       "    .dataframe tbody tr th:only-of-type {\n",
       "        vertical-align: middle;\n",
       "    }\n",
       "\n",
       "    .dataframe tbody tr th {\n",
       "        vertical-align: top;\n",
       "    }\n",
       "\n",
       "    .dataframe thead th {\n",
       "        text-align: right;\n",
       "    }\n",
       "</style>\n",
       "<table border=\"1\" class=\"dataframe\">\n",
       "  <thead>\n",
       "    <tr style=\"text-align: right;\">\n",
       "      <th></th>\n",
       "      <th>0</th>\n",
       "      <th>1</th>\n",
       "      <th>2</th>\n",
       "      <th>3</th>\n",
       "      <th>4</th>\n",
       "      <th>5</th>\n",
       "      <th>6</th>\n",
       "      <th>7</th>\n",
       "      <th>8</th>\n",
       "      <th>9</th>\n",
       "    </tr>\n",
       "  </thead>\n",
       "  <tbody>\n",
       "    <tr>\n",
       "      <th>Price</th>\n",
       "      <td>120.000000</td>\n",
       "      <td>52.000000</td>\n",
       "      <td>38.000000</td>\n",
       "      <td>60.000000</td>\n",
       "      <td>50.000000</td>\n",
       "      <td>145.000000</td>\n",
       "      <td>25.000000</td>\n",
       "      <td>80.000000</td>\n",
       "      <td>65.000000</td>\n",
       "      <td>16.000000</td>\n",
       "    </tr>\n",
       "    <tr>\n",
       "      <th>Neighbourhood Cleansed</th>\n",
       "      <td>102.684515</td>\n",
       "      <td>75.887805</td>\n",
       "      <td>71.490684</td>\n",
       "      <td>71.490684</td>\n",
       "      <td>69.712375</td>\n",
       "      <td>92.018849</td>\n",
       "      <td>60.905292</td>\n",
       "      <td>66.679381</td>\n",
       "      <td>75.887805</td>\n",
       "      <td>50.285117</td>\n",
       "    </tr>\n",
       "    <tr>\n",
       "      <th>Neighbourhood Group Cleansed</th>\n",
       "      <td>81.170727</td>\n",
       "      <td>81.351023</td>\n",
       "      <td>81.351023</td>\n",
       "      <td>81.351023</td>\n",
       "      <td>81.351023</td>\n",
       "      <td>81.351023</td>\n",
       "      <td>81.351023</td>\n",
       "      <td>46.669060</td>\n",
       "      <td>81.351023</td>\n",
       "      <td>45.942567</td>\n",
       "    </tr>\n",
       "    <tr>\n",
       "      <th>City</th>\n",
       "      <td>65.212942</td>\n",
       "      <td>65.212942</td>\n",
       "      <td>65.212942</td>\n",
       "      <td>65.212942</td>\n",
       "      <td>65.212942</td>\n",
       "      <td>65.212942</td>\n",
       "      <td>65.212942</td>\n",
       "      <td>65.212942</td>\n",
       "      <td>65.212942</td>\n",
       "      <td>65.212942</td>\n",
       "    </tr>\n",
       "    <tr>\n",
       "      <th>State</th>\n",
       "      <td>71.150754</td>\n",
       "      <td>64.058074</td>\n",
       "      <td>64.058074</td>\n",
       "      <td>64.058074</td>\n",
       "      <td>64.058074</td>\n",
       "      <td>64.058074</td>\n",
       "      <td>64.058074</td>\n",
       "      <td>64.058074</td>\n",
       "      <td>64.058074</td>\n",
       "      <td>64.058074</td>\n",
       "    </tr>\n",
       "    <tr>\n",
       "      <th>Country Code</th>\n",
       "      <td>69.711986</td>\n",
       "      <td>69.711986</td>\n",
       "      <td>69.711986</td>\n",
       "      <td>69.711986</td>\n",
       "      <td>69.711986</td>\n",
       "      <td>69.711986</td>\n",
       "      <td>69.711986</td>\n",
       "      <td>69.711986</td>\n",
       "      <td>69.711986</td>\n",
       "      <td>69.711986</td>\n",
       "    </tr>\n",
       "    <tr>\n",
       "      <th>Country</th>\n",
       "      <td>69.711986</td>\n",
       "      <td>69.711986</td>\n",
       "      <td>69.711986</td>\n",
       "      <td>69.711986</td>\n",
       "      <td>69.711986</td>\n",
       "      <td>69.711986</td>\n",
       "      <td>69.711986</td>\n",
       "      <td>69.711986</td>\n",
       "      <td>69.711986</td>\n",
       "      <td>69.711986</td>\n",
       "    </tr>\n",
       "    <tr>\n",
       "      <th>Property Type</th>\n",
       "      <td>71.059509</td>\n",
       "      <td>71.059509</td>\n",
       "      <td>71.059509</td>\n",
       "      <td>71.059509</td>\n",
       "      <td>71.059509</td>\n",
       "      <td>71.059509</td>\n",
       "      <td>71.059509</td>\n",
       "      <td>71.059509</td>\n",
       "      <td>71.059509</td>\n",
       "      <td>71.059509</td>\n",
       "    </tr>\n",
       "    <tr>\n",
       "      <th>Room Type</th>\n",
       "      <td>93.610590</td>\n",
       "      <td>37.878623</td>\n",
       "      <td>37.878623</td>\n",
       "      <td>93.610590</td>\n",
       "      <td>93.610590</td>\n",
       "      <td>93.610590</td>\n",
       "      <td>37.878623</td>\n",
       "      <td>93.610590</td>\n",
       "      <td>93.610590</td>\n",
       "      <td>37.878623</td>\n",
       "    </tr>\n",
       "    <tr>\n",
       "      <th>Accommodates</th>\n",
       "      <td>5.000000</td>\n",
       "      <td>2.000000</td>\n",
       "      <td>1.000000</td>\n",
       "      <td>2.000000</td>\n",
       "      <td>4.000000</td>\n",
       "      <td>6.000000</td>\n",
       "      <td>1.000000</td>\n",
       "      <td>6.000000</td>\n",
       "      <td>2.000000</td>\n",
       "      <td>1.000000</td>\n",
       "    </tr>\n",
       "    <tr>\n",
       "      <th>Bathrooms</th>\n",
       "      <td>1.000000</td>\n",
       "      <td>1.000000</td>\n",
       "      <td>1.500000</td>\n",
       "      <td>1.000000</td>\n",
       "      <td>1.000000</td>\n",
       "      <td>2.000000</td>\n",
       "      <td>2.000000</td>\n",
       "      <td>2.000000</td>\n",
       "      <td>1.000000</td>\n",
       "      <td>1.000000</td>\n",
       "    </tr>\n",
       "    <tr>\n",
       "      <th>Bedrooms</th>\n",
       "      <td>2.000000</td>\n",
       "      <td>1.000000</td>\n",
       "      <td>1.000000</td>\n",
       "      <td>0.000000</td>\n",
       "      <td>1.000000</td>\n",
       "      <td>3.000000</td>\n",
       "      <td>1.000000</td>\n",
       "      <td>2.000000</td>\n",
       "      <td>1.000000</td>\n",
       "      <td>1.000000</td>\n",
       "    </tr>\n",
       "    <tr>\n",
       "      <th>Beds</th>\n",
       "      <td>4.000000</td>\n",
       "      <td>1.000000</td>\n",
       "      <td>1.000000</td>\n",
       "      <td>1.000000</td>\n",
       "      <td>2.000000</td>\n",
       "      <td>4.000000</td>\n",
       "      <td>1.000000</td>\n",
       "      <td>3.000000</td>\n",
       "      <td>2.000000</td>\n",
       "      <td>1.000000</td>\n",
       "    </tr>\n",
       "    <tr>\n",
       "      <th>Bed Type</th>\n",
       "      <td>72.205261</td>\n",
       "      <td>72.205261</td>\n",
       "      <td>72.205261</td>\n",
       "      <td>72.205261</td>\n",
       "      <td>72.205261</td>\n",
       "      <td>72.205261</td>\n",
       "      <td>72.205261</td>\n",
       "      <td>72.205261</td>\n",
       "      <td>72.205261</td>\n",
       "      <td>72.205261</td>\n",
       "    </tr>\n",
       "    <tr>\n",
       "      <th>Amenities</th>\n",
       "      <td>78.180694</td>\n",
       "      <td>69.099337</td>\n",
       "      <td>67.511799</td>\n",
       "      <td>73.000241</td>\n",
       "      <td>69.073101</td>\n",
       "      <td>78.835052</td>\n",
       "      <td>65.820389</td>\n",
       "      <td>72.976355</td>\n",
       "      <td>71.024728</td>\n",
       "      <td>64.649413</td>\n",
       "    </tr>\n",
       "    <tr>\n",
       "      <th>Guests Included</th>\n",
       "      <td>4.000000</td>\n",
       "      <td>1.000000</td>\n",
       "      <td>1.000000</td>\n",
       "      <td>1.000000</td>\n",
       "      <td>1.000000</td>\n",
       "      <td>4.000000</td>\n",
       "      <td>1.000000</td>\n",
       "      <td>4.000000</td>\n",
       "      <td>1.000000</td>\n",
       "      <td>1.000000</td>\n",
       "    </tr>\n",
       "    <tr>\n",
       "      <th>Extra People</th>\n",
       "      <td>15.000000</td>\n",
       "      <td>0.000000</td>\n",
       "      <td>0.000000</td>\n",
       "      <td>0.000000</td>\n",
       "      <td>0.000000</td>\n",
       "      <td>25.000000</td>\n",
       "      <td>0.000000</td>\n",
       "      <td>10.000000</td>\n",
       "      <td>0.000000</td>\n",
       "      <td>0.000000</td>\n",
       "    </tr>\n",
       "    <tr>\n",
       "      <th>Minimum Nights</th>\n",
       "      <td>3.000000</td>\n",
       "      <td>1.000000</td>\n",
       "      <td>1.000000</td>\n",
       "      <td>1.000000</td>\n",
       "      <td>1.000000</td>\n",
       "      <td>1.000000</td>\n",
       "      <td>2.000000</td>\n",
       "      <td>1.000000</td>\n",
       "      <td>3.000000</td>\n",
       "      <td>2.000000</td>\n",
       "    </tr>\n",
       "    <tr>\n",
       "      <th>Maximum Nights</th>\n",
       "      <td>1125.000000</td>\n",
       "      <td>1125.000000</td>\n",
       "      <td>35.000000</td>\n",
       "      <td>30.000000</td>\n",
       "      <td>1125.000000</td>\n",
       "      <td>1125.000000</td>\n",
       "      <td>10.000000</td>\n",
       "      <td>1125.000000</td>\n",
       "      <td>15.000000</td>\n",
       "      <td>30.000000</td>\n",
       "    </tr>\n",
       "    <tr>\n",
       "      <th>Availability 30</th>\n",
       "      <td>15.000000</td>\n",
       "      <td>0.000000</td>\n",
       "      <td>14.000000</td>\n",
       "      <td>5.000000</td>\n",
       "      <td>7.000000</td>\n",
       "      <td>5.000000</td>\n",
       "      <td>0.000000</td>\n",
       "      <td>10.000000</td>\n",
       "      <td>0.000000</td>\n",
       "      <td>6.000000</td>\n",
       "    </tr>\n",
       "    <tr>\n",
       "      <th>Availability 60</th>\n",
       "      <td>33.000000</td>\n",
       "      <td>0.000000</td>\n",
       "      <td>36.000000</td>\n",
       "      <td>14.000000</td>\n",
       "      <td>16.000000</td>\n",
       "      <td>11.000000</td>\n",
       "      <td>5.000000</td>\n",
       "      <td>40.000000</td>\n",
       "      <td>8.000000</td>\n",
       "      <td>36.000000</td>\n",
       "    </tr>\n",
       "    <tr>\n",
       "      <th>Availability 90</th>\n",
       "      <td>53.000000</td>\n",
       "      <td>0.000000</td>\n",
       "      <td>62.000000</td>\n",
       "      <td>35.000000</td>\n",
       "      <td>40.000000</td>\n",
       "      <td>15.000000</td>\n",
       "      <td>31.000000</td>\n",
       "      <td>70.000000</td>\n",
       "      <td>35.000000</td>\n",
       "      <td>66.000000</td>\n",
       "    </tr>\n",
       "    <tr>\n",
       "      <th>Availability 365</th>\n",
       "      <td>122.000000</td>\n",
       "      <td>0.000000</td>\n",
       "      <td>337.000000</td>\n",
       "      <td>306.000000</td>\n",
       "      <td>315.000000</td>\n",
       "      <td>243.000000</td>\n",
       "      <td>32.000000</td>\n",
       "      <td>70.000000</td>\n",
       "      <td>35.000000</td>\n",
       "      <td>67.000000</td>\n",
       "    </tr>\n",
       "    <tr>\n",
       "      <th>Number of Reviews</th>\n",
       "      <td>0.000000</td>\n",
       "      <td>0.000000</td>\n",
       "      <td>224.000000</td>\n",
       "      <td>23.000000</td>\n",
       "      <td>65.000000</td>\n",
       "      <td>26.000000</td>\n",
       "      <td>23.000000</td>\n",
       "      <td>5.000000</td>\n",
       "      <td>1.000000</td>\n",
       "      <td>0.000000</td>\n",
       "    </tr>\n",
       "    <tr>\n",
       "      <th>Review Scores Rating</th>\n",
       "      <td>91.705322</td>\n",
       "      <td>91.705322</td>\n",
       "      <td>96.000000</td>\n",
       "      <td>83.000000</td>\n",
       "      <td>83.000000</td>\n",
       "      <td>97.000000</td>\n",
       "      <td>97.000000</td>\n",
       "      <td>90.000000</td>\n",
       "      <td>100.000000</td>\n",
       "      <td>91.705322</td>\n",
       "    </tr>\n",
       "    <tr>\n",
       "      <th>Review Scores Accuracy</th>\n",
       "      <td>9.412657</td>\n",
       "      <td>9.412657</td>\n",
       "      <td>10.000000</td>\n",
       "      <td>8.000000</td>\n",
       "      <td>9.000000</td>\n",
       "      <td>10.000000</td>\n",
       "      <td>10.000000</td>\n",
       "      <td>10.000000</td>\n",
       "      <td>8.000000</td>\n",
       "      <td>9.412657</td>\n",
       "    </tr>\n",
       "    <tr>\n",
       "      <th>Review Scores Cleanliness</th>\n",
       "      <td>9.325390</td>\n",
       "      <td>9.325390</td>\n",
       "      <td>10.000000</td>\n",
       "      <td>8.000000</td>\n",
       "      <td>9.000000</td>\n",
       "      <td>10.000000</td>\n",
       "      <td>10.000000</td>\n",
       "      <td>10.000000</td>\n",
       "      <td>8.000000</td>\n",
       "      <td>9.325390</td>\n",
       "    </tr>\n",
       "    <tr>\n",
       "      <th>Review Scores Checkin</th>\n",
       "      <td>9.609470</td>\n",
       "      <td>9.609470</td>\n",
       "      <td>10.000000</td>\n",
       "      <td>9.000000</td>\n",
       "      <td>9.000000</td>\n",
       "      <td>10.000000</td>\n",
       "      <td>10.000000</td>\n",
       "      <td>10.000000</td>\n",
       "      <td>10.000000</td>\n",
       "      <td>9.609470</td>\n",
       "    </tr>\n",
       "    <tr>\n",
       "      <th>Review Scores Communication</th>\n",
       "      <td>9.635182</td>\n",
       "      <td>9.635182</td>\n",
       "      <td>10.000000</td>\n",
       "      <td>9.000000</td>\n",
       "      <td>9.000000</td>\n",
       "      <td>10.000000</td>\n",
       "      <td>10.000000</td>\n",
       "      <td>10.000000</td>\n",
       "      <td>8.000000</td>\n",
       "      <td>9.635182</td>\n",
       "    </tr>\n",
       "    <tr>\n",
       "      <th>Review Scores Location</th>\n",
       "      <td>9.509557</td>\n",
       "      <td>9.509557</td>\n",
       "      <td>10.000000</td>\n",
       "      <td>10.000000</td>\n",
       "      <td>9.000000</td>\n",
       "      <td>10.000000</td>\n",
       "      <td>10.000000</td>\n",
       "      <td>10.000000</td>\n",
       "      <td>10.000000</td>\n",
       "      <td>9.509557</td>\n",
       "    </tr>\n",
       "    <tr>\n",
       "      <th>Review Scores Value</th>\n",
       "      <td>9.207211</td>\n",
       "      <td>9.207211</td>\n",
       "      <td>10.000000</td>\n",
       "      <td>9.000000</td>\n",
       "      <td>9.000000</td>\n",
       "      <td>10.000000</td>\n",
       "      <td>10.000000</td>\n",
       "      <td>9.000000</td>\n",
       "      <td>10.000000</td>\n",
       "      <td>9.207211</td>\n",
       "    </tr>\n",
       "    <tr>\n",
       "      <th>Cancellation Policy</th>\n",
       "      <td>65.660819</td>\n",
       "      <td>84.430282</td>\n",
       "      <td>84.430282</td>\n",
       "      <td>84.430282</td>\n",
       "      <td>84.430282</td>\n",
       "      <td>65.660819</td>\n",
       "      <td>61.055860</td>\n",
       "      <td>65.660819</td>\n",
       "      <td>61.055860</td>\n",
       "      <td>61.055860</td>\n",
       "    </tr>\n",
       "    <tr>\n",
       "      <th>bed_in_rooms</th>\n",
       "      <td>0.500000</td>\n",
       "      <td>1.000000</td>\n",
       "      <td>1.000000</td>\n",
       "      <td>0.000000</td>\n",
       "      <td>0.500000</td>\n",
       "      <td>0.750000</td>\n",
       "      <td>1.000000</td>\n",
       "      <td>0.666667</td>\n",
       "      <td>0.500000</td>\n",
       "      <td>1.000000</td>\n",
       "    </tr>\n",
       "  </tbody>\n",
       "</table>\n",
       "</div>"
      ],
      "text/plain": [
       "                                        0            1           2  \\\n",
       "Price                          120.000000    52.000000   38.000000   \n",
       "Neighbourhood Cleansed         102.684515    75.887805   71.490684   \n",
       "Neighbourhood Group Cleansed    81.170727    81.351023   81.351023   \n",
       "City                            65.212942    65.212942   65.212942   \n",
       "State                           71.150754    64.058074   64.058074   \n",
       "Country Code                    69.711986    69.711986   69.711986   \n",
       "Country                         69.711986    69.711986   69.711986   \n",
       "Property Type                   71.059509    71.059509   71.059509   \n",
       "Room Type                       93.610590    37.878623   37.878623   \n",
       "Accommodates                     5.000000     2.000000    1.000000   \n",
       "Bathrooms                        1.000000     1.000000    1.500000   \n",
       "Bedrooms                         2.000000     1.000000    1.000000   \n",
       "Beds                             4.000000     1.000000    1.000000   \n",
       "Bed Type                        72.205261    72.205261   72.205261   \n",
       "Amenities                       78.180694    69.099337   67.511799   \n",
       "Guests Included                  4.000000     1.000000    1.000000   \n",
       "Extra People                    15.000000     0.000000    0.000000   \n",
       "Minimum Nights                   3.000000     1.000000    1.000000   \n",
       "Maximum Nights                1125.000000  1125.000000   35.000000   \n",
       "Availability 30                 15.000000     0.000000   14.000000   \n",
       "Availability 60                 33.000000     0.000000   36.000000   \n",
       "Availability 90                 53.000000     0.000000   62.000000   \n",
       "Availability 365               122.000000     0.000000  337.000000   \n",
       "Number of Reviews                0.000000     0.000000  224.000000   \n",
       "Review Scores Rating            91.705322    91.705322   96.000000   \n",
       "Review Scores Accuracy           9.412657     9.412657   10.000000   \n",
       "Review Scores Cleanliness        9.325390     9.325390   10.000000   \n",
       "Review Scores Checkin            9.609470     9.609470   10.000000   \n",
       "Review Scores Communication      9.635182     9.635182   10.000000   \n",
       "Review Scores Location           9.509557     9.509557   10.000000   \n",
       "Review Scores Value              9.207211     9.207211   10.000000   \n",
       "Cancellation Policy             65.660819    84.430282   84.430282   \n",
       "bed_in_rooms                     0.500000     1.000000    1.000000   \n",
       "\n",
       "                                       3            4            5          6  \\\n",
       "Price                          60.000000    50.000000   145.000000  25.000000   \n",
       "Neighbourhood Cleansed         71.490684    69.712375    92.018849  60.905292   \n",
       "Neighbourhood Group Cleansed   81.351023    81.351023    81.351023  81.351023   \n",
       "City                           65.212942    65.212942    65.212942  65.212942   \n",
       "State                          64.058074    64.058074    64.058074  64.058074   \n",
       "Country Code                   69.711986    69.711986    69.711986  69.711986   \n",
       "Country                        69.711986    69.711986    69.711986  69.711986   \n",
       "Property Type                  71.059509    71.059509    71.059509  71.059509   \n",
       "Room Type                      93.610590    93.610590    93.610590  37.878623   \n",
       "Accommodates                    2.000000     4.000000     6.000000   1.000000   \n",
       "Bathrooms                       1.000000     1.000000     2.000000   2.000000   \n",
       "Bedrooms                        0.000000     1.000000     3.000000   1.000000   \n",
       "Beds                            1.000000     2.000000     4.000000   1.000000   \n",
       "Bed Type                       72.205261    72.205261    72.205261  72.205261   \n",
       "Amenities                      73.000241    69.073101    78.835052  65.820389   \n",
       "Guests Included                 1.000000     1.000000     4.000000   1.000000   \n",
       "Extra People                    0.000000     0.000000    25.000000   0.000000   \n",
       "Minimum Nights                  1.000000     1.000000     1.000000   2.000000   \n",
       "Maximum Nights                 30.000000  1125.000000  1125.000000  10.000000   \n",
       "Availability 30                 5.000000     7.000000     5.000000   0.000000   \n",
       "Availability 60                14.000000    16.000000    11.000000   5.000000   \n",
       "Availability 90                35.000000    40.000000    15.000000  31.000000   \n",
       "Availability 365              306.000000   315.000000   243.000000  32.000000   \n",
       "Number of Reviews              23.000000    65.000000    26.000000  23.000000   \n",
       "Review Scores Rating           83.000000    83.000000    97.000000  97.000000   \n",
       "Review Scores Accuracy          8.000000     9.000000    10.000000  10.000000   \n",
       "Review Scores Cleanliness       8.000000     9.000000    10.000000  10.000000   \n",
       "Review Scores Checkin           9.000000     9.000000    10.000000  10.000000   \n",
       "Review Scores Communication     9.000000     9.000000    10.000000  10.000000   \n",
       "Review Scores Location         10.000000     9.000000    10.000000  10.000000   \n",
       "Review Scores Value             9.000000     9.000000    10.000000  10.000000   \n",
       "Cancellation Policy            84.430282    84.430282    65.660819  61.055860   \n",
       "bed_in_rooms                    0.000000     0.500000     0.750000   1.000000   \n",
       "\n",
       "                                        7           8          9  \n",
       "Price                           80.000000   65.000000  16.000000  \n",
       "Neighbourhood Cleansed          66.679381   75.887805  50.285117  \n",
       "Neighbourhood Group Cleansed    46.669060   81.351023  45.942567  \n",
       "City                            65.212942   65.212942  65.212942  \n",
       "State                           64.058074   64.058074  64.058074  \n",
       "Country Code                    69.711986   69.711986  69.711986  \n",
       "Country                         69.711986   69.711986  69.711986  \n",
       "Property Type                   71.059509   71.059509  71.059509  \n",
       "Room Type                       93.610590   93.610590  37.878623  \n",
       "Accommodates                     6.000000    2.000000   1.000000  \n",
       "Bathrooms                        2.000000    1.000000   1.000000  \n",
       "Bedrooms                         2.000000    1.000000   1.000000  \n",
       "Beds                             3.000000    2.000000   1.000000  \n",
       "Bed Type                        72.205261   72.205261  72.205261  \n",
       "Amenities                       72.976355   71.024728  64.649413  \n",
       "Guests Included                  4.000000    1.000000   1.000000  \n",
       "Extra People                    10.000000    0.000000   0.000000  \n",
       "Minimum Nights                   1.000000    3.000000   2.000000  \n",
       "Maximum Nights                1125.000000   15.000000  30.000000  \n",
       "Availability 30                 10.000000    0.000000   6.000000  \n",
       "Availability 60                 40.000000    8.000000  36.000000  \n",
       "Availability 90                 70.000000   35.000000  66.000000  \n",
       "Availability 365                70.000000   35.000000  67.000000  \n",
       "Number of Reviews                5.000000    1.000000   0.000000  \n",
       "Review Scores Rating            90.000000  100.000000  91.705322  \n",
       "Review Scores Accuracy          10.000000    8.000000   9.412657  \n",
       "Review Scores Cleanliness       10.000000    8.000000   9.325390  \n",
       "Review Scores Checkin           10.000000   10.000000   9.609470  \n",
       "Review Scores Communication     10.000000    8.000000   9.635182  \n",
       "Review Scores Location          10.000000   10.000000   9.509557  \n",
       "Review Scores Value              9.000000   10.000000   9.207211  \n",
       "Cancellation Policy             65.660819   61.055860  61.055860  \n",
       "bed_in_rooms                     0.666667    0.500000   1.000000  "
      ]
     },
     "execution_count": 41,
     "metadata": {},
     "output_type": "execute_result"
    }
   ],
   "source": [
    "airbnb_data_test.head(10).T\n"
   ]
  },
  {
   "cell_type": "code",
   "execution_count": 43,
   "metadata": {},
   "outputs": [
    {
     "data": {
      "text/html": [
       "<div>\n",
       "<style scoped>\n",
       "    .dataframe tbody tr th:only-of-type {\n",
       "        vertical-align: middle;\n",
       "    }\n",
       "\n",
       "    .dataframe tbody tr th {\n",
       "        vertical-align: top;\n",
       "    }\n",
       "\n",
       "    .dataframe thead th {\n",
       "        text-align: right;\n",
       "    }\n",
       "</style>\n",
       "<table border=\"1\" class=\"dataframe\">\n",
       "  <thead>\n",
       "    <tr style=\"text-align: right;\">\n",
       "      <th></th>\n",
       "      <th>0</th>\n",
       "      <th>1</th>\n",
       "      <th>2</th>\n",
       "      <th>3</th>\n",
       "      <th>4</th>\n",
       "    </tr>\n",
       "  </thead>\n",
       "  <tbody>\n",
       "    <tr>\n",
       "      <th>Price</th>\n",
       "      <td>70.000000</td>\n",
       "      <td>80.000000</td>\n",
       "      <td>28.000000</td>\n",
       "      <td>60.000000</td>\n",
       "      <td>120.000000</td>\n",
       "    </tr>\n",
       "    <tr>\n",
       "      <th>Neighbourhood Cleansed</th>\n",
       "      <td>67.628814</td>\n",
       "      <td>78.547836</td>\n",
       "      <td>107.001729</td>\n",
       "      <td>56.148238</td>\n",
       "      <td>108.884163</td>\n",
       "    </tr>\n",
       "    <tr>\n",
       "      <th>Neighbourhood Group Cleansed</th>\n",
       "      <td>64.288155</td>\n",
       "      <td>81.380241</td>\n",
       "      <td>86.144444</td>\n",
       "      <td>71.997413</td>\n",
       "      <td>81.380241</td>\n",
       "    </tr>\n",
       "    <tr>\n",
       "      <th>City</th>\n",
       "      <td>66.104175</td>\n",
       "      <td>66.104175</td>\n",
       "      <td>67.989304</td>\n",
       "      <td>66.104175</td>\n",
       "      <td>125.182875</td>\n",
       "    </tr>\n",
       "    <tr>\n",
       "      <th>State</th>\n",
       "      <td>66.050353</td>\n",
       "      <td>66.050353</td>\n",
       "      <td>64.287546</td>\n",
       "      <td>66.050353</td>\n",
       "      <td>119.782688</td>\n",
       "    </tr>\n",
       "    <tr>\n",
       "      <th>Country Code</th>\n",
       "      <td>71.965342</td>\n",
       "      <td>71.965342</td>\n",
       "      <td>71.965342</td>\n",
       "      <td>71.965342</td>\n",
       "      <td>123.133874</td>\n",
       "    </tr>\n",
       "    <tr>\n",
       "      <th>Country</th>\n",
       "      <td>71.965342</td>\n",
       "      <td>71.965342</td>\n",
       "      <td>71.965342</td>\n",
       "      <td>71.965342</td>\n",
       "      <td>123.133874</td>\n",
       "    </tr>\n",
       "    <tr>\n",
       "      <th>Property Type</th>\n",
       "      <td>72.339303</td>\n",
       "      <td>72.339303</td>\n",
       "      <td>72.339303</td>\n",
       "      <td>72.339303</td>\n",
       "      <td>99.218349</td>\n",
       "    </tr>\n",
       "    <tr>\n",
       "      <th>Room Type</th>\n",
       "      <td>95.566872</td>\n",
       "      <td>95.566872</td>\n",
       "      <td>41.196480</td>\n",
       "      <td>95.566872</td>\n",
       "      <td>41.196480</td>\n",
       "    </tr>\n",
       "    <tr>\n",
       "      <th>Accommodates</th>\n",
       "      <td>2.000000</td>\n",
       "      <td>4.000000</td>\n",
       "      <td>1.000000</td>\n",
       "      <td>4.000000</td>\n",
       "      <td>1.000000</td>\n",
       "    </tr>\n",
       "    <tr>\n",
       "      <th>Bathrooms</th>\n",
       "      <td>1.000000</td>\n",
       "      <td>1.000000</td>\n",
       "      <td>1.000000</td>\n",
       "      <td>1.000000</td>\n",
       "      <td>1.000000</td>\n",
       "    </tr>\n",
       "    <tr>\n",
       "      <th>Bedrooms</th>\n",
       "      <td>1.000000</td>\n",
       "      <td>1.000000</td>\n",
       "      <td>1.000000</td>\n",
       "      <td>1.000000</td>\n",
       "      <td>1.000000</td>\n",
       "    </tr>\n",
       "    <tr>\n",
       "      <th>Beds</th>\n",
       "      <td>1.000000</td>\n",
       "      <td>2.000000</td>\n",
       "      <td>1.000000</td>\n",
       "      <td>3.000000</td>\n",
       "      <td>1.000000</td>\n",
       "    </tr>\n",
       "    <tr>\n",
       "      <th>Bed Type</th>\n",
       "      <td>74.405887</td>\n",
       "      <td>74.405887</td>\n",
       "      <td>74.405887</td>\n",
       "      <td>74.405887</td>\n",
       "      <td>74.405887</td>\n",
       "    </tr>\n",
       "    <tr>\n",
       "      <th>Amenities</th>\n",
       "      <td>73.453860</td>\n",
       "      <td>74.754944</td>\n",
       "      <td>67.989304</td>\n",
       "      <td>72.152775</td>\n",
       "      <td>79.959283</td>\n",
       "    </tr>\n",
       "    <tr>\n",
       "      <th>Guests Included</th>\n",
       "      <td>1.000000</td>\n",
       "      <td>2.000000</td>\n",
       "      <td>1.000000</td>\n",
       "      <td>2.000000</td>\n",
       "      <td>1.000000</td>\n",
       "    </tr>\n",
       "    <tr>\n",
       "      <th>Extra People</th>\n",
       "      <td>0.000000</td>\n",
       "      <td>21.000000</td>\n",
       "      <td>0.000000</td>\n",
       "      <td>15.000000</td>\n",
       "      <td>60.000000</td>\n",
       "    </tr>\n",
       "    <tr>\n",
       "      <th>Minimum Nights</th>\n",
       "      <td>3.000000</td>\n",
       "      <td>1.000000</td>\n",
       "      <td>1.000000</td>\n",
       "      <td>1.000000</td>\n",
       "      <td>2.000000</td>\n",
       "    </tr>\n",
       "    <tr>\n",
       "      <th>Maximum Nights</th>\n",
       "      <td>30.000000</td>\n",
       "      <td>3.000000</td>\n",
       "      <td>1125.000000</td>\n",
       "      <td>1125.000000</td>\n",
       "      <td>1125.000000</td>\n",
       "    </tr>\n",
       "    <tr>\n",
       "      <th>Availability 30</th>\n",
       "      <td>0.000000</td>\n",
       "      <td>15.000000</td>\n",
       "      <td>30.000000</td>\n",
       "      <td>1.000000</td>\n",
       "      <td>30.000000</td>\n",
       "    </tr>\n",
       "    <tr>\n",
       "      <th>Availability 60</th>\n",
       "      <td>0.000000</td>\n",
       "      <td>45.000000</td>\n",
       "      <td>60.000000</td>\n",
       "      <td>4.000000</td>\n",
       "      <td>60.000000</td>\n",
       "    </tr>\n",
       "    <tr>\n",
       "      <th>Availability 90</th>\n",
       "      <td>0.000000</td>\n",
       "      <td>75.000000</td>\n",
       "      <td>90.000000</td>\n",
       "      <td>23.000000</td>\n",
       "      <td>90.000000</td>\n",
       "    </tr>\n",
       "    <tr>\n",
       "      <th>Availability 365</th>\n",
       "      <td>0.000000</td>\n",
       "      <td>75.000000</td>\n",
       "      <td>365.000000</td>\n",
       "      <td>298.000000</td>\n",
       "      <td>365.000000</td>\n",
       "    </tr>\n",
       "    <tr>\n",
       "      <th>Number of Reviews</th>\n",
       "      <td>3.000000</td>\n",
       "      <td>24.000000</td>\n",
       "      <td>2.000000</td>\n",
       "      <td>62.000000</td>\n",
       "      <td>24.000000</td>\n",
       "    </tr>\n",
       "    <tr>\n",
       "      <th>Review Scores Rating</th>\n",
       "      <td>100.000000</td>\n",
       "      <td>98.000000</td>\n",
       "      <td>90.000000</td>\n",
       "      <td>87.000000</td>\n",
       "      <td>100.000000</td>\n",
       "    </tr>\n",
       "    <tr>\n",
       "      <th>Review Scores Accuracy</th>\n",
       "      <td>10.000000</td>\n",
       "      <td>10.000000</td>\n",
       "      <td>10.000000</td>\n",
       "      <td>9.000000</td>\n",
       "      <td>10.000000</td>\n",
       "    </tr>\n",
       "    <tr>\n",
       "      <th>Review Scores Cleanliness</th>\n",
       "      <td>10.000000</td>\n",
       "      <td>10.000000</td>\n",
       "      <td>9.000000</td>\n",
       "      <td>10.000000</td>\n",
       "      <td>10.000000</td>\n",
       "    </tr>\n",
       "    <tr>\n",
       "      <th>Review Scores Checkin</th>\n",
       "      <td>10.000000</td>\n",
       "      <td>10.000000</td>\n",
       "      <td>10.000000</td>\n",
       "      <td>9.000000</td>\n",
       "      <td>10.000000</td>\n",
       "    </tr>\n",
       "    <tr>\n",
       "      <th>Review Scores Communication</th>\n",
       "      <td>10.000000</td>\n",
       "      <td>10.000000</td>\n",
       "      <td>10.000000</td>\n",
       "      <td>9.000000</td>\n",
       "      <td>10.000000</td>\n",
       "    </tr>\n",
       "    <tr>\n",
       "      <th>Review Scores Location</th>\n",
       "      <td>10.000000</td>\n",
       "      <td>10.000000</td>\n",
       "      <td>10.000000</td>\n",
       "      <td>9.000000</td>\n",
       "      <td>10.000000</td>\n",
       "    </tr>\n",
       "    <tr>\n",
       "      <th>Review Scores Value</th>\n",
       "      <td>10.000000</td>\n",
       "      <td>10.000000</td>\n",
       "      <td>9.000000</td>\n",
       "      <td>9.000000</td>\n",
       "      <td>10.000000</td>\n",
       "    </tr>\n",
       "    <tr>\n",
       "      <th>Cancellation Policy</th>\n",
       "      <td>64.895778</td>\n",
       "      <td>65.023188</td>\n",
       "      <td>64.895778</td>\n",
       "      <td>64.895778</td>\n",
       "      <td>65.023188</td>\n",
       "    </tr>\n",
       "    <tr>\n",
       "      <th>bed_in_rooms</th>\n",
       "      <td>1.000000</td>\n",
       "      <td>0.500000</td>\n",
       "      <td>1.000000</td>\n",
       "      <td>0.333333</td>\n",
       "      <td>1.000000</td>\n",
       "    </tr>\n",
       "  </tbody>\n",
       "</table>\n",
       "</div>"
      ],
      "text/plain": [
       "                                       0          1            2            3  \\\n",
       "Price                          70.000000  80.000000    28.000000    60.000000   \n",
       "Neighbourhood Cleansed         67.628814  78.547836   107.001729    56.148238   \n",
       "Neighbourhood Group Cleansed   64.288155  81.380241    86.144444    71.997413   \n",
       "City                           66.104175  66.104175    67.989304    66.104175   \n",
       "State                          66.050353  66.050353    64.287546    66.050353   \n",
       "Country Code                   71.965342  71.965342    71.965342    71.965342   \n",
       "Country                        71.965342  71.965342    71.965342    71.965342   \n",
       "Property Type                  72.339303  72.339303    72.339303    72.339303   \n",
       "Room Type                      95.566872  95.566872    41.196480    95.566872   \n",
       "Accommodates                    2.000000   4.000000     1.000000     4.000000   \n",
       "Bathrooms                       1.000000   1.000000     1.000000     1.000000   \n",
       "Bedrooms                        1.000000   1.000000     1.000000     1.000000   \n",
       "Beds                            1.000000   2.000000     1.000000     3.000000   \n",
       "Bed Type                       74.405887  74.405887    74.405887    74.405887   \n",
       "Amenities                      73.453860  74.754944    67.989304    72.152775   \n",
       "Guests Included                 1.000000   2.000000     1.000000     2.000000   \n",
       "Extra People                    0.000000  21.000000     0.000000    15.000000   \n",
       "Minimum Nights                  3.000000   1.000000     1.000000     1.000000   \n",
       "Maximum Nights                 30.000000   3.000000  1125.000000  1125.000000   \n",
       "Availability 30                 0.000000  15.000000    30.000000     1.000000   \n",
       "Availability 60                 0.000000  45.000000    60.000000     4.000000   \n",
       "Availability 90                 0.000000  75.000000    90.000000    23.000000   \n",
       "Availability 365                0.000000  75.000000   365.000000   298.000000   \n",
       "Number of Reviews               3.000000  24.000000     2.000000    62.000000   \n",
       "Review Scores Rating          100.000000  98.000000    90.000000    87.000000   \n",
       "Review Scores Accuracy         10.000000  10.000000    10.000000     9.000000   \n",
       "Review Scores Cleanliness      10.000000  10.000000     9.000000    10.000000   \n",
       "Review Scores Checkin          10.000000  10.000000    10.000000     9.000000   \n",
       "Review Scores Communication    10.000000  10.000000    10.000000     9.000000   \n",
       "Review Scores Location         10.000000  10.000000    10.000000     9.000000   \n",
       "Review Scores Value            10.000000  10.000000     9.000000     9.000000   \n",
       "Cancellation Policy            64.895778  65.023188    64.895778    64.895778   \n",
       "bed_in_rooms                    1.000000   0.500000     1.000000     0.333333   \n",
       "\n",
       "                                        4  \n",
       "Price                          120.000000  \n",
       "Neighbourhood Cleansed         108.884163  \n",
       "Neighbourhood Group Cleansed    81.380241  \n",
       "City                           125.182875  \n",
       "State                          119.782688  \n",
       "Country Code                   123.133874  \n",
       "Country                        123.133874  \n",
       "Property Type                   99.218349  \n",
       "Room Type                       41.196480  \n",
       "Accommodates                     1.000000  \n",
       "Bathrooms                        1.000000  \n",
       "Bedrooms                         1.000000  \n",
       "Beds                             1.000000  \n",
       "Bed Type                        74.405887  \n",
       "Amenities                       79.959283  \n",
       "Guests Included                  1.000000  \n",
       "Extra People                    60.000000  \n",
       "Minimum Nights                   2.000000  \n",
       "Maximum Nights                1125.000000  \n",
       "Availability 30                 30.000000  \n",
       "Availability 60                 60.000000  \n",
       "Availability 90                 90.000000  \n",
       "Availability 365               365.000000  \n",
       "Number of Reviews               24.000000  \n",
       "Review Scores Rating           100.000000  \n",
       "Review Scores Accuracy          10.000000  \n",
       "Review Scores Cleanliness       10.000000  \n",
       "Review Scores Checkin           10.000000  \n",
       "Review Scores Communication     10.000000  \n",
       "Review Scores Location          10.000000  \n",
       "Review Scores Value             10.000000  \n",
       "Cancellation Policy             65.023188  \n",
       "bed_in_rooms                     1.000000  "
      ]
     },
     "execution_count": 43,
     "metadata": {},
     "output_type": "execute_result"
    }
   ],
   "source": [
    "airbnb_data.head(5).T"
   ]
  },
  {
   "cell_type": "markdown",
   "metadata": {},
   "source": [
    "Preparamos los datos para sklearn"
   ]
  },
  {
   "cell_type": "code",
   "execution_count": 44,
   "metadata": {},
   "outputs": [],
   "source": [
    "from sklearn import preprocessing\n",
    "\n",
    "# Dataset de train\n",
    "data_train = airbnb_data.values\n",
    "y_train = data_train[:,0:1]     # nos quedamos con la 1ª columna, price\n",
    "X_train = data_train[:,1:]      # nos quedamos con el resto\n",
    "\n",
    "# Dataset de test\n",
    "data_test = airbnb_data_test.values\n",
    "y_test = data_test[:,0:1]     # nos quedamos con la 1ª columna, price\n",
    "X_test = data_test[:,1:]      # nos quedamos con el resto\n"
   ]
  },
  {
   "cell_type": "code",
   "execution_count": 45,
   "metadata": {},
   "outputs": [],
   "source": [
    "# Escalamos (con los datos de train)\n",
    "scaler = preprocessing.StandardScaler().fit(X_train)\n",
    "XtrainScaled = scaler.transform(X_train)\n",
    "\n",
    "# recordad que esta normalización/escalado la realizo con el scaler anterior, basado en los datos de training!\n",
    "XtestScaled = scaler.transform(X_test) "
   ]
  },
  {
   "cell_type": "code",
   "execution_count": 46,
   "metadata": {},
   "outputs": [
    {
     "name": "stdout",
     "output_type": "stream",
     "text": [
      "train (11810, 32)\n",
      "test (2953, 32)\n"
     ]
    }
   ],
   "source": [
    "print(\"train\", XtrainScaled.shape)\n",
    "print(\"test\", XtestScaled.shape)"
   ]
  },
  {
   "cell_type": "code",
   "execution_count": 47,
   "metadata": {},
   "outputs": [
    {
     "name": "stdout",
     "output_type": "stream",
     "text": [
      "Fitting 3 folds for each of 30 candidates, totalling 90 fits\n",
      "[CV] END ..........................................alpha=0.1; total time=   0.0s\n",
      "[CV] END ..........................................alpha=0.1; total time=   0.0s\n",
      "[CV] END ..........................................alpha=0.1; total time=   0.0s\n",
      "[CV] END ..........................alpha=0.12689610031679222; total time=   0.0s\n",
      "[CV] END ..........................alpha=0.12689610031679222; total time=   0.0s\n",
      "[CV] END ..........................alpha=0.12689610031679222; total time=   0.0s\n",
      "[CV] END ..........................alpha=0.16102620275609392; total time=   0.0s\n",
      "[CV] END ..........................alpha=0.16102620275609392; total time=   0.0s\n",
      "[CV] END ..........................alpha=0.16102620275609392; total time=   0.0s\n",
      "[CV] END ..........................alpha=0.20433597178569418; total time=   0.0s\n",
      "[CV] END ..........................alpha=0.20433597178569418; total time=   0.0s\n",
      "[CV] END ..........................alpha=0.20433597178569418; total time=   0.0s\n",
      "[CV] END ...........................alpha=0.2592943797404667; total time=   0.0s\n",
      "[CV] END ...........................alpha=0.2592943797404667; total time=   0.0s\n",
      "[CV] END ...........................alpha=0.2592943797404667; total time=   0.0s\n",
      "[CV] END ..........................alpha=0.32903445623126687; total time=   0.0s\n",
      "[CV] END ..........................alpha=0.32903445623126687; total time=   0.0s\n",
      "[CV] END ..........................alpha=0.32903445623126687; total time=   0.0s\n",
      "[CV] END ..........................alpha=0.41753189365604015; total time=   0.0s\n",
      "[CV] END ..........................alpha=0.41753189365604015; total time=   0.0s\n",
      "[CV] END ..........................alpha=0.41753189365604015; total time=   0.0s\n",
      "[CV] END ...........................alpha=0.5298316906283709; total time=   0.0s\n",
      "[CV] END ...........................alpha=0.5298316906283709; total time=   0.0s\n",
      "[CV] END ...........................alpha=0.5298316906283709; total time=   0.0s\n",
      "[CV] END ...........................alpha=0.6723357536499337; total time=   0.0s\n",
      "[CV] END ...........................alpha=0.6723357536499337; total time=   0.0s\n",
      "[CV] END ...........................alpha=0.6723357536499337; total time=   0.0s\n",
      "[CV] END ...........................alpha=0.8531678524172808; total time=   0.0s\n",
      "[CV] END ...........................alpha=0.8531678524172808; total time=   0.0s\n",
      "[CV] END ...........................alpha=0.8531678524172808; total time=   0.0s\n",
      "[CV] END ...........................alpha=1.0826367338740546; total time=   0.0s\n",
      "[CV] END ...........................alpha=1.0826367338740546; total time=   0.0s\n",
      "[CV] END ...........................alpha=1.0826367338740546; total time=   0.0s\n",
      "[CV] END ............................alpha=1.373823795883263; total time=   0.0s\n",
      "[CV] END ............................alpha=1.373823795883263; total time=   0.0s\n",
      "[CV] END ............................alpha=1.373823795883263; total time=   0.0s\n",
      "[CV] END ............................alpha=1.743328822199988; total time=   0.0s\n",
      "[CV] END ............................alpha=1.743328822199988; total time=   0.0s\n",
      "[CV] END ............................alpha=1.743328822199988; total time=   0.0s\n",
      "[CV] END ...........................alpha=2.2122162910704493; total time=   0.0s\n",
      "[CV] END ...........................alpha=2.2122162910704493; total time=   0.0s\n",
      "[CV] END ...........................alpha=2.2122162910704493; total time=   0.0s\n",
      "[CV] END ............................alpha=2.807216203941177; total time=   0.0s\n",
      "[CV] END ............................alpha=2.807216203941177; total time=   0.0s\n",
      "[CV] END ............................alpha=2.807216203941177; total time=   0.0s\n",
      "[CV] END ............................alpha=3.562247890262442; total time=   0.0s\n",
      "[CV] END ............................alpha=3.562247890262442; total time=   0.0s\n",
      "[CV] END ............................alpha=3.562247890262442; total time=   0.0s\n",
      "[CV] END ............................alpha=4.520353656360243; total time=   0.0s\n",
      "[CV] END ............................alpha=4.520353656360243; total time=   0.0s\n",
      "[CV] END ............................alpha=4.520353656360243; total time=   0.0s\n",
      "[CV] END ............................alpha=5.736152510448679; total time=   0.0s\n",
      "[CV] END ............................alpha=5.736152510448679; total time=   0.0s\n",
      "[CV] END ............................alpha=5.736152510448679; total time=   0.0s\n",
      "[CV] END .............................alpha=7.27895384398315; total time=   0.0s\n",
      "[CV] END .............................alpha=7.27895384398315; total time=   0.0s\n",
      "[CV] END .............................alpha=7.27895384398315; total time=   0.0s\n",
      "[CV] END .............................alpha=9.23670857187386; total time=   0.0s\n",
      "[CV] END .............................alpha=9.23670857187386; total time=   0.0s\n",
      "[CV] END .............................alpha=9.23670857187386; total time=   0.0s\n",
      "[CV] END ...........................alpha=11.721022975334806; total time=   0.0s\n",
      "[CV] END ...........................alpha=11.721022975334806; total time=   0.0s\n",
      "[CV] END ...........................alpha=11.721022975334806; total time=   0.0s\n",
      "[CV] END ...........................alpha=14.873521072935118; total time=   0.0s\n",
      "[CV] END ...........................alpha=14.873521072935118; total time=   0.0s\n",
      "[CV] END ...........................alpha=14.873521072935118; total time=   0.0s\n",
      "[CV] END ...........................alpha=18.873918221350976; total time=   0.0s\n",
      "[CV] END ...........................alpha=18.873918221350976; total time=   0.0s\n",
      "[CV] END ...........................alpha=18.873918221350976; total time=   0.0s\n",
      "[CV] END ............................alpha=23.95026619987486; total time=   0.0s\n",
      "[CV] END ............................alpha=23.95026619987486; total time=   0.0s\n",
      "[CV] END ............................alpha=23.95026619987486; total time=   0.0s\n",
      "[CV] END ............................alpha=30.39195382313198; total time=   0.0s\n",
      "[CV] END ............................alpha=30.39195382313198; total time=   0.0s\n",
      "[CV] END ............................alpha=30.39195382313198; total time=   0.0s\n",
      "[CV] END ............................alpha=38.56620421163472; total time=   0.0s\n",
      "[CV] END ............................alpha=38.56620421163472; total time=   0.0s\n",
      "[CV] END ............................alpha=38.56620421163472; total time=   0.0s\n",
      "[CV] END ............................alpha=48.93900918477494; total time=   0.0s\n",
      "[CV] END ............................alpha=48.93900918477494; total time=   0.0s\n",
      "[CV] END ............................alpha=48.93900918477494; total time=   0.0s\n",
      "[CV] END ............................alpha=62.10169418915616; total time=   0.0s\n",
      "[CV] END ............................alpha=62.10169418915616; total time=   0.0s\n",
      "[CV] END ............................alpha=62.10169418915616; total time=   0.0s\n",
      "[CV] END ............................alpha=78.80462815669912; total time=   0.0s\n",
      "[CV] END ............................alpha=78.80462815669912; total time=   0.0s\n",
      "[CV] END ............................alpha=78.80462815669912; total time=   0.0s\n",
      "[CV] END ........................................alpha=100.0; total time=   0.0s\n",
      "[CV] END ........................................alpha=100.0; total time=   0.0s\n",
      "[CV] END ........................................alpha=100.0; total time=   0.0s\n",
      "best mean cross-validation score: -1849.058\n",
      "best parameters: {'alpha': np.float64(0.20433597178569418)}\n"
     ]
    },
    {
     "data": {
      "image/png": "[encoded data removed]",
      "text/plain": [
       "<Figure size 640x480 with 1 Axes>"
      ]
     },
     "metadata": {},
     "output_type": "display_data"
    }
   ],
   "source": [
    "from sklearn.model_selection import GridSearchCV\n",
    "from sklearn.linear_model import Lasso\n",
    "\n",
    "alpha_vector = np.logspace(-1,2,30) # utilice los valores de 10^-1 a 10^2 para una mejor visualizacion \n",
    "param_grid = {'alpha': alpha_vector }\n",
    "grid = GridSearchCV(Lasso(), scoring= 'neg_mean_squared_error', param_grid=param_grid, cv = 3, verbose=2)\n",
    "grid.fit(XtrainScaled, y_train)\n",
    "print(\"best mean cross-validation score: {:.3f}\".format(grid.best_score_))\n",
    "print(\"best parameters: {}\".format(grid.best_params_))\n",
    "\n",
    "#-1 porque es negado\n",
    "scores = -1*np.array(grid.cv_results_['mean_test_score'])\n",
    "plt.semilogx(alpha_vector,scores,'-o')\n",
    "plt.xlabel('alpha',fontsize=16)\n",
    "plt.ylabel('3-Fold MSE')\n",
    "plt.show()"
   ]
  },
  {
   "cell_type": "code",
   "execution_count": 48,
   "metadata": {},
   "outputs": [
    {
     "name": "stdout",
     "output_type": "stream",
     "text": [
      "MSE Modelo Lasso (train): 1.79e+03\n",
      "MSE Modelo Lasso (test) : 1.41e+03\n",
      "RMSE Modelo Lasso (train): 42.3\n",
      "RMSE Modelo Lasso (test) : 37.5\n",
      "Neighbourhood Cleansed 8.47107717642246\n",
      "Neighbourhood Group Cleansed 0.0\n",
      "City 15.280342579446526\n",
      "State -3.6266297256756688\n",
      "Country Code 9.090132794689437\n",
      "Country 1.7481396892671863e-14\n",
      "Property Type 0.0\n",
      "Room Type 13.032674697674826\n",
      "Accommodates 10.401283765522079\n",
      "Bathrooms 10.1353332699271\n",
      "Bedrooms 15.14871762970257\n",
      "Beds -4.615300283623092\n",
      "Bed Type 0.22173853016880798\n",
      "Amenities 27.239386475158813\n",
      "Guests Included 0.0\n",
      "Extra People 0.2875369465083418\n",
      "Minimum Nights 0.0\n",
      "Maximum Nights -0.0\n",
      "Availability 30 5.1281750677684625\n",
      "Availability 60 0.0\n",
      "Availability 90 -0.0\n",
      "Availability 365 0.11584290048832475\n",
      "Number of Reviews -2.4076717779032686\n",
      "Review Scores Rating 2.714004396456413\n",
      "Review Scores Accuracy 0.6889192009231604\n",
      "Review Scores Cleanliness 1.402264060516171\n",
      "Review Scores Checkin -0.35034729641696605\n",
      "Review Scores Communication -0.3853845022375\n",
      "Review Scores Location 1.5216126128657312\n",
      "Review Scores Value -1.452361961384521\n",
      "Cancellation Policy 0.8850133901623667\n",
      "bed_in_rooms -2.930377019515624\n"
     ]
    }
   ],
   "source": [
    "from sklearn.metrics import mean_squared_error\n",
    "\n",
    "alpha_optimo = grid.best_params_['alpha']\n",
    "lasso = Lasso(alpha = alpha_optimo).fit(XtrainScaled,y_train)\n",
    "\n",
    "ytrainLasso = lasso.predict(XtrainScaled)\n",
    "ytestLasso  = lasso.predict(XtestScaled)\n",
    "mseTrainModelLasso = mean_squared_error(y_train,ytrainLasso)\n",
    "mseTestModelLasso = mean_squared_error(y_test,ytestLasso)\n",
    "\n",
    "print('MSE Modelo Lasso (train): %0.3g' % mseTrainModelLasso)\n",
    "print('MSE Modelo Lasso (test) : %0.3g' % mseTestModelLasso)\n",
    "\n",
    "print('RMSE Modelo Lasso (train): %0.3g' % np.sqrt(mseTrainModelLasso))\n",
    "print('RMSE Modelo Lasso (test) : %0.3g' % np.sqrt(mseTestModelLasso))\n",
    "\n",
    "feature_names = airbnb_data.columns[1:] # es igual en train y en test\n",
    "\n",
    "w = lasso.coef_\n",
    "for f,wi in zip(feature_names,w):\n",
    "    print(f,wi)"
   ]
  },
  {
   "cell_type": "markdown",
   "metadata": {},
   "source": [
    "#### **Conclusiones**"
   ]
  },
  {
   "cell_type": "markdown",
   "metadata": {},
   "source": [
    "Podemos ver la influencia que el modelo lasso le da a cada variable por ahora nos podemos quedar con que:\n",
    "\n",
    "- **Property Type**, **Guests Included**, **Minimum Nights**, **Maximum Nights**: Estas tienen poca relevancia a la hora de calcular el precio del airbnb ya que su valor es de **(0.0)**\n",
    "\n",
    "- **Amenities**, **Bedrooms**, **City**: Son variables de gran importancia para el modelo ya que tienen un coeficiente positivo y alto lo que significa que impactan de manera directa al precio (cuando estas varian o aumentan tambien lo hace el precio) **(27.23)** - **(15.14)** - **(15.28)**\n",
    "\n",
    "- **Beds**, **bed_in_rooms**: Aqui hay una situacion interesante ya que el modelo plantea que a medida hay mas camas el precio ba bajando ya que su coeficiente es negativo **(-4.61)** y la variable bed_in_rooms **(-2.93)**parece indicar lo mismo que entre mas camas hay por habitacion el precio baja. Esto se puede deber a que intentan acomodar una mayor de personas sin necesariamente tener una area mas grande (pero carecemos de la informacion de area del apto/casa)."
   ]
  },
  {
   "cell_type": "markdown",
   "metadata": {},
   "source": [
    "#### **Metodo 2 Random Forest**"
   ]
  },
  {
   "cell_type": "code",
   "execution_count": 50,
   "metadata": {},
   "outputs": [
    {
     "name": "stdout",
     "output_type": "stream",
     "text": [
      "Fitting 5 folds for each of 19 candidates, totalling 95 fits\n"
     ]
    },
    {
     "name": "stderr",
     "output_type": "stream",
     "text": [
      "c:\\Users\\Alejandro\\AppData\\Local\\Programs\\Python\\Python312\\Lib\\site-packages\\sklearn\\base.py:1473: DataConversionWarning: A column-vector y was passed when a 1d array was expected. Please change the shape of y to (n_samples,), for example using ravel().\n",
      "  return fit_method(estimator, *args, **kwargs)\n"
     ]
    },
    {
     "name": "stdout",
     "output_type": "stream",
     "text": [
      "[CV] END ........................................max_depth=1; total time=   0.2s\n"
     ]
    },
    {
     "name": "stderr",
     "output_type": "stream",
     "text": [
      "c:\\Users\\Alejandro\\AppData\\Local\\Programs\\Python\\Python312\\Lib\\site-packages\\sklearn\\base.py:1473: DataConversionWarning: A column-vector y was passed when a 1d array was expected. Please change the shape of y to (n_samples,), for example using ravel().\n",
      "  return fit_method(estimator, *args, **kwargs)\n"
     ]
    },
    {
     "name": "stdout",
     "output_type": "stream",
     "text": [
      "[CV] END ........................................max_depth=1; total time=   0.2s\n"
     ]
    },
    {
     "name": "stderr",
     "output_type": "stream",
     "text": [
      "c:\\Users\\Alejandro\\AppData\\Local\\Programs\\Python\\Python312\\Lib\\site-packages\\sklearn\\base.py:1473: DataConversionWarning: A column-vector y was passed when a 1d array was expected. Please change the shape of y to (n_samples,), for example using ravel().\n",
      "  return fit_method(estimator, *args, **kwargs)\n"
     ]
    },
    {
     "name": "stdout",
     "output_type": "stream",
     "text": [
      "[CV] END ........................................max_depth=1; total time=   0.2s\n"
     ]
    },
    {
     "name": "stderr",
     "output_type": "stream",
     "text": [
      "c:\\Users\\Alejandro\\AppData\\Local\\Programs\\Python\\Python312\\Lib\\site-packages\\sklearn\\base.py:1473: DataConversionWarning: A column-vector y was passed when a 1d array was expected. Please change the shape of y to (n_samples,), for example using ravel().\n",
      "  return fit_method(estimator, *args, **kwargs)\n"
     ]
    },
    {
     "name": "stdout",
     "output_type": "stream",
     "text": [
      "[CV] END ........................................max_depth=1; total time=   0.2s\n"
     ]
    },
    {
     "name": "stderr",
     "output_type": "stream",
     "text": [
      "c:\\Users\\Alejandro\\AppData\\Local\\Programs\\Python\\Python312\\Lib\\site-packages\\sklearn\\base.py:1473: DataConversionWarning: A column-vector y was passed when a 1d array was expected. Please change the shape of y to (n_samples,), for example using ravel().\n",
      "  return fit_method(estimator, *args, **kwargs)\n"
     ]
    },
    {
     "name": "stdout",
     "output_type": "stream",
     "text": [
      "[CV] END ........................................max_depth=1; total time=   0.2s\n"
     ]
    },
    {
     "name": "stderr",
     "output_type": "stream",
     "text": [
      "c:\\Users\\Alejandro\\AppData\\Local\\Programs\\Python\\Python312\\Lib\\site-packages\\sklearn\\base.py:1473: DataConversionWarning: A column-vector y was passed when a 1d array was expected. Please change the shape of y to (n_samples,), for example using ravel().\n",
      "  return fit_method(estimator, *args, **kwargs)\n"
     ]
    },
    {
     "name": "stdout",
     "output_type": "stream",
     "text": [
      "[CV] END ........................................max_depth=2; total time=   0.3s\n"
     ]
    },
    {
     "name": "stderr",
     "output_type": "stream",
     "text": [
      "c:\\Users\\Alejandro\\AppData\\Local\\Programs\\Python\\Python312\\Lib\\site-packages\\sklearn\\base.py:1473: DataConversionWarning: A column-vector y was passed when a 1d array was expected. Please change the shape of y to (n_samples,), for example using ravel().\n",
      "  return fit_method(estimator, *args, **kwargs)\n"
     ]
    },
    {
     "name": "stdout",
     "output_type": "stream",
     "text": [
      "[CV] END ........................................max_depth=2; total time=   0.3s\n"
     ]
    },
    {
     "name": "stderr",
     "output_type": "stream",
     "text": [
      "c:\\Users\\Alejandro\\AppData\\Local\\Programs\\Python\\Python312\\Lib\\site-packages\\sklearn\\base.py:1473: DataConversionWarning: A column-vector y was passed when a 1d array was expected. Please change the shape of y to (n_samples,), for example using ravel().\n",
      "  return fit_method(estimator, *args, **kwargs)\n"
     ]
    },
    {
     "name": "stdout",
     "output_type": "stream",
     "text": [
      "[CV] END ........................................max_depth=2; total time=   0.3s\n"
     ]
    },
    {
     "name": "stderr",
     "output_type": "stream",
     "text": [
      "c:\\Users\\Alejandro\\AppData\\Local\\Programs\\Python\\Python312\\Lib\\site-packages\\sklearn\\base.py:1473: DataConversionWarning: A column-vector y was passed when a 1d array was expected. Please change the shape of y to (n_samples,), for example using ravel().\n",
      "  return fit_method(estimator, *args, **kwargs)\n"
     ]
    },
    {
     "name": "stdout",
     "output_type": "stream",
     "text": [
      "[CV] END ........................................max_depth=2; total time=   0.3s\n"
     ]
    },
    {
     "name": "stderr",
     "output_type": "stream",
     "text": [
      "c:\\Users\\Alejandro\\AppData\\Local\\Programs\\Python\\Python312\\Lib\\site-packages\\sklearn\\base.py:1473: DataConversionWarning: A column-vector y was passed when a 1d array was expected. Please change the shape of y to (n_samples,), for example using ravel().\n",
      "  return fit_method(estimator, *args, **kwargs)\n"
     ]
    },
    {
     "name": "stdout",
     "output_type": "stream",
     "text": [
      "[CV] END ........................................max_depth=2; total time=   0.3s\n"
     ]
    },
    {
     "name": "stderr",
     "output_type": "stream",
     "text": [
      "c:\\Users\\Alejandro\\AppData\\Local\\Programs\\Python\\Python312\\Lib\\site-packages\\sklearn\\base.py:1473: DataConversionWarning: A column-vector y was passed when a 1d array was expected. Please change the shape of y to (n_samples,), for example using ravel().\n",
      "  return fit_method(estimator, *args, **kwargs)\n"
     ]
    },
    {
     "name": "stdout",
     "output_type": "stream",
     "text": [
      "[CV] END ........................................max_depth=3; total time=   0.4s\n"
     ]
    },
    {
     "name": "stderr",
     "output_type": "stream",
     "text": [
      "c:\\Users\\Alejandro\\AppData\\Local\\Programs\\Python\\Python312\\Lib\\site-packages\\sklearn\\base.py:1473: DataConversionWarning: A column-vector y was passed when a 1d array was expected. Please change the shape of y to (n_samples,), for example using ravel().\n",
      "  return fit_method(estimator, *args, **kwargs)\n"
     ]
    },
    {
     "name": "stdout",
     "output_type": "stream",
     "text": [
      "[CV] END ........................................max_depth=3; total time=   0.4s\n"
     ]
    },
    {
     "name": "stderr",
     "output_type": "stream",
     "text": [
      "c:\\Users\\Alejandro\\AppData\\Local\\Programs\\Python\\Python312\\Lib\\site-packages\\sklearn\\base.py:1473: DataConversionWarning: A column-vector y was passed when a 1d array was expected. Please change the shape of y to (n_samples,), for example using ravel().\n",
      "  return fit_method(estimator, *args, **kwargs)\n"
     ]
    },
    {
     "name": "stdout",
     "output_type": "stream",
     "text": [
      "[CV] END ........................................max_depth=3; total time=   0.4s\n"
     ]
    },
    {
     "name": "stderr",
     "output_type": "stream",
     "text": [
      "c:\\Users\\Alejandro\\AppData\\Local\\Programs\\Python\\Python312\\Lib\\site-packages\\sklearn\\base.py:1473: DataConversionWarning: A column-vector y was passed when a 1d array was expected. Please change the shape of y to (n_samples,), for example using ravel().\n",
      "  return fit_method(estimator, *args, **kwargs)\n"
     ]
    },
    {
     "name": "stdout",
     "output_type": "stream",
     "text": [
      "[CV] END ........................................max_depth=3; total time=   0.4s\n"
     ]
    },
    {
     "name": "stderr",
     "output_type": "stream",
     "text": [
      "c:\\Users\\Alejandro\\AppData\\Local\\Programs\\Python\\Python312\\Lib\\site-packages\\sklearn\\base.py:1473: DataConversionWarning: A column-vector y was passed when a 1d array was expected. Please change the shape of y to (n_samples,), for example using ravel().\n",
      "  return fit_method(estimator, *args, **kwargs)\n"
     ]
    },
    {
     "name": "stdout",
     "output_type": "stream",
     "text": [
      "[CV] END ........................................max_depth=3; total time=   0.3s\n"
     ]
    },
    {
     "name": "stderr",
     "output_type": "stream",
     "text": [
      "c:\\Users\\Alejandro\\AppData\\Local\\Programs\\Python\\Python312\\Lib\\site-packages\\sklearn\\base.py:1473: DataConversionWarning: A column-vector y was passed when a 1d array was expected. Please change the shape of y to (n_samples,), for example using ravel().\n",
      "  return fit_method(estimator, *args, **kwargs)\n"
     ]
    },
    {
     "name": "stdout",
     "output_type": "stream",
     "text": [
      "[CV] END ........................................max_depth=4; total time=   0.5s\n"
     ]
    },
    {
     "name": "stderr",
     "output_type": "stream",
     "text": [
      "c:\\Users\\Alejandro\\AppData\\Local\\Programs\\Python\\Python312\\Lib\\site-packages\\sklearn\\base.py:1473: DataConversionWarning: A column-vector y was passed when a 1d array was expected. Please change the shape of y to (n_samples,), for example using ravel().\n",
      "  return fit_method(estimator, *args, **kwargs)\n"
     ]
    },
    {
     "name": "stdout",
     "output_type": "stream",
     "text": [
      "[CV] END ........................................max_depth=4; total time=   0.5s\n"
     ]
    },
    {
     "name": "stderr",
     "output_type": "stream",
     "text": [
      "c:\\Users\\Alejandro\\AppData\\Local\\Programs\\Python\\Python312\\Lib\\site-packages\\sklearn\\base.py:1473: DataConversionWarning: A column-vector y was passed when a 1d array was expected. Please change the shape of y to (n_samples,), for example using ravel().\n",
      "  return fit_method(estimator, *args, **kwargs)\n"
     ]
    },
    {
     "name": "stdout",
     "output_type": "stream",
     "text": [
      "[CV] END ........................................max_depth=4; total time=   0.5s\n"
     ]
    },
    {
     "name": "stderr",
     "output_type": "stream",
     "text": [
      "c:\\Users\\Alejandro\\AppData\\Local\\Programs\\Python\\Python312\\Lib\\site-packages\\sklearn\\base.py:1473: DataConversionWarning: A column-vector y was passed when a 1d array was expected. Please change the shape of y to (n_samples,), for example using ravel().\n",
      "  return fit_method(estimator, *args, **kwargs)\n"
     ]
    },
    {
     "name": "stdout",
     "output_type": "stream",
     "text": [
      "[CV] END ........................................max_depth=4; total time=   0.5s\n"
     ]
    },
    {
     "name": "stderr",
     "output_type": "stream",
     "text": [
      "c:\\Users\\Alejandro\\AppData\\Local\\Programs\\Python\\Python312\\Lib\\site-packages\\sklearn\\base.py:1473: DataConversionWarning: A column-vector y was passed when a 1d array was expected. Please change the shape of y to (n_samples,), for example using ravel().\n",
      "  return fit_method(estimator, *args, **kwargs)\n"
     ]
    },
    {
     "name": "stdout",
     "output_type": "stream",
     "text": [
      "[CV] END ........................................max_depth=4; total time=   0.5s\n"
     ]
    },
    {
     "name": "stderr",
     "output_type": "stream",
     "text": [
      "c:\\Users\\Alejandro\\AppData\\Local\\Programs\\Python\\Python312\\Lib\\site-packages\\sklearn\\base.py:1473: DataConversionWarning: A column-vector y was passed when a 1d array was expected. Please change the shape of y to (n_samples,), for example using ravel().\n",
      "  return fit_method(estimator, *args, **kwargs)\n"
     ]
    },
    {
     "name": "stdout",
     "output_type": "stream",
     "text": [
      "[CV] END ........................................max_depth=5; total time=   0.6s\n"
     ]
    },
    {
     "name": "stderr",
     "output_type": "stream",
     "text": [
      "c:\\Users\\Alejandro\\AppData\\Local\\Programs\\Python\\Python312\\Lib\\site-packages\\sklearn\\base.py:1473: DataConversionWarning: A column-vector y was passed when a 1d array was expected. Please change the shape of y to (n_samples,), for example using ravel().\n",
      "  return fit_method(estimator, *args, **kwargs)\n"
     ]
    },
    {
     "name": "stdout",
     "output_type": "stream",
     "text": [
      "[CV] END ........................................max_depth=5; total time=   0.6s\n"
     ]
    },
    {
     "name": "stderr",
     "output_type": "stream",
     "text": [
      "c:\\Users\\Alejandro\\AppData\\Local\\Programs\\Python\\Python312\\Lib\\site-packages\\sklearn\\base.py:1473: DataConversionWarning: A column-vector y was passed when a 1d array was expected. Please change the shape of y to (n_samples,), for example using ravel().\n",
      "  return fit_method(estimator, *args, **kwargs)\n"
     ]
    },
    {
     "name": "stdout",
     "output_type": "stream",
     "text": [
      "[CV] END ........................................max_depth=5; total time=   0.6s\n"
     ]
    },
    {
     "name": "stderr",
     "output_type": "stream",
     "text": [
      "c:\\Users\\Alejandro\\AppData\\Local\\Programs\\Python\\Python312\\Lib\\site-packages\\sklearn\\base.py:1473: DataConversionWarning: A column-vector y was passed when a 1d array was expected. Please change the shape of y to (n_samples,), for example using ravel().\n",
      "  return fit_method(estimator, *args, **kwargs)\n"
     ]
    },
    {
     "name": "stdout",
     "output_type": "stream",
     "text": [
      "[CV] END ........................................max_depth=5; total time=   0.6s\n"
     ]
    },
    {
     "name": "stderr",
     "output_type": "stream",
     "text": [
      "c:\\Users\\Alejandro\\AppData\\Local\\Programs\\Python\\Python312\\Lib\\site-packages\\sklearn\\base.py:1473: DataConversionWarning: A column-vector y was passed when a 1d array was expected. Please change the shape of y to (n_samples,), for example using ravel().\n",
      "  return fit_method(estimator, *args, **kwargs)\n"
     ]
    },
    {
     "name": "stdout",
     "output_type": "stream",
     "text": [
      "[CV] END ........................................max_depth=5; total time=   0.6s\n"
     ]
    },
    {
     "name": "stderr",
     "output_type": "stream",
     "text": [
      "c:\\Users\\Alejandro\\AppData\\Local\\Programs\\Python\\Python312\\Lib\\site-packages\\sklearn\\base.py:1473: DataConversionWarning: A column-vector y was passed when a 1d array was expected. Please change the shape of y to (n_samples,), for example using ravel().\n",
      "  return fit_method(estimator, *args, **kwargs)\n"
     ]
    },
    {
     "name": "stdout",
     "output_type": "stream",
     "text": [
      "[CV] END ........................................max_depth=6; total time=   0.7s\n"
     ]
    },
    {
     "name": "stderr",
     "output_type": "stream",
     "text": [
      "c:\\Users\\Alejandro\\AppData\\Local\\Programs\\Python\\Python312\\Lib\\site-packages\\sklearn\\base.py:1473: DataConversionWarning: A column-vector y was passed when a 1d array was expected. Please change the shape of y to (n_samples,), for example using ravel().\n",
      "  return fit_method(estimator, *args, **kwargs)\n"
     ]
    },
    {
     "name": "stdout",
     "output_type": "stream",
     "text": [
      "[CV] END ........................................max_depth=6; total time=   0.7s\n"
     ]
    },
    {
     "name": "stderr",
     "output_type": "stream",
     "text": [
      "c:\\Users\\Alejandro\\AppData\\Local\\Programs\\Python\\Python312\\Lib\\site-packages\\sklearn\\base.py:1473: DataConversionWarning: A column-vector y was passed when a 1d array was expected. Please change the shape of y to (n_samples,), for example using ravel().\n",
      "  return fit_method(estimator, *args, **kwargs)\n"
     ]
    },
    {
     "name": "stdout",
     "output_type": "stream",
     "text": [
      "[CV] END ........................................max_depth=6; total time=   0.7s\n"
     ]
    },
    {
     "name": "stderr",
     "output_type": "stream",
     "text": [
      "c:\\Users\\Alejandro\\AppData\\Local\\Programs\\Python\\Python312\\Lib\\site-packages\\sklearn\\base.py:1473: DataConversionWarning: A column-vector y was passed when a 1d array was expected. Please change the shape of y to (n_samples,), for example using ravel().\n",
      "  return fit_method(estimator, *args, **kwargs)\n"
     ]
    },
    {
     "name": "stdout",
     "output_type": "stream",
     "text": [
      "[CV] END ........................................max_depth=6; total time=   0.7s\n"
     ]
    },
    {
     "name": "stderr",
     "output_type": "stream",
     "text": [
      "c:\\Users\\Alejandro\\AppData\\Local\\Programs\\Python\\Python312\\Lib\\site-packages\\sklearn\\base.py:1473: DataConversionWarning: A column-vector y was passed when a 1d array was expected. Please change the shape of y to (n_samples,), for example using ravel().\n",
      "  return fit_method(estimator, *args, **kwargs)\n"
     ]
    },
    {
     "name": "stdout",
     "output_type": "stream",
     "text": [
      "[CV] END ........................................max_depth=6; total time=   0.7s\n"
     ]
    },
    {
     "name": "stderr",
     "output_type": "stream",
     "text": [
      "c:\\Users\\Alejandro\\AppData\\Local\\Programs\\Python\\Python312\\Lib\\site-packages\\sklearn\\base.py:1473: DataConversionWarning: A column-vector y was passed when a 1d array was expected. Please change the shape of y to (n_samples,), for example using ravel().\n",
      "  return fit_method(estimator, *args, **kwargs)\n"
     ]
    },
    {
     "name": "stdout",
     "output_type": "stream",
     "text": [
      "[CV] END ........................................max_depth=7; total time=   0.8s\n"
     ]
    },
    {
     "name": "stderr",
     "output_type": "stream",
     "text": [
      "c:\\Users\\Alejandro\\AppData\\Local\\Programs\\Python\\Python312\\Lib\\site-packages\\sklearn\\base.py:1473: DataConversionWarning: A column-vector y was passed when a 1d array was expected. Please change the shape of y to (n_samples,), for example using ravel().\n",
      "  return fit_method(estimator, *args, **kwargs)\n"
     ]
    },
    {
     "name": "stdout",
     "output_type": "stream",
     "text": [
      "[CV] END ........................................max_depth=7; total time=   0.8s\n"
     ]
    },
    {
     "name": "stderr",
     "output_type": "stream",
     "text": [
      "c:\\Users\\Alejandro\\AppData\\Local\\Programs\\Python\\Python312\\Lib\\site-packages\\sklearn\\base.py:1473: DataConversionWarning: A column-vector y was passed when a 1d array was expected. Please change the shape of y to (n_samples,), for example using ravel().\n",
      "  return fit_method(estimator, *args, **kwargs)\n"
     ]
    },
    {
     "name": "stdout",
     "output_type": "stream",
     "text": [
      "[CV] END ........................................max_depth=7; total time=   0.8s\n"
     ]
    },
    {
     "name": "stderr",
     "output_type": "stream",
     "text": [
      "c:\\Users\\Alejandro\\AppData\\Local\\Programs\\Python\\Python312\\Lib\\site-packages\\sklearn\\base.py:1473: DataConversionWarning: A column-vector y was passed when a 1d array was expected. Please change the shape of y to (n_samples,), for example using ravel().\n",
      "  return fit_method(estimator, *args, **kwargs)\n"
     ]
    },
    {
     "name": "stdout",
     "output_type": "stream",
     "text": [
      "[CV] END ........................................max_depth=7; total time=   0.8s\n"
     ]
    },
    {
     "name": "stderr",
     "output_type": "stream",
     "text": [
      "c:\\Users\\Alejandro\\AppData\\Local\\Programs\\Python\\Python312\\Lib\\site-packages\\sklearn\\base.py:1473: DataConversionWarning: A column-vector y was passed when a 1d array was expected. Please change the shape of y to (n_samples,), for example using ravel().\n",
      "  return fit_method(estimator, *args, **kwargs)\n"
     ]
    },
    {
     "name": "stdout",
     "output_type": "stream",
     "text": [
      "[CV] END ........................................max_depth=7; total time=   0.8s\n"
     ]
    },
    {
     "name": "stderr",
     "output_type": "stream",
     "text": [
      "c:\\Users\\Alejandro\\AppData\\Local\\Programs\\Python\\Python312\\Lib\\site-packages\\sklearn\\base.py:1473: DataConversionWarning: A column-vector y was passed when a 1d array was expected. Please change the shape of y to (n_samples,), for example using ravel().\n",
      "  return fit_method(estimator, *args, **kwargs)\n"
     ]
    },
    {
     "name": "stdout",
     "output_type": "stream",
     "text": [
      "[CV] END ........................................max_depth=8; total time=   1.0s\n"
     ]
    },
    {
     "name": "stderr",
     "output_type": "stream",
     "text": [
      "c:\\Users\\Alejandro\\AppData\\Local\\Programs\\Python\\Python312\\Lib\\site-packages\\sklearn\\base.py:1473: DataConversionWarning: A column-vector y was passed when a 1d array was expected. Please change the shape of y to (n_samples,), for example using ravel().\n",
      "  return fit_method(estimator, *args, **kwargs)\n"
     ]
    },
    {
     "name": "stdout",
     "output_type": "stream",
     "text": [
      "[CV] END ........................................max_depth=8; total time=   0.9s\n"
     ]
    },
    {
     "name": "stderr",
     "output_type": "stream",
     "text": [
      "c:\\Users\\Alejandro\\AppData\\Local\\Programs\\Python\\Python312\\Lib\\site-packages\\sklearn\\base.py:1473: DataConversionWarning: A column-vector y was passed when a 1d array was expected. Please change the shape of y to (n_samples,), for example using ravel().\n",
      "  return fit_method(estimator, *args, **kwargs)\n"
     ]
    },
    {
     "name": "stdout",
     "output_type": "stream",
     "text": [
      "[CV] END ........................................max_depth=8; total time=   1.0s\n"
     ]
    },
    {
     "name": "stderr",
     "output_type": "stream",
     "text": [
      "c:\\Users\\Alejandro\\AppData\\Local\\Programs\\Python\\Python312\\Lib\\site-packages\\sklearn\\base.py:1473: DataConversionWarning: A column-vector y was passed when a 1d array was expected. Please change the shape of y to (n_samples,), for example using ravel().\n",
      "  return fit_method(estimator, *args, **kwargs)\n"
     ]
    },
    {
     "name": "stdout",
     "output_type": "stream",
     "text": [
      "[CV] END ........................................max_depth=8; total time=   0.9s\n"
     ]
    },
    {
     "name": "stderr",
     "output_type": "stream",
     "text": [
      "c:\\Users\\Alejandro\\AppData\\Local\\Programs\\Python\\Python312\\Lib\\site-packages\\sklearn\\base.py:1473: DataConversionWarning: A column-vector y was passed when a 1d array was expected. Please change the shape of y to (n_samples,), for example using ravel().\n",
      "  return fit_method(estimator, *args, **kwargs)\n"
     ]
    },
    {
     "name": "stdout",
     "output_type": "stream",
     "text": [
      "[CV] END ........................................max_depth=8; total time=   1.0s\n"
     ]
    },
    {
     "name": "stderr",
     "output_type": "stream",
     "text": [
      "c:\\Users\\Alejandro\\AppData\\Local\\Programs\\Python\\Python312\\Lib\\site-packages\\sklearn\\base.py:1473: DataConversionWarning: A column-vector y was passed when a 1d array was expected. Please change the shape of y to (n_samples,), for example using ravel().\n",
      "  return fit_method(estimator, *args, **kwargs)\n"
     ]
    },
    {
     "name": "stdout",
     "output_type": "stream",
     "text": [
      "[CV] END ........................................max_depth=9; total time=   1.0s\n"
     ]
    },
    {
     "name": "stderr",
     "output_type": "stream",
     "text": [
      "c:\\Users\\Alejandro\\AppData\\Local\\Programs\\Python\\Python312\\Lib\\site-packages\\sklearn\\base.py:1473: DataConversionWarning: A column-vector y was passed when a 1d array was expected. Please change the shape of y to (n_samples,), for example using ravel().\n",
      "  return fit_method(estimator, *args, **kwargs)\n"
     ]
    },
    {
     "name": "stdout",
     "output_type": "stream",
     "text": [
      "[CV] END ........................................max_depth=9; total time=   1.0s\n"
     ]
    },
    {
     "name": "stderr",
     "output_type": "stream",
     "text": [
      "c:\\Users\\Alejandro\\AppData\\Local\\Programs\\Python\\Python312\\Lib\\site-packages\\sklearn\\base.py:1473: DataConversionWarning: A column-vector y was passed when a 1d array was expected. Please change the shape of y to (n_samples,), for example using ravel().\n",
      "  return fit_method(estimator, *args, **kwargs)\n"
     ]
    },
    {
     "name": "stdout",
     "output_type": "stream",
     "text": [
      "[CV] END ........................................max_depth=9; total time=   1.0s\n"
     ]
    },
    {
     "name": "stderr",
     "output_type": "stream",
     "text": [
      "c:\\Users\\Alejandro\\AppData\\Local\\Programs\\Python\\Python312\\Lib\\site-packages\\sklearn\\base.py:1473: DataConversionWarning: A column-vector y was passed when a 1d array was expected. Please change the shape of y to (n_samples,), for example using ravel().\n",
      "  return fit_method(estimator, *args, **kwargs)\n"
     ]
    },
    {
     "name": "stdout",
     "output_type": "stream",
     "text": [
      "[CV] END ........................................max_depth=9; total time=   1.0s\n"
     ]
    },
    {
     "name": "stderr",
     "output_type": "stream",
     "text": [
      "c:\\Users\\Alejandro\\AppData\\Local\\Programs\\Python\\Python312\\Lib\\site-packages\\sklearn\\base.py:1473: DataConversionWarning: A column-vector y was passed when a 1d array was expected. Please change the shape of y to (n_samples,), for example using ravel().\n",
      "  return fit_method(estimator, *args, **kwargs)\n"
     ]
    },
    {
     "name": "stdout",
     "output_type": "stream",
     "text": [
      "[CV] END ........................................max_depth=9; total time=   1.0s\n"
     ]
    },
    {
     "name": "stderr",
     "output_type": "stream",
     "text": [
      "c:\\Users\\Alejandro\\AppData\\Local\\Programs\\Python\\Python312\\Lib\\site-packages\\sklearn\\base.py:1473: DataConversionWarning: A column-vector y was passed when a 1d array was expected. Please change the shape of y to (n_samples,), for example using ravel().\n",
      "  return fit_method(estimator, *args, **kwargs)\n"
     ]
    },
    {
     "name": "stdout",
     "output_type": "stream",
     "text": [
      "[CV] END .......................................max_depth=10; total time=   1.1s\n"
     ]
    },
    {
     "name": "stderr",
     "output_type": "stream",
     "text": [
      "c:\\Users\\Alejandro\\AppData\\Local\\Programs\\Python\\Python312\\Lib\\site-packages\\sklearn\\base.py:1473: DataConversionWarning: A column-vector y was passed when a 1d array was expected. Please change the shape of y to (n_samples,), for example using ravel().\n",
      "  return fit_method(estimator, *args, **kwargs)\n"
     ]
    },
    {
     "name": "stdout",
     "output_type": "stream",
     "text": [
      "[CV] END .......................................max_depth=10; total time=   1.1s\n"
     ]
    },
    {
     "name": "stderr",
     "output_type": "stream",
     "text": [
      "c:\\Users\\Alejandro\\AppData\\Local\\Programs\\Python\\Python312\\Lib\\site-packages\\sklearn\\base.py:1473: DataConversionWarning: A column-vector y was passed when a 1d array was expected. Please change the shape of y to (n_samples,), for example using ravel().\n",
      "  return fit_method(estimator, *args, **kwargs)\n"
     ]
    },
    {
     "name": "stdout",
     "output_type": "stream",
     "text": [
      "[CV] END .......................................max_depth=10; total time=   1.1s\n"
     ]
    },
    {
     "name": "stderr",
     "output_type": "stream",
     "text": [
      "c:\\Users\\Alejandro\\AppData\\Local\\Programs\\Python\\Python312\\Lib\\site-packages\\sklearn\\base.py:1473: DataConversionWarning: A column-vector y was passed when a 1d array was expected. Please change the shape of y to (n_samples,), for example using ravel().\n",
      "  return fit_method(estimator, *args, **kwargs)\n"
     ]
    },
    {
     "name": "stdout",
     "output_type": "stream",
     "text": [
      "[CV] END .......................................max_depth=10; total time=   1.1s\n"
     ]
    },
    {
     "name": "stderr",
     "output_type": "stream",
     "text": [
      "c:\\Users\\Alejandro\\AppData\\Local\\Programs\\Python\\Python312\\Lib\\site-packages\\sklearn\\base.py:1473: DataConversionWarning: A column-vector y was passed when a 1d array was expected. Please change the shape of y to (n_samples,), for example using ravel().\n",
      "  return fit_method(estimator, *args, **kwargs)\n"
     ]
    },
    {
     "name": "stdout",
     "output_type": "stream",
     "text": [
      "[CV] END .......................................max_depth=10; total time=   1.1s\n"
     ]
    },
    {
     "name": "stderr",
     "output_type": "stream",
     "text": [
      "c:\\Users\\Alejandro\\AppData\\Local\\Programs\\Python\\Python312\\Lib\\site-packages\\sklearn\\base.py:1473: DataConversionWarning: A column-vector y was passed when a 1d array was expected. Please change the shape of y to (n_samples,), for example using ravel().\n",
      "  return fit_method(estimator, *args, **kwargs)\n"
     ]
    },
    {
     "name": "stdout",
     "output_type": "stream",
     "text": [
      "[CV] END .......................................max_depth=11; total time=   1.2s\n"
     ]
    },
    {
     "name": "stderr",
     "output_type": "stream",
     "text": [
      "c:\\Users\\Alejandro\\AppData\\Local\\Programs\\Python\\Python312\\Lib\\site-packages\\sklearn\\base.py:1473: DataConversionWarning: A column-vector y was passed when a 1d array was expected. Please change the shape of y to (n_samples,), for example using ravel().\n",
      "  return fit_method(estimator, *args, **kwargs)\n"
     ]
    },
    {
     "name": "stdout",
     "output_type": "stream",
     "text": [
      "[CV] END .......................................max_depth=11; total time=   1.2s\n"
     ]
    },
    {
     "name": "stderr",
     "output_type": "stream",
     "text": [
      "c:\\Users\\Alejandro\\AppData\\Local\\Programs\\Python\\Python312\\Lib\\site-packages\\sklearn\\base.py:1473: DataConversionWarning: A column-vector y was passed when a 1d array was expected. Please change the shape of y to (n_samples,), for example using ravel().\n",
      "  return fit_method(estimator, *args, **kwargs)\n"
     ]
    },
    {
     "name": "stdout",
     "output_type": "stream",
     "text": [
      "[CV] END .......................................max_depth=11; total time=   1.3s\n"
     ]
    },
    {
     "name": "stderr",
     "output_type": "stream",
     "text": [
      "c:\\Users\\Alejandro\\AppData\\Local\\Programs\\Python\\Python312\\Lib\\site-packages\\sklearn\\base.py:1473: DataConversionWarning: A column-vector y was passed when a 1d array was expected. Please change the shape of y to (n_samples,), for example using ravel().\n",
      "  return fit_method(estimator, *args, **kwargs)\n"
     ]
    },
    {
     "name": "stdout",
     "output_type": "stream",
     "text": [
      "[CV] END .......................................max_depth=11; total time=   1.3s\n"
     ]
    },
    {
     "name": "stderr",
     "output_type": "stream",
     "text": [
      "c:\\Users\\Alejandro\\AppData\\Local\\Programs\\Python\\Python312\\Lib\\site-packages\\sklearn\\base.py:1473: DataConversionWarning: A column-vector y was passed when a 1d array was expected. Please change the shape of y to (n_samples,), for example using ravel().\n",
      "  return fit_method(estimator, *args, **kwargs)\n"
     ]
    },
    {
     "name": "stdout",
     "output_type": "stream",
     "text": [
      "[CV] END .......................................max_depth=11; total time=   1.3s\n"
     ]
    },
    {
     "name": "stderr",
     "output_type": "stream",
     "text": [
      "c:\\Users\\Alejandro\\AppData\\Local\\Programs\\Python\\Python312\\Lib\\site-packages\\sklearn\\base.py:1473: DataConversionWarning: A column-vector y was passed when a 1d array was expected. Please change the shape of y to (n_samples,), for example using ravel().\n",
      "  return fit_method(estimator, *args, **kwargs)\n"
     ]
    },
    {
     "name": "stdout",
     "output_type": "stream",
     "text": [
      "[CV] END .......................................max_depth=12; total time=   1.4s\n"
     ]
    },
    {
     "name": "stderr",
     "output_type": "stream",
     "text": [
      "c:\\Users\\Alejandro\\AppData\\Local\\Programs\\Python\\Python312\\Lib\\site-packages\\sklearn\\base.py:1473: DataConversionWarning: A column-vector y was passed when a 1d array was expected. Please change the shape of y to (n_samples,), for example using ravel().\n",
      "  return fit_method(estimator, *args, **kwargs)\n"
     ]
    },
    {
     "name": "stdout",
     "output_type": "stream",
     "text": [
      "[CV] END .......................................max_depth=12; total time=   1.4s\n"
     ]
    },
    {
     "name": "stderr",
     "output_type": "stream",
     "text": [
      "c:\\Users\\Alejandro\\AppData\\Local\\Programs\\Python\\Python312\\Lib\\site-packages\\sklearn\\base.py:1473: DataConversionWarning: A column-vector y was passed when a 1d array was expected. Please change the shape of y to (n_samples,), for example using ravel().\n",
      "  return fit_method(estimator, *args, **kwargs)\n"
     ]
    },
    {
     "name": "stdout",
     "output_type": "stream",
     "text": [
      "[CV] END .......................................max_depth=12; total time=   1.4s\n"
     ]
    },
    {
     "name": "stderr",
     "output_type": "stream",
     "text": [
      "c:\\Users\\Alejandro\\AppData\\Local\\Programs\\Python\\Python312\\Lib\\site-packages\\sklearn\\base.py:1473: DataConversionWarning: A column-vector y was passed when a 1d array was expected. Please change the shape of y to (n_samples,), for example using ravel().\n",
      "  return fit_method(estimator, *args, **kwargs)\n"
     ]
    },
    {
     "name": "stdout",
     "output_type": "stream",
     "text": [
      "[CV] END .......................................max_depth=12; total time=   1.4s\n"
     ]
    },
    {
     "name": "stderr",
     "output_type": "stream",
     "text": [
      "c:\\Users\\Alejandro\\AppData\\Local\\Programs\\Python\\Python312\\Lib\\site-packages\\sklearn\\base.py:1473: DataConversionWarning: A column-vector y was passed when a 1d array was expected. Please change the shape of y to (n_samples,), for example using ravel().\n",
      "  return fit_method(estimator, *args, **kwargs)\n"
     ]
    },
    {
     "name": "stdout",
     "output_type": "stream",
     "text": [
      "[CV] END .......................................max_depth=12; total time=   1.4s\n"
     ]
    },
    {
     "name": "stderr",
     "output_type": "stream",
     "text": [
      "c:\\Users\\Alejandro\\AppData\\Local\\Programs\\Python\\Python312\\Lib\\site-packages\\sklearn\\base.py:1473: DataConversionWarning: A column-vector y was passed when a 1d array was expected. Please change the shape of y to (n_samples,), for example using ravel().\n",
      "  return fit_method(estimator, *args, **kwargs)\n"
     ]
    },
    {
     "name": "stdout",
     "output_type": "stream",
     "text": [
      "[CV] END .......................................max_depth=13; total time=   1.5s\n"
     ]
    },
    {
     "name": "stderr",
     "output_type": "stream",
     "text": [
      "c:\\Users\\Alejandro\\AppData\\Local\\Programs\\Python\\Python312\\Lib\\site-packages\\sklearn\\base.py:1473: DataConversionWarning: A column-vector y was passed when a 1d array was expected. Please change the shape of y to (n_samples,), for example using ravel().\n",
      "  return fit_method(estimator, *args, **kwargs)\n"
     ]
    },
    {
     "name": "stdout",
     "output_type": "stream",
     "text": [
      "[CV] END .......................................max_depth=13; total time=   1.5s\n"
     ]
    },
    {
     "name": "stderr",
     "output_type": "stream",
     "text": [
      "c:\\Users\\Alejandro\\AppData\\Local\\Programs\\Python\\Python312\\Lib\\site-packages\\sklearn\\base.py:1473: DataConversionWarning: A column-vector y was passed when a 1d array was expected. Please change the shape of y to (n_samples,), for example using ravel().\n",
      "  return fit_method(estimator, *args, **kwargs)\n"
     ]
    },
    {
     "name": "stdout",
     "output_type": "stream",
     "text": [
      "[CV] END .......................................max_depth=13; total time=   1.5s\n"
     ]
    },
    {
     "name": "stderr",
     "output_type": "stream",
     "text": [
      "c:\\Users\\Alejandro\\AppData\\Local\\Programs\\Python\\Python312\\Lib\\site-packages\\sklearn\\base.py:1473: DataConversionWarning: A column-vector y was passed when a 1d array was expected. Please change the shape of y to (n_samples,), for example using ravel().\n",
      "  return fit_method(estimator, *args, **kwargs)\n"
     ]
    },
    {
     "name": "stdout",
     "output_type": "stream",
     "text": [
      "[CV] END .......................................max_depth=13; total time=   1.5s\n"
     ]
    },
    {
     "name": "stderr",
     "output_type": "stream",
     "text": [
      "c:\\Users\\Alejandro\\AppData\\Local\\Programs\\Python\\Python312\\Lib\\site-packages\\sklearn\\base.py:1473: DataConversionWarning: A column-vector y was passed when a 1d array was expected. Please change the shape of y to (n_samples,), for example using ravel().\n",
      "  return fit_method(estimator, *args, **kwargs)\n"
     ]
    },
    {
     "name": "stdout",
     "output_type": "stream",
     "text": [
      "[CV] END .......................................max_depth=13; total time=   1.5s\n"
     ]
    },
    {
     "name": "stderr",
     "output_type": "stream",
     "text": [
      "c:\\Users\\Alejandro\\AppData\\Local\\Programs\\Python\\Python312\\Lib\\site-packages\\sklearn\\base.py:1473: DataConversionWarning: A column-vector y was passed when a 1d array was expected. Please change the shape of y to (n_samples,), for example using ravel().\n",
      "  return fit_method(estimator, *args, **kwargs)\n"
     ]
    },
    {
     "name": "stdout",
     "output_type": "stream",
     "text": [
      "[CV] END .......................................max_depth=14; total time=   1.7s\n"
     ]
    },
    {
     "name": "stderr",
     "output_type": "stream",
     "text": [
      "c:\\Users\\Alejandro\\AppData\\Local\\Programs\\Python\\Python312\\Lib\\site-packages\\sklearn\\base.py:1473: DataConversionWarning: A column-vector y was passed when a 1d array was expected. Please change the shape of y to (n_samples,), for example using ravel().\n",
      "  return fit_method(estimator, *args, **kwargs)\n"
     ]
    },
    {
     "name": "stdout",
     "output_type": "stream",
     "text": [
      "[CV] END .......................................max_depth=14; total time=   1.7s\n"
     ]
    },
    {
     "name": "stderr",
     "output_type": "stream",
     "text": [
      "c:\\Users\\Alejandro\\AppData\\Local\\Programs\\Python\\Python312\\Lib\\site-packages\\sklearn\\base.py:1473: DataConversionWarning: A column-vector y was passed when a 1d array was expected. Please change the shape of y to (n_samples,), for example using ravel().\n",
      "  return fit_method(estimator, *args, **kwargs)\n"
     ]
    },
    {
     "name": "stdout",
     "output_type": "stream",
     "text": [
      "[CV] END .......................................max_depth=14; total time=   1.7s\n"
     ]
    },
    {
     "name": "stderr",
     "output_type": "stream",
     "text": [
      "c:\\Users\\Alejandro\\AppData\\Local\\Programs\\Python\\Python312\\Lib\\site-packages\\sklearn\\base.py:1473: DataConversionWarning: A column-vector y was passed when a 1d array was expected. Please change the shape of y to (n_samples,), for example using ravel().\n",
      "  return fit_method(estimator, *args, **kwargs)\n"
     ]
    },
    {
     "name": "stdout",
     "output_type": "stream",
     "text": [
      "[CV] END .......................................max_depth=14; total time=   1.7s\n"
     ]
    },
    {
     "name": "stderr",
     "output_type": "stream",
     "text": [
      "c:\\Users\\Alejandro\\AppData\\Local\\Programs\\Python\\Python312\\Lib\\site-packages\\sklearn\\base.py:1473: DataConversionWarning: A column-vector y was passed when a 1d array was expected. Please change the shape of y to (n_samples,), for example using ravel().\n",
      "  return fit_method(estimator, *args, **kwargs)\n"
     ]
    },
    {
     "name": "stdout",
     "output_type": "stream",
     "text": [
      "[CV] END .......................................max_depth=14; total time=   1.7s\n"
     ]
    },
    {
     "name": "stderr",
     "output_type": "stream",
     "text": [
      "c:\\Users\\Alejandro\\AppData\\Local\\Programs\\Python\\Python312\\Lib\\site-packages\\sklearn\\base.py:1473: DataConversionWarning: A column-vector y was passed when a 1d array was expected. Please change the shape of y to (n_samples,), for example using ravel().\n",
      "  return fit_method(estimator, *args, **kwargs)\n"
     ]
    },
    {
     "name": "stdout",
     "output_type": "stream",
     "text": [
      "[CV] END .......................................max_depth=15; total time=   1.8s\n"
     ]
    },
    {
     "name": "stderr",
     "output_type": "stream",
     "text": [
      "c:\\Users\\Alejandro\\AppData\\Local\\Programs\\Python\\Python312\\Lib\\site-packages\\sklearn\\base.py:1473: DataConversionWarning: A column-vector y was passed when a 1d array was expected. Please change the shape of y to (n_samples,), for example using ravel().\n",
      "  return fit_method(estimator, *args, **kwargs)\n"
     ]
    },
    {
     "name": "stdout",
     "output_type": "stream",
     "text": [
      "[CV] END .......................................max_depth=15; total time=   1.8s\n"
     ]
    },
    {
     "name": "stderr",
     "output_type": "stream",
     "text": [
      "c:\\Users\\Alejandro\\AppData\\Local\\Programs\\Python\\Python312\\Lib\\site-packages\\sklearn\\base.py:1473: DataConversionWarning: A column-vector y was passed when a 1d array was expected. Please change the shape of y to (n_samples,), for example using ravel().\n",
      "  return fit_method(estimator, *args, **kwargs)\n"
     ]
    },
    {
     "name": "stdout",
     "output_type": "stream",
     "text": [
      "[CV] END .......................................max_depth=15; total time=   1.9s\n"
     ]
    },
    {
     "name": "stderr",
     "output_type": "stream",
     "text": [
      "c:\\Users\\Alejandro\\AppData\\Local\\Programs\\Python\\Python312\\Lib\\site-packages\\sklearn\\base.py:1473: DataConversionWarning: A column-vector y was passed when a 1d array was expected. Please change the shape of y to (n_samples,), for example using ravel().\n",
      "  return fit_method(estimator, *args, **kwargs)\n"
     ]
    },
    {
     "name": "stdout",
     "output_type": "stream",
     "text": [
      "[CV] END .......................................max_depth=15; total time=   1.8s\n"
     ]
    },
    {
     "name": "stderr",
     "output_type": "stream",
     "text": [
      "c:\\Users\\Alejandro\\AppData\\Local\\Programs\\Python\\Python312\\Lib\\site-packages\\sklearn\\base.py:1473: DataConversionWarning: A column-vector y was passed when a 1d array was expected. Please change the shape of y to (n_samples,), for example using ravel().\n",
      "  return fit_method(estimator, *args, **kwargs)\n"
     ]
    },
    {
     "name": "stdout",
     "output_type": "stream",
     "text": [
      "[CV] END .......................................max_depth=15; total time=   1.8s\n"
     ]
    },
    {
     "name": "stderr",
     "output_type": "stream",
     "text": [
      "c:\\Users\\Alejandro\\AppData\\Local\\Programs\\Python\\Python312\\Lib\\site-packages\\sklearn\\base.py:1473: DataConversionWarning: A column-vector y was passed when a 1d array was expected. Please change the shape of y to (n_samples,), for example using ravel().\n",
      "  return fit_method(estimator, *args, **kwargs)\n"
     ]
    },
    {
     "name": "stdout",
     "output_type": "stream",
     "text": [
      "[CV] END .......................................max_depth=16; total time=   2.0s\n"
     ]
    },
    {
     "name": "stderr",
     "output_type": "stream",
     "text": [
      "c:\\Users\\Alejandro\\AppData\\Local\\Programs\\Python\\Python312\\Lib\\site-packages\\sklearn\\base.py:1473: DataConversionWarning: A column-vector y was passed when a 1d array was expected. Please change the shape of y to (n_samples,), for example using ravel().\n",
      "  return fit_method(estimator, *args, **kwargs)\n"
     ]
    },
    {
     "name": "stdout",
     "output_type": "stream",
     "text": [
      "[CV] END .......................................max_depth=16; total time=   2.0s\n"
     ]
    },
    {
     "name": "stderr",
     "output_type": "stream",
     "text": [
      "c:\\Users\\Alejandro\\AppData\\Local\\Programs\\Python\\Python312\\Lib\\site-packages\\sklearn\\base.py:1473: DataConversionWarning: A column-vector y was passed when a 1d array was expected. Please change the shape of y to (n_samples,), for example using ravel().\n",
      "  return fit_method(estimator, *args, **kwargs)\n"
     ]
    },
    {
     "name": "stdout",
     "output_type": "stream",
     "text": [
      "[CV] END .......................................max_depth=16; total time=   2.0s\n"
     ]
    },
    {
     "name": "stderr",
     "output_type": "stream",
     "text": [
      "c:\\Users\\Alejandro\\AppData\\Local\\Programs\\Python\\Python312\\Lib\\site-packages\\sklearn\\base.py:1473: DataConversionWarning: A column-vector y was passed when a 1d array was expected. Please change the shape of y to (n_samples,), for example using ravel().\n",
      "  return fit_method(estimator, *args, **kwargs)\n"
     ]
    },
    {
     "name": "stdout",
     "output_type": "stream",
     "text": [
      "[CV] END .......................................max_depth=16; total time=   2.0s\n"
     ]
    },
    {
     "name": "stderr",
     "output_type": "stream",
     "text": [
      "c:\\Users\\Alejandro\\AppData\\Local\\Programs\\Python\\Python312\\Lib\\site-packages\\sklearn\\base.py:1473: DataConversionWarning: A column-vector y was passed when a 1d array was expected. Please change the shape of y to (n_samples,), for example using ravel().\n",
      "  return fit_method(estimator, *args, **kwargs)\n"
     ]
    },
    {
     "name": "stdout",
     "output_type": "stream",
     "text": [
      "[CV] END .......................................max_depth=16; total time=   2.0s\n"
     ]
    },
    {
     "name": "stderr",
     "output_type": "stream",
     "text": [
      "c:\\Users\\Alejandro\\AppData\\Local\\Programs\\Python\\Python312\\Lib\\site-packages\\sklearn\\base.py:1473: DataConversionWarning: A column-vector y was passed when a 1d array was expected. Please change the shape of y to (n_samples,), for example using ravel().\n",
      "  return fit_method(estimator, *args, **kwargs)\n"
     ]
    },
    {
     "name": "stdout",
     "output_type": "stream",
     "text": [
      "[CV] END .......................................max_depth=17; total time=   2.1s\n"
     ]
    },
    {
     "name": "stderr",
     "output_type": "stream",
     "text": [
      "c:\\Users\\Alejandro\\AppData\\Local\\Programs\\Python\\Python312\\Lib\\site-packages\\sklearn\\base.py:1473: DataConversionWarning: A column-vector y was passed when a 1d array was expected. Please change the shape of y to (n_samples,), for example using ravel().\n",
      "  return fit_method(estimator, *args, **kwargs)\n"
     ]
    },
    {
     "name": "stdout",
     "output_type": "stream",
     "text": [
      "[CV] END .......................................max_depth=17; total time=   2.2s\n"
     ]
    },
    {
     "name": "stderr",
     "output_type": "stream",
     "text": [
      "c:\\Users\\Alejandro\\AppData\\Local\\Programs\\Python\\Python312\\Lib\\site-packages\\sklearn\\base.py:1473: DataConversionWarning: A column-vector y was passed when a 1d array was expected. Please change the shape of y to (n_samples,), for example using ravel().\n",
      "  return fit_method(estimator, *args, **kwargs)\n"
     ]
    },
    {
     "name": "stdout",
     "output_type": "stream",
     "text": [
      "[CV] END .......................................max_depth=17; total time=   2.2s\n"
     ]
    },
    {
     "name": "stderr",
     "output_type": "stream",
     "text": [
      "c:\\Users\\Alejandro\\AppData\\Local\\Programs\\Python\\Python312\\Lib\\site-packages\\sklearn\\base.py:1473: DataConversionWarning: A column-vector y was passed when a 1d array was expected. Please change the shape of y to (n_samples,), for example using ravel().\n",
      "  return fit_method(estimator, *args, **kwargs)\n"
     ]
    },
    {
     "name": "stdout",
     "output_type": "stream",
     "text": [
      "[CV] END .......................................max_depth=17; total time=   2.2s\n"
     ]
    },
    {
     "name": "stderr",
     "output_type": "stream",
     "text": [
      "c:\\Users\\Alejandro\\AppData\\Local\\Programs\\Python\\Python312\\Lib\\site-packages\\sklearn\\base.py:1473: DataConversionWarning: A column-vector y was passed when a 1d array was expected. Please change the shape of y to (n_samples,), for example using ravel().\n",
      "  return fit_method(estimator, *args, **kwargs)\n"
     ]
    },
    {
     "name": "stdout",
     "output_type": "stream",
     "text": [
      "[CV] END .......................................max_depth=17; total time=   2.2s\n"
     ]
    },
    {
     "name": "stderr",
     "output_type": "stream",
     "text": [
      "c:\\Users\\Alejandro\\AppData\\Local\\Programs\\Python\\Python312\\Lib\\site-packages\\sklearn\\base.py:1473: DataConversionWarning: A column-vector y was passed when a 1d array was expected. Please change the shape of y to (n_samples,), for example using ravel().\n",
      "  return fit_method(estimator, *args, **kwargs)\n"
     ]
    },
    {
     "name": "stdout",
     "output_type": "stream",
     "text": [
      "[CV] END .......................................max_depth=18; total time=   2.3s\n"
     ]
    },
    {
     "name": "stderr",
     "output_type": "stream",
     "text": [
      "c:\\Users\\Alejandro\\AppData\\Local\\Programs\\Python\\Python312\\Lib\\site-packages\\sklearn\\base.py:1473: DataConversionWarning: A column-vector y was passed when a 1d array was expected. Please change the shape of y to (n_samples,), for example using ravel().\n",
      "  return fit_method(estimator, *args, **kwargs)\n"
     ]
    },
    {
     "name": "stdout",
     "output_type": "stream",
     "text": [
      "[CV] END .......................................max_depth=18; total time=   2.3s\n"
     ]
    },
    {
     "name": "stderr",
     "output_type": "stream",
     "text": [
      "c:\\Users\\Alejandro\\AppData\\Local\\Programs\\Python\\Python312\\Lib\\site-packages\\sklearn\\base.py:1473: DataConversionWarning: A column-vector y was passed when a 1d array was expected. Please change the shape of y to (n_samples,), for example using ravel().\n",
      "  return fit_method(estimator, *args, **kwargs)\n"
     ]
    },
    {
     "name": "stdout",
     "output_type": "stream",
     "text": [
      "[CV] END .......................................max_depth=18; total time=   2.3s\n"
     ]
    },
    {
     "name": "stderr",
     "output_type": "stream",
     "text": [
      "c:\\Users\\Alejandro\\AppData\\Local\\Programs\\Python\\Python312\\Lib\\site-packages\\sklearn\\base.py:1473: DataConversionWarning: A column-vector y was passed when a 1d array was expected. Please change the shape of y to (n_samples,), for example using ravel().\n",
      "  return fit_method(estimator, *args, **kwargs)\n"
     ]
    },
    {
     "name": "stdout",
     "output_type": "stream",
     "text": [
      "[CV] END .......................................max_depth=18; total time=   2.3s\n"
     ]
    },
    {
     "name": "stderr",
     "output_type": "stream",
     "text": [
      "c:\\Users\\Alejandro\\AppData\\Local\\Programs\\Python\\Python312\\Lib\\site-packages\\sklearn\\base.py:1473: DataConversionWarning: A column-vector y was passed when a 1d array was expected. Please change the shape of y to (n_samples,), for example using ravel().\n",
      "  return fit_method(estimator, *args, **kwargs)\n"
     ]
    },
    {
     "name": "stdout",
     "output_type": "stream",
     "text": [
      "[CV] END .......................................max_depth=18; total time=   2.3s\n"
     ]
    },
    {
     "name": "stderr",
     "output_type": "stream",
     "text": [
      "c:\\Users\\Alejandro\\AppData\\Local\\Programs\\Python\\Python312\\Lib\\site-packages\\sklearn\\base.py:1473: DataConversionWarning: A column-vector y was passed when a 1d array was expected. Please change the shape of y to (n_samples,), for example using ravel().\n",
      "  return fit_method(estimator, *args, **kwargs)\n"
     ]
    },
    {
     "name": "stdout",
     "output_type": "stream",
     "text": [
      "[CV] END .......................................max_depth=19; total time=   2.4s\n"
     ]
    },
    {
     "name": "stderr",
     "output_type": "stream",
     "text": [
      "c:\\Users\\Alejandro\\AppData\\Local\\Programs\\Python\\Python312\\Lib\\site-packages\\sklearn\\base.py:1473: DataConversionWarning: A column-vector y was passed when a 1d array was expected. Please change the shape of y to (n_samples,), for example using ravel().\n",
      "  return fit_method(estimator, *args, **kwargs)\n"
     ]
    },
    {
     "name": "stdout",
     "output_type": "stream",
     "text": [
      "[CV] END .......................................max_depth=19; total time=   2.4s\n"
     ]
    },
    {
     "name": "stderr",
     "output_type": "stream",
     "text": [
      "c:\\Users\\Alejandro\\AppData\\Local\\Programs\\Python\\Python312\\Lib\\site-packages\\sklearn\\base.py:1473: DataConversionWarning: A column-vector y was passed when a 1d array was expected. Please change the shape of y to (n_samples,), for example using ravel().\n",
      "  return fit_method(estimator, *args, **kwargs)\n"
     ]
    },
    {
     "name": "stdout",
     "output_type": "stream",
     "text": [
      "[CV] END .......................................max_depth=19; total time=   2.4s\n"
     ]
    },
    {
     "name": "stderr",
     "output_type": "stream",
     "text": [
      "c:\\Users\\Alejandro\\AppData\\Local\\Programs\\Python\\Python312\\Lib\\site-packages\\sklearn\\base.py:1473: DataConversionWarning: A column-vector y was passed when a 1d array was expected. Please change the shape of y to (n_samples,), for example using ravel().\n",
      "  return fit_method(estimator, *args, **kwargs)\n"
     ]
    },
    {
     "name": "stdout",
     "output_type": "stream",
     "text": [
      "[CV] END .......................................max_depth=19; total time=   2.4s\n"
     ]
    },
    {
     "name": "stderr",
     "output_type": "stream",
     "text": [
      "c:\\Users\\Alejandro\\AppData\\Local\\Programs\\Python\\Python312\\Lib\\site-packages\\sklearn\\base.py:1473: DataConversionWarning: A column-vector y was passed when a 1d array was expected. Please change the shape of y to (n_samples,), for example using ravel().\n",
      "  return fit_method(estimator, *args, **kwargs)\n"
     ]
    },
    {
     "name": "stdout",
     "output_type": "stream",
     "text": [
      "[CV] END .......................................max_depth=19; total time=   2.3s\n"
     ]
    },
    {
     "name": "stderr",
     "output_type": "stream",
     "text": [
      "c:\\Users\\Alejandro\\AppData\\Local\\Programs\\Python\\Python312\\Lib\\site-packages\\numpy\\ma\\core.py:2846: RuntimeWarning: invalid value encountered in cast\n",
      "  _data = np.array(data, dtype=dtype, copy=copy,\n",
      "c:\\Users\\Alejandro\\AppData\\Local\\Programs\\Python\\Python312\\Lib\\site-packages\\sklearn\\base.py:1473: DataConversionWarning: A column-vector y was passed when a 1d array was expected. Please change the shape of y to (n_samples,), for example using ravel().\n",
      "  return fit_method(estimator, *args, **kwargs)\n"
     ]
    },
    {
     "name": "stdout",
     "output_type": "stream",
     "text": [
      "best mean cross-validation score: 0.859\n",
      "best parameters: {'max_depth': 15}\n"
     ]
    },
    {
     "data": {
      "image/png": "[encoded data removed]",
      "text/plain": [
       "<Figure size 640x480 with 1 Axes>"
      ]
     },
     "metadata": {},
     "output_type": "display_data"
    }
   ],
   "source": [
    "from sklearn.ensemble import RandomForestRegressor\n",
    "\n",
    "maxDepth = range(1,20)\n",
    "tuned_parameters = {'max_depth': maxDepth}\n",
    "\n",
    "grid = GridSearchCV(RandomForestRegressor(random_state=0, n_estimators=200, max_features='sqrt'), param_grid=tuned_parameters,cv=5, verbose=2) # Se aumentan los Cross Validation Folds para tener una mayor precision y certeza de la funcionalidad del modelo\n",
    "grid.fit(X_train, y_train)                                                                                                                       \n",
    "\n",
    "print(\"best mean cross-validation score: {:.3f}\".format(grid.best_score_))\n",
    "print(\"best parameters: {}\".format(grid.best_params_))\n",
    "\n",
    "scores = np.array(grid.cv_results_['mean_test_score'])\n",
    "plt.plot(maxDepth,scores,'-o')\n",
    "plt.xlabel('max_depth')\n",
    "plt.ylabel('10-fold ACC')\n",
    "\n",
    "plt.show()"
   ]
  },
  {
   "cell_type": "code",
   "execution_count": 51,
   "metadata": {},
   "outputs": [
    {
     "name": "stderr",
     "output_type": "stream",
     "text": [
      "c:\\Users\\Alejandro\\AppData\\Local\\Programs\\Python\\Python312\\Lib\\site-packages\\sklearn\\base.py:1473: DataConversionWarning: A column-vector y was passed when a 1d array was expected. Please change the shape of y to (n_samples,), for example using ravel().\n",
      "  return fit_method(estimator, *args, **kwargs)\n"
     ]
    },
    {
     "name": "stdout",
     "output_type": "stream",
     "text": [
      "Train:  0.9716092388844827\n",
      "Test:  0.8484591603913033\n"
     ]
    }
   ],
   "source": [
    "maxDepthOptimo = grid.best_params_['max_depth']\n",
    "randomForest = RandomForestRegressor(max_depth=maxDepthOptimo,n_estimators=200,max_features='sqrt').fit(X_train,y_train)\n",
    "\n",
    "print(\"Train: \",randomForest.score(X_train,y_train))\n",
    "print(\"Test: \",randomForest.score(X_test,y_test))"
   ]
  },
  {
   "cell_type": "code",
   "execution_count": 52,
   "metadata": {},
   "outputs": [
    {
     "data": {
      "image/png": "[encoded data removed]",
      "text/plain": [
       "<Figure size 1000x1000 with 1 Axes>"
      ]
     },
     "metadata": {},
     "output_type": "display_data"
    }
   ],
   "source": [
    "importances_rf = randomForest.feature_importances_\n",
    "importances_rf = importances_rf / np.max(importances_rf)\n",
    "\n",
    "indices_rf = np.argsort(importances_rf)[::-1]\n",
    "\n",
    "plt.figure(figsize=(10,10))\n",
    "plt.barh(range(X_train.shape[1]),importances_rf[indices_rf])\n",
    "plt.yticks(range(X_train.shape[1]),feature_names[indices_rf])\n",
    "plt.show()"
   ]
  },
  {
   "cell_type": "markdown",
   "metadata": {},
   "source": [
    "#### **Conclusiones Finales**"
   ]
  },
  {
   "cell_type": "markdown",
   "metadata": {},
   "source": [
    "***Lasso*** y ***RandomForest*** \n",
    "\n",
    "- Podemos ver que ambos modelos le dieron la mayor importancia a las mismas variables:\n",
    "    - Amenities\n",
    "    - City\n",
    "    - Bedrooms\n",
    "\n",
    "Por lo cual se podria estimar que estas variables son las que mas afectan en un aspecto general al precio\n",
    "\n",
    "- Por otro lado se ve que el rendimiento de RandomForest dio mejores resultados generales teniendo unos puntajes de **(0.97)** en ***train*** y **(0.84)** en ***test***.\n",
    "\n",
    "- El analisis inicial dio buenos resultados pero para futuros analisis con la informacion conseguida se pudieron eliminar algunas variables que demsotraron no tener valor alguno o afectar la variable objetivo(precio) de ninguna manera. A su vez la unformacion adquirida por parte del dataset pudo ser mejor ya que faltaron variables por falta de datos como el area del apartemento/casa etc...\n",
    "\n",
    "- Otro ejercicio seria  utilizar mas modelos para apreciar sus diferencia con respecto a RandomForest que fue el que genero mejores resultados."
   ]
  }
 ],
 "metadata": {
  "kernelspec": {
   "display_name": "Python 3",
   "language": "python",
   "name": "python3"
  },
  "language_info": {
   "codemirror_mode": {
    "name": "ipython",
    "version": 3
   },
   "file_extension": ".py",
   "mimetype": "text/x-python",
   "name": "python",
   "nbconvert_exporter": "python",
   "pygments_lexer": "ipython3",
   "version": "3.12.4"
  }
 },
 "nbformat": 4,
 "nbformat_minor": 2
}
